{
 "cells": [
  {
   "cell_type": "markdown",
   "id": "ce5834df",
   "metadata": {},
   "source": [
    "# Predicting Delivery Status for a Shipment by estimating the Shipment Delays\n",
    "\n",
    "\n",
    "<h4> Research Description : </h4> \n",
    "\n",
    "In today’s fast-paced world, efficient delivery and logistics are crucial for businesses. Predicting delivery times accurately and estimating shipment delays can help companies \n",
    "streamline their operations, optimize resources, and provide better customer service. Machine learning techniques can be employed to analyze historical data and build predictive \n",
    "models that can forecast delivery times and identify potential delays.\n",
    "\n",
    "I will consider one such example dataset from FedEx logictics company. Here, Business has to evaluate a lot of factors before taking a decision to deliver a package. The objective \n",
    "of this project is to optimize the process of planning delivery.\n",
    "\n",
    "Predicting delivery time and estimating shipment delays with machine learning can be a valuable tool for businesses in the logistics industry. It allows them to make data-driven \n",
    "decisions, optimize their operations, and provide better service to their customers.To address this I am working on this project which will maximize the security of deliveries and\n",
    "minimize dissappointments of lost.\n",
    "\n",
    "<h4> Goal : </h4>\n",
    "\n",
    "Before diving into the implementation, let’s understand the problem we are trying to solve. Our goal is to predict the delivery status for shipments and by estimating potential \n",
    "delays and compare with the Planned_Delivery_Time based on historical data from 2008. We will use machine learning algorithms to train a model that can learn from past deliveries \n",
    "and make predictions on new, unseen data. The analysis also include other features to predict the delivery_status.\n",
    "\n",
    "\n"
   ]
  },
  {
   "cell_type": "markdown",
   "id": "2511cca2",
   "metadata": {},
   "source": [
    "<h3> Standard import libraries </h3>"
   ]
  },
  {
   "cell_type": "code",
   "execution_count": 57,
   "id": "debacfcf",
   "metadata": {},
   "outputs": [],
   "source": [
    "import pandas as pd\n",
    "import numpy as np\n",
    "from datetime import datetime\n",
    "\n",
    "import matplotlib.pyplot as plt\n",
    "%matplotlib inline\n",
    "import seaborn as sns\n",
    "import plotly.express as px\n",
    "\n",
    "\n",
    "import warnings\n",
    "warnings.filterwarnings('ignore')"
   ]
  },
  {
   "cell_type": "code",
   "execution_count": 26,
   "id": "6fca0525",
   "metadata": {},
   "outputs": [],
   "source": [
    "df = pd.read_csv('data/fedex.csv')"
   ]
  },
  {
   "cell_type": "code",
   "execution_count": 27,
   "id": "b6331193",
   "metadata": {},
   "outputs": [
    {
     "name": "stdout",
     "output_type": "stream",
     "text": [
      "<class 'pandas.core.frame.DataFrame'>\n",
      "RangeIndex: 3604175 entries, 0 to 3604174\n",
      "Data columns (total 15 columns):\n",
      " #   Column                 Dtype  \n",
      "---  ------                 -----  \n",
      " 0   Year                   int64  \n",
      " 1   Month                  int64  \n",
      " 2   DayofMonth             int64  \n",
      " 3   DayOfWeek              int64  \n",
      " 4   Actual_Shipment_Time   float64\n",
      " 5   Planned_Shipment_Time  int64  \n",
      " 6   Planned_Delivery_Time  int64  \n",
      " 7   Carrier_Name           object \n",
      " 8   Carrier_Num            int64  \n",
      " 9   Planned_TimeofTravel   float64\n",
      " 10  Shipment_Delay         float64\n",
      " 11  Source                 object \n",
      " 12  Destination            object \n",
      " 13  Distance               int64  \n",
      " 14  Delivery_Status        float64\n",
      "dtypes: float64(4), int64(8), object(3)\n",
      "memory usage: 412.5+ MB\n"
     ]
    }
   ],
   "source": [
    "df.info()"
   ]
  },
  {
   "cell_type": "code",
   "execution_count": 28,
   "id": "217250cd",
   "metadata": {},
   "outputs": [
    {
     "data": {
      "text/html": [
       "<div>\n",
       "<style scoped>\n",
       "    .dataframe tbody tr th:only-of-type {\n",
       "        vertical-align: middle;\n",
       "    }\n",
       "\n",
       "    .dataframe tbody tr th {\n",
       "        vertical-align: top;\n",
       "    }\n",
       "\n",
       "    .dataframe thead th {\n",
       "        text-align: right;\n",
       "    }\n",
       "</style>\n",
       "<table border=\"1\" class=\"dataframe\">\n",
       "  <thead>\n",
       "    <tr style=\"text-align: right;\">\n",
       "      <th></th>\n",
       "      <th>Year</th>\n",
       "      <th>Month</th>\n",
       "      <th>DayofMonth</th>\n",
       "      <th>DayOfWeek</th>\n",
       "      <th>Actual_Shipment_Time</th>\n",
       "      <th>Planned_Shipment_Time</th>\n",
       "      <th>Planned_Delivery_Time</th>\n",
       "      <th>Carrier_Name</th>\n",
       "      <th>Carrier_Num</th>\n",
       "      <th>Planned_TimeofTravel</th>\n",
       "      <th>Shipment_Delay</th>\n",
       "      <th>Source</th>\n",
       "      <th>Destination</th>\n",
       "      <th>Distance</th>\n",
       "      <th>Delivery_Status</th>\n",
       "    </tr>\n",
       "  </thead>\n",
       "  <tbody>\n",
       "    <tr>\n",
       "      <th>439991</th>\n",
       "      <td>2008</td>\n",
       "      <td>1</td>\n",
       "      <td>22</td>\n",
       "      <td>2</td>\n",
       "      <td>1135.0</td>\n",
       "      <td>1138</td>\n",
       "      <td>1310</td>\n",
       "      <td>NW</td>\n",
       "      <td>932</td>\n",
       "      <td>92.0</td>\n",
       "      <td>-3.0</td>\n",
       "      <td>VPS</td>\n",
       "      <td>MEM</td>\n",
       "      <td>369</td>\n",
       "      <td>0.0</td>\n",
       "    </tr>\n",
       "    <tr>\n",
       "      <th>2558459</th>\n",
       "      <td>2008</td>\n",
       "      <td>5</td>\n",
       "      <td>2</td>\n",
       "      <td>5</td>\n",
       "      <td>1200.0</td>\n",
       "      <td>1205</td>\n",
       "      <td>1257</td>\n",
       "      <td>OO</td>\n",
       "      <td>3744</td>\n",
       "      <td>112.0</td>\n",
       "      <td>-5.0</td>\n",
       "      <td>SLC</td>\n",
       "      <td>BUR</td>\n",
       "      <td>574</td>\n",
       "      <td>0.0</td>\n",
       "    </tr>\n",
       "    <tr>\n",
       "      <th>3453121</th>\n",
       "      <td>2008</td>\n",
       "      <td>6</td>\n",
       "      <td>21</td>\n",
       "      <td>6</td>\n",
       "      <td>1332.0</td>\n",
       "      <td>1329</td>\n",
       "      <td>1535</td>\n",
       "      <td>9E</td>\n",
       "      <td>2054</td>\n",
       "      <td>126.0</td>\n",
       "      <td>3.0</td>\n",
       "      <td>ATL</td>\n",
       "      <td>BUF</td>\n",
       "      <td>712</td>\n",
       "      <td>0.0</td>\n",
       "    </tr>\n",
       "    <tr>\n",
       "      <th>3543347</th>\n",
       "      <td>2008</td>\n",
       "      <td>6</td>\n",
       "      <td>11</td>\n",
       "      <td>3</td>\n",
       "      <td>1227.0</td>\n",
       "      <td>1233</td>\n",
       "      <td>1500</td>\n",
       "      <td>B6</td>\n",
       "      <td>189</td>\n",
       "      <td>327.0</td>\n",
       "      <td>-6.0</td>\n",
       "      <td>JFK</td>\n",
       "      <td>LAS</td>\n",
       "      <td>2248</td>\n",
       "      <td>0.0</td>\n",
       "    </tr>\n",
       "    <tr>\n",
       "      <th>3551</th>\n",
       "      <td>2008</td>\n",
       "      <td>1</td>\n",
       "      <td>4</td>\n",
       "      <td>5</td>\n",
       "      <td>1828.0</td>\n",
       "      <td>1730</td>\n",
       "      <td>50</td>\n",
       "      <td>WN</td>\n",
       "      <td>2632</td>\n",
       "      <td>260.0</td>\n",
       "      <td>58.0</td>\n",
       "      <td>LAS</td>\n",
       "      <td>BWI</td>\n",
       "      <td>2106</td>\n",
       "      <td>1.0</td>\n",
       "    </tr>\n",
       "    <tr>\n",
       "      <th>501784</th>\n",
       "      <td>2008</td>\n",
       "      <td>1</td>\n",
       "      <td>24</td>\n",
       "      <td>4</td>\n",
       "      <td>1109.0</td>\n",
       "      <td>1055</td>\n",
       "      <td>1335</td>\n",
       "      <td>AA</td>\n",
       "      <td>1204</td>\n",
       "      <td>100.0</td>\n",
       "      <td>14.0</td>\n",
       "      <td>ELP</td>\n",
       "      <td>DFW</td>\n",
       "      <td>551</td>\n",
       "      <td>0.0</td>\n",
       "    </tr>\n",
       "    <tr>\n",
       "      <th>1313910</th>\n",
       "      <td>2008</td>\n",
       "      <td>3</td>\n",
       "      <td>9</td>\n",
       "      <td>7</td>\n",
       "      <td>1606.0</td>\n",
       "      <td>1358</td>\n",
       "      <td>1645</td>\n",
       "      <td>YV</td>\n",
       "      <td>7342</td>\n",
       "      <td>107.0</td>\n",
       "      <td>128.0</td>\n",
       "      <td>ORD</td>\n",
       "      <td>AVP</td>\n",
       "      <td>631</td>\n",
       "      <td>1.0</td>\n",
       "    </tr>\n",
       "    <tr>\n",
       "      <th>1897326</th>\n",
       "      <td>2008</td>\n",
       "      <td>4</td>\n",
       "      <td>13</td>\n",
       "      <td>7</td>\n",
       "      <td>1223.0</td>\n",
       "      <td>1220</td>\n",
       "      <td>1422</td>\n",
       "      <td>XE</td>\n",
       "      <td>2484</td>\n",
       "      <td>182.0</td>\n",
       "      <td>3.0</td>\n",
       "      <td>EWR</td>\n",
       "      <td>MCI</td>\n",
       "      <td>1092</td>\n",
       "      <td>0.0</td>\n",
       "    </tr>\n",
       "    <tr>\n",
       "      <th>946221</th>\n",
       "      <td>2008</td>\n",
       "      <td>2</td>\n",
       "      <td>12</td>\n",
       "      <td>2</td>\n",
       "      <td>1132.0</td>\n",
       "      <td>1134</td>\n",
       "      <td>1324</td>\n",
       "      <td>FL</td>\n",
       "      <td>70</td>\n",
       "      <td>110.0</td>\n",
       "      <td>-2.0</td>\n",
       "      <td>FLL</td>\n",
       "      <td>ATL</td>\n",
       "      <td>581</td>\n",
       "      <td>0.0</td>\n",
       "    </tr>\n",
       "    <tr>\n",
       "      <th>479208</th>\n",
       "      <td>2008</td>\n",
       "      <td>1</td>\n",
       "      <td>14</td>\n",
       "      <td>1</td>\n",
       "      <td>702.0</td>\n",
       "      <td>705</td>\n",
       "      <td>1525</td>\n",
       "      <td>AA</td>\n",
       "      <td>222</td>\n",
       "      <td>320.0</td>\n",
       "      <td>-3.0</td>\n",
       "      <td>LAX</td>\n",
       "      <td>BOS</td>\n",
       "      <td>2611</td>\n",
       "      <td>0.0</td>\n",
       "    </tr>\n",
       "    <tr>\n",
       "      <th>614054</th>\n",
       "      <td>2008</td>\n",
       "      <td>2</td>\n",
       "      <td>5</td>\n",
       "      <td>2</td>\n",
       "      <td>2005.0</td>\n",
       "      <td>2000</td>\n",
       "      <td>45</td>\n",
       "      <td>WN</td>\n",
       "      <td>88</td>\n",
       "      <td>165.0</td>\n",
       "      <td>5.0</td>\n",
       "      <td>LAS</td>\n",
       "      <td>MCI</td>\n",
       "      <td>1140</td>\n",
       "      <td>0.0</td>\n",
       "    </tr>\n",
       "    <tr>\n",
       "      <th>914673</th>\n",
       "      <td>2008</td>\n",
       "      <td>2</td>\n",
       "      <td>19</td>\n",
       "      <td>2</td>\n",
       "      <td>1313.0</td>\n",
       "      <td>1315</td>\n",
       "      <td>1439</td>\n",
       "      <td>EV</td>\n",
       "      <td>4329</td>\n",
       "      <td>84.0</td>\n",
       "      <td>-2.0</td>\n",
       "      <td>ATL</td>\n",
       "      <td>ILM</td>\n",
       "      <td>377</td>\n",
       "      <td>0.0</td>\n",
       "    </tr>\n",
       "    <tr>\n",
       "      <th>485989</th>\n",
       "      <td>2008</td>\n",
       "      <td>1</td>\n",
       "      <td>29</td>\n",
       "      <td>2</td>\n",
       "      <td>806.0</td>\n",
       "      <td>810</td>\n",
       "      <td>1015</td>\n",
       "      <td>AA</td>\n",
       "      <td>493</td>\n",
       "      <td>185.0</td>\n",
       "      <td>-4.0</td>\n",
       "      <td>DTW</td>\n",
       "      <td>DFW</td>\n",
       "      <td>987</td>\n",
       "      <td>0.0</td>\n",
       "    </tr>\n",
       "    <tr>\n",
       "      <th>3561008</th>\n",
       "      <td>2008</td>\n",
       "      <td>6</td>\n",
       "      <td>20</td>\n",
       "      <td>5</td>\n",
       "      <td>1343.0</td>\n",
       "      <td>1330</td>\n",
       "      <td>1614</td>\n",
       "      <td>CO</td>\n",
       "      <td>37</td>\n",
       "      <td>164.0</td>\n",
       "      <td>13.0</td>\n",
       "      <td>EWR</td>\n",
       "      <td>MCO</td>\n",
       "      <td>938</td>\n",
       "      <td>0.0</td>\n",
       "    </tr>\n",
       "    <tr>\n",
       "      <th>2094239</th>\n",
       "      <td>2008</td>\n",
       "      <td>4</td>\n",
       "      <td>21</td>\n",
       "      <td>1</td>\n",
       "      <td>1722.0</td>\n",
       "      <td>1715</td>\n",
       "      <td>2023</td>\n",
       "      <td>DL</td>\n",
       "      <td>728</td>\n",
       "      <td>128.0</td>\n",
       "      <td>7.0</td>\n",
       "      <td>DFW</td>\n",
       "      <td>ATL</td>\n",
       "      <td>732</td>\n",
       "      <td>0.0</td>\n",
       "    </tr>\n",
       "  </tbody>\n",
       "</table>\n",
       "</div>"
      ],
      "text/plain": [
       "         Year  Month  DayofMonth  DayOfWeek  Actual_Shipment_Time  \\\n",
       "439991   2008      1          22          2                1135.0   \n",
       "2558459  2008      5           2          5                1200.0   \n",
       "3453121  2008      6          21          6                1332.0   \n",
       "3543347  2008      6          11          3                1227.0   \n",
       "3551     2008      1           4          5                1828.0   \n",
       "501784   2008      1          24          4                1109.0   \n",
       "1313910  2008      3           9          7                1606.0   \n",
       "1897326  2008      4          13          7                1223.0   \n",
       "946221   2008      2          12          2                1132.0   \n",
       "479208   2008      1          14          1                 702.0   \n",
       "614054   2008      2           5          2                2005.0   \n",
       "914673   2008      2          19          2                1313.0   \n",
       "485989   2008      1          29          2                 806.0   \n",
       "3561008  2008      6          20          5                1343.0   \n",
       "2094239  2008      4          21          1                1722.0   \n",
       "\n",
       "         Planned_Shipment_Time  Planned_Delivery_Time Carrier_Name  \\\n",
       "439991                    1138                   1310           NW   \n",
       "2558459                   1205                   1257           OO   \n",
       "3453121                   1329                   1535           9E   \n",
       "3543347                   1233                   1500           B6   \n",
       "3551                      1730                     50           WN   \n",
       "501784                    1055                   1335           AA   \n",
       "1313910                   1358                   1645           YV   \n",
       "1897326                   1220                   1422           XE   \n",
       "946221                    1134                   1324           FL   \n",
       "479208                     705                   1525           AA   \n",
       "614054                    2000                     45           WN   \n",
       "914673                    1315                   1439           EV   \n",
       "485989                     810                   1015           AA   \n",
       "3561008                   1330                   1614           CO   \n",
       "2094239                   1715                   2023           DL   \n",
       "\n",
       "         Carrier_Num  Planned_TimeofTravel  Shipment_Delay Source Destination  \\\n",
       "439991           932                  92.0            -3.0    VPS         MEM   \n",
       "2558459         3744                 112.0            -5.0    SLC         BUR   \n",
       "3453121         2054                 126.0             3.0    ATL         BUF   \n",
       "3543347          189                 327.0            -6.0    JFK         LAS   \n",
       "3551            2632                 260.0            58.0    LAS         BWI   \n",
       "501784          1204                 100.0            14.0    ELP         DFW   \n",
       "1313910         7342                 107.0           128.0    ORD         AVP   \n",
       "1897326         2484                 182.0             3.0    EWR         MCI   \n",
       "946221            70                 110.0            -2.0    FLL         ATL   \n",
       "479208           222                 320.0            -3.0    LAX         BOS   \n",
       "614054            88                 165.0             5.0    LAS         MCI   \n",
       "914673          4329                  84.0            -2.0    ATL         ILM   \n",
       "485989           493                 185.0            -4.0    DTW         DFW   \n",
       "3561008           37                 164.0            13.0    EWR         MCO   \n",
       "2094239          728                 128.0             7.0    DFW         ATL   \n",
       "\n",
       "         Distance  Delivery_Status  \n",
       "439991        369              0.0  \n",
       "2558459       574              0.0  \n",
       "3453121       712              0.0  \n",
       "3543347      2248              0.0  \n",
       "3551         2106              1.0  \n",
       "501784        551              0.0  \n",
       "1313910       631              1.0  \n",
       "1897326      1092              0.0  \n",
       "946221        581              0.0  \n",
       "479208       2611              0.0  \n",
       "614054       1140              0.0  \n",
       "914673        377              0.0  \n",
       "485989        987              0.0  \n",
       "3561008       938              0.0  \n",
       "2094239       732              0.0  "
      ]
     },
     "execution_count": 28,
     "metadata": {},
     "output_type": "execute_result"
    }
   ],
   "source": [
    "df.sample(15)"
   ]
  },
  {
   "cell_type": "markdown",
   "id": "035b6510",
   "metadata": {},
   "source": [
    "<h3> Data Description </h3>"
   ]
  },
  {
   "cell_type": "markdown",
   "id": "754b03d8",
   "metadata": {},
   "source": [
    "<h4> Dataset contains 3604175 delivery details\n",
    "15 features are recorded for each delivery </h4>\n",
    "\n",
    "Year -- The Year the data was collected\n",
    "\n",
    "Month -- The Month in which the data was collected\n",
    "\n",
    "DayofMonth -- The day of the month\n",
    "\n",
    "DayofWeek -- The day of Week\n",
    "\n",
    "Actual_Shipment_Time -- The Actual time when the package was sent for shipment. (ex: 1955 means 19 hours and 55 minutes i.e 7:55 PM)\n",
    "\n",
    "Planned_Shipment_Time -- The time when the package should have been sent for shipment. (ex: 1955 means 19 hours and 55 minutes i.e 7:55 PM)\n",
    "\n",
    "Planned_Delivery_Time -- The time when the package should be delivered. (ex: 1955 means 19 hours and 55 minutes i.e 7:55 PM)\n",
    "\n",
    "Carrier_Name -- The name of the Carrier which carried the package.\n",
    "\n",
    "Carrier_Num -- The number of the Carrier which carried the package.\n",
    "\n",
    "Planned_TimeofTravel -- The estimated time to reach from Source to Destination. ( in minutes)\n",
    "\n",
    "Shipment_Delay -- The time by which the package was shipped late. (in minutes. Negative value indicates that the package was \n",
    "shipped early. Ex: 4 indicates that the package was shipped 4 minutes late, whereas, -4 indicates that the package was shipped 4 minutes early)\n",
    "\n",
    "Source -- The place from which the package was shipped.\n",
    "\n",
    "Destination -- The place at which the package was delivered.\n",
    "\n",
    "Distance -- Distance between Source and Destination in miles.\n",
    "\n",
    "Delivery_Status -- Whether it got delivered at right time or not. (Dependent Variable)"
   ]
  },
  {
   "cell_type": "markdown",
   "id": "15dc1067",
   "metadata": {},
   "source": [
    "<h3> Handling missing/duplicate values, encoding categorical variables, and scaling numerical features </h3>"
   ]
  },
  {
   "cell_type": "code",
   "execution_count": 29,
   "id": "a84d07ec",
   "metadata": {},
   "outputs": [
    {
     "data": {
      "text/plain": [
       "Year                         0\n",
       "Month                        0\n",
       "DayofMonth                   0\n",
       "DayOfWeek                    0\n",
       "Actual_Shipment_Time     81602\n",
       "Planned_Shipment_Time        0\n",
       "Planned_Delivery_Time        0\n",
       "Carrier_Name                 0\n",
       "Carrier_Num                  0\n",
       "Planned_TimeofTravel       547\n",
       "Shipment_Delay           81602\n",
       "Source                       0\n",
       "Destination                  0\n",
       "Distance                     0\n",
       "Delivery_Status          81602\n",
       "dtype: int64"
      ]
     },
     "execution_count": 29,
     "metadata": {},
     "output_type": "execute_result"
    }
   ],
   "source": [
    "#Checking for NAN values\n",
    "df.isnull().sum()"
   ]
  },
  {
   "cell_type": "code",
   "execution_count": 30,
   "id": "75f0e8c7",
   "metadata": {},
   "outputs": [],
   "source": [
    "# Dropping the NAN as the Delivery status is also null\n",
    "df.dropna(inplace=True)"
   ]
  },
  {
   "cell_type": "code",
   "execution_count": 31,
   "id": "8b879a88",
   "metadata": {},
   "outputs": [
    {
     "data": {
      "text/plain": [
       "Year                     0\n",
       "Month                    0\n",
       "DayofMonth               0\n",
       "DayOfWeek                0\n",
       "Actual_Shipment_Time     0\n",
       "Planned_Shipment_Time    0\n",
       "Planned_Delivery_Time    0\n",
       "Carrier_Name             0\n",
       "Carrier_Num              0\n",
       "Planned_TimeofTravel     0\n",
       "Shipment_Delay           0\n",
       "Source                   0\n",
       "Destination              0\n",
       "Distance                 0\n",
       "Delivery_Status          0\n",
       "dtype: int64"
      ]
     },
     "execution_count": 31,
     "metadata": {},
     "output_type": "execute_result"
    }
   ],
   "source": [
    "df.isna().sum()"
   ]
  },
  {
   "cell_type": "code",
   "execution_count": 32,
   "id": "22820a97",
   "metadata": {},
   "outputs": [
    {
     "data": {
      "text/plain": [
       "(3522167, 15)"
      ]
     },
     "execution_count": 32,
     "metadata": {},
     "output_type": "execute_result"
    }
   ],
   "source": [
    "df.shape"
   ]
  },
  {
   "cell_type": "code",
   "execution_count": 33,
   "id": "65b0e270",
   "metadata": {},
   "outputs": [
    {
     "data": {
      "text/plain": [
       "8"
      ]
     },
     "execution_count": 33,
     "metadata": {},
     "output_type": "execute_result"
    }
   ],
   "source": [
    "#Checking for Duplicates\n",
    "df.duplicated(keep=False).sum()"
   ]
  },
  {
   "cell_type": "code",
   "execution_count": 34,
   "id": "0876f366",
   "metadata": {},
   "outputs": [],
   "source": [
    "# Removing Duplicates\n",
    "df.drop_duplicates(inplace=True) # Returns DataFrame with duplicate rows removed."
   ]
  },
  {
   "cell_type": "code",
   "execution_count": 35,
   "id": "21f2287e",
   "metadata": {},
   "outputs": [
    {
     "data": {
      "text/plain": [
       "(3522163, 15)"
      ]
     },
     "execution_count": 35,
     "metadata": {},
     "output_type": "execute_result"
    }
   ],
   "source": [
    "df.shape"
   ]
  },
  {
   "cell_type": "code",
   "execution_count": 36,
   "id": "98784e51",
   "metadata": {},
   "outputs": [
    {
     "name": "stdout",
     "output_type": "stream",
     "text": [
      "<class 'pandas.core.frame.DataFrame'>\n",
      "Index: 3522163 entries, 0 to 3604174\n",
      "Data columns (total 15 columns):\n",
      " #   Column                 Dtype  \n",
      "---  ------                 -----  \n",
      " 0   Year                   int64  \n",
      " 1   Month                  int64  \n",
      " 2   DayofMonth             int64  \n",
      " 3   DayOfWeek              int64  \n",
      " 4   Actual_Shipment_Time   float64\n",
      " 5   Planned_Shipment_Time  int64  \n",
      " 6   Planned_Delivery_Time  int64  \n",
      " 7   Carrier_Name           object \n",
      " 8   Carrier_Num            int64  \n",
      " 9   Planned_TimeofTravel   float64\n",
      " 10  Shipment_Delay         float64\n",
      " 11  Source                 object \n",
      " 12  Destination            object \n",
      " 13  Distance               int64  \n",
      " 14  Delivery_Status        float64\n",
      "dtypes: float64(4), int64(8), object(3)\n",
      "memory usage: 430.0+ MB\n"
     ]
    }
   ],
   "source": [
    "df.info()"
   ]
  },
  {
   "cell_type": "code",
   "execution_count": 37,
   "id": "f41fb785",
   "metadata": {},
   "outputs": [],
   "source": [
    "#Handling the features and datatypes\n",
    "df['date'] = df.apply(lambda x: datetime(x['Year'], x['Month'], x['DayofMonth']), axis=1)"
   ]
  },
  {
   "cell_type": "code",
   "execution_count": 38,
   "id": "7143aacf",
   "metadata": {},
   "outputs": [],
   "source": [
    "# Dropping the Year, Month, Dayofmonth, Dayof Week as we have converted these to date in the above code\n",
    "df.drop(['Year', 'Month', 'DayofMonth', 'DayOfWeek'], axis=1, inplace=True)"
   ]
  },
  {
   "cell_type": "code",
   "execution_count": 39,
   "id": "5c735cec",
   "metadata": {},
   "outputs": [
    {
     "name": "stdout",
     "output_type": "stream",
     "text": [
      "<class 'pandas.core.frame.DataFrame'>\n",
      "Index: 3522163 entries, 0 to 3604174\n",
      "Data columns (total 12 columns):\n",
      " #   Column                 Dtype         \n",
      "---  ------                 -----         \n",
      " 0   Actual_Shipment_Time   float64       \n",
      " 1   Planned_Shipment_Time  int64         \n",
      " 2   Planned_Delivery_Time  int64         \n",
      " 3   Carrier_Name           object        \n",
      " 4   Carrier_Num            int64         \n",
      " 5   Planned_TimeofTravel   float64       \n",
      " 6   Shipment_Delay         float64       \n",
      " 7   Source                 object        \n",
      " 8   Destination            object        \n",
      " 9   Distance               int64         \n",
      " 10  Delivery_Status        float64       \n",
      " 11  date                   datetime64[ns]\n",
      "dtypes: datetime64[ns](1), float64(4), int64(4), object(3)\n",
      "memory usage: 349.3+ MB\n"
     ]
    }
   ],
   "source": [
    "df.info()"
   ]
  },
  {
   "cell_type": "code",
   "execution_count": 40,
   "id": "3de14872",
   "metadata": {},
   "outputs": [],
   "source": [
    "#Converting the datatypes for features\n",
    "df.Actual_Shipment_Time = df.Actual_Shipment_Time.astype(int)\n",
    "df.Planned_TimeofTravel = df.Planned_TimeofTravel.astype(int)\n",
    "df.Shipment_Delay = df.Shipment_Delay.astype(int)\n",
    "df.Delivery_Status = df.Delivery_Status.astype(int)"
   ]
  },
  {
   "cell_type": "code",
   "execution_count": 41,
   "id": "054d6d2f",
   "metadata": {},
   "outputs": [
    {
     "data": {
      "text/plain": [
       "Actual_Shipment_Time              int32\n",
       "Planned_Shipment_Time             int64\n",
       "Planned_Delivery_Time             int64\n",
       "Carrier_Name                     object\n",
       "Carrier_Num                       int64\n",
       "Planned_TimeofTravel              int32\n",
       "Shipment_Delay                    int32\n",
       "Source                           object\n",
       "Destination                      object\n",
       "Distance                          int64\n",
       "Delivery_Status                   int32\n",
       "date                     datetime64[ns]\n",
       "dtype: object"
      ]
     },
     "execution_count": 41,
     "metadata": {},
     "output_type": "execute_result"
    }
   ],
   "source": [
    "df.dtypes"
   ]
  },
  {
   "cell_type": "code",
   "execution_count": 42,
   "id": "76e5112b",
   "metadata": {},
   "outputs": [
    {
     "data": {
      "text/plain": [
       "Delivery_Status\n",
       "0    2804071\n",
       "1     718092\n",
       "Name: count, dtype: int64"
      ]
     },
     "execution_count": 42,
     "metadata": {},
     "output_type": "execute_result"
    }
   ],
   "source": [
    "df.Delivery_Status.value_counts()"
   ]
  },
  {
   "cell_type": "code",
   "execution_count": null,
   "id": "03a9eff9",
   "metadata": {},
   "outputs": [],
   "source": []
  },
  {
   "cell_type": "markdown",
   "id": "609a887e",
   "metadata": {},
   "source": [
    "<h3> Exploratory Data Analysis (EDA) </h3>"
   ]
  },
  {
   "cell_type": "code",
   "execution_count": 54,
   "id": "dabb57e0",
   "metadata": {},
   "outputs": [
    {
     "data": {
      "image/png": "[encoded data removed]",
      "text/plain": [
       "<Figure size 1000x600 with 1 Axes>"
      ]
     },
     "metadata": {},
     "output_type": "display_data"
    },
    {
     "data": {
      "text/plain": [
       "<Figure size 640x480 with 0 Axes>"
      ]
     },
     "metadata": {},
     "output_type": "display_data"
    }
   ],
   "source": [
    "# visualize the classifiers of the target variable\n",
    "plt.figure(figsize=(10, 6))\n",
    "sns.histplot(df['Delivery_Status'])\n",
    "plt.title('To get the target varible information on Balanced vs Unbalanced')\n",
    "plt.xlabel('Delivered or not Delivered')\n",
    "plt.ylabel('Frequency')\n",
    "plt.show()\n",
    "plt.savefig('images/balancedvsunbalanced.png')"
   ]
  },
  {
   "cell_type": "code",
   "execution_count": 56,
   "id": "7be3974f",
   "metadata": {},
   "outputs": [
    {
     "data": {
      "text/html": [
       "<div>\n",
       "<style scoped>\n",
       "    .dataframe tbody tr th:only-of-type {\n",
       "        vertical-align: middle;\n",
       "    }\n",
       "\n",
       "    .dataframe tbody tr th {\n",
       "        vertical-align: top;\n",
       "    }\n",
       "\n",
       "    .dataframe thead th {\n",
       "        text-align: right;\n",
       "    }\n",
       "</style>\n",
       "<table border=\"1\" class=\"dataframe\">\n",
       "  <thead>\n",
       "    <tr style=\"text-align: right;\">\n",
       "      <th></th>\n",
       "      <th>Actual_Shipment_Time</th>\n",
       "      <th>Planned_Shipment_Time</th>\n",
       "      <th>Planned_Delivery_Time</th>\n",
       "      <th>Carrier_Name</th>\n",
       "      <th>Carrier_Num</th>\n",
       "      <th>Planned_TimeofTravel</th>\n",
       "      <th>Shipment_Delay</th>\n",
       "      <th>Source</th>\n",
       "      <th>Destination</th>\n",
       "      <th>Distance</th>\n",
       "      <th>Delivery_Status</th>\n",
       "      <th>date</th>\n",
       "    </tr>\n",
       "  </thead>\n",
       "  <tbody>\n",
       "    <tr>\n",
       "      <th>3445296</th>\n",
       "      <td>2122</td>\n",
       "      <td>2015</td>\n",
       "      <td>2121</td>\n",
       "      <td>NW</td>\n",
       "      <td>1433</td>\n",
       "      <td>66</td>\n",
       "      <td>67</td>\n",
       "      <td>MSP</td>\n",
       "      <td>GFK</td>\n",
       "      <td>284</td>\n",
       "      <td>1</td>\n",
       "      <td>2008-06-29</td>\n",
       "    </tr>\n",
       "    <tr>\n",
       "      <th>3048190</th>\n",
       "      <td>1357</td>\n",
       "      <td>1400</td>\n",
       "      <td>1735</td>\n",
       "      <td>WN</td>\n",
       "      <td>1860</td>\n",
       "      <td>155</td>\n",
       "      <td>-3</td>\n",
       "      <td>MDW</td>\n",
       "      <td>TPA</td>\n",
       "      <td>997</td>\n",
       "      <td>0</td>\n",
       "      <td>2008-06-18</td>\n",
       "    </tr>\n",
       "    <tr>\n",
       "      <th>593704</th>\n",
       "      <td>1338</td>\n",
       "      <td>1335</td>\n",
       "      <td>1453</td>\n",
       "      <td>DL</td>\n",
       "      <td>1513</td>\n",
       "      <td>78</td>\n",
       "      <td>3</td>\n",
       "      <td>ATL</td>\n",
       "      <td>DAB</td>\n",
       "      <td>366</td>\n",
       "      <td>0</td>\n",
       "      <td>2008-01-05</td>\n",
       "    </tr>\n",
       "    <tr>\n",
       "      <th>1724673</th>\n",
       "      <td>656</td>\n",
       "      <td>700</td>\n",
       "      <td>1014</td>\n",
       "      <td>B6</td>\n",
       "      <td>131</td>\n",
       "      <td>194</td>\n",
       "      <td>-4</td>\n",
       "      <td>JFK</td>\n",
       "      <td>RSW</td>\n",
       "      <td>1074</td>\n",
       "      <td>0</td>\n",
       "      <td>2008-03-01</td>\n",
       "    </tr>\n",
       "    <tr>\n",
       "      <th>2118763</th>\n",
       "      <td>1956</td>\n",
       "      <td>1930</td>\n",
       "      <td>2052</td>\n",
       "      <td>EV</td>\n",
       "      <td>4574</td>\n",
       "      <td>142</td>\n",
       "      <td>26</td>\n",
       "      <td>ATL</td>\n",
       "      <td>DSM</td>\n",
       "      <td>743</td>\n",
       "      <td>1</td>\n",
       "      <td>2008-04-27</td>\n",
       "    </tr>\n",
       "  </tbody>\n",
       "</table>\n",
       "</div>"
      ],
      "text/plain": [
       "         Actual_Shipment_Time  Planned_Shipment_Time  Planned_Delivery_Time  \\\n",
       "3445296                  2122                   2015                   2121   \n",
       "3048190                  1357                   1400                   1735   \n",
       "593704                   1338                   1335                   1453   \n",
       "1724673                   656                    700                   1014   \n",
       "2118763                  1956                   1930                   2052   \n",
       "\n",
       "        Carrier_Name  Carrier_Num  Planned_TimeofTravel  Shipment_Delay  \\\n",
       "3445296           NW         1433                    66              67   \n",
       "3048190           WN         1860                   155              -3   \n",
       "593704            DL         1513                    78               3   \n",
       "1724673           B6          131                   194              -4   \n",
       "2118763           EV         4574                   142              26   \n",
       "\n",
       "        Source Destination  Distance  Delivery_Status       date  \n",
       "3445296    MSP         GFK       284                1 2008-06-29  \n",
       "3048190    MDW         TPA       997                0 2008-06-18  \n",
       "593704     ATL         DAB       366                0 2008-01-05  \n",
       "1724673    JFK         RSW      1074                0 2008-03-01  \n",
       "2118763    ATL         DSM       743                1 2008-04-27  "
      ]
     },
     "execution_count": 56,
     "metadata": {},
     "output_type": "execute_result"
    }
   ],
   "source": [
    "df.sample(5)"
   ]
  },
  {
   "cell_type": "markdown",
   "id": "1880b20d",
   "metadata": {},
   "source": [
    "<h4> Visualize the features and understand the association between each other </h4>"
   ]
  },
  {
   "cell_type": "code",
   "execution_count": 112,
   "id": "aed70baf",
   "metadata": {},
   "outputs": [
    {
     "data": {
      "application/vnd.plotly.v1+json": {
       "config": {
        "plotlyServerURL": "https://plot.ly"
       },
       "data": [
        {
         "domain": {
          "x": [
           0,
           1
          ],
          "y": [
           0,
           1
          ]
         },
         "hovertemplate": "Source=%{label}<br>count=%{value}<extra></extra>",
         "labels": [
          "ATL",
          "ORD",
          "DFW",
          "DEN",
          "LAX",
          "PHX",
          "IAH",
          "LAS",
          "DTW",
          "SLC",
          "EWR",
          "SFO",
          "MCO",
          "MSP",
          "CLT",
          "BOS",
          "JFK",
          "LGA",
          "SEA",
          "BWI",
          "PHL",
          "SAN",
          "CVG",
          "MDW",
          "DCA",
          "TPA",
          "MEM",
          "IAD",
          "FLL",
          "CLE",
          "OAK",
          "MIA",
          "MCI",
          "STL",
          "RDU",
          "PDX",
          "SJC",
          "BNA",
          "HNL",
          "HOU",
          "SMF",
          "DAL",
          "AUS",
          "SNA",
          "SAT",
          "IND",
          "PIT",
          "ABQ",
          "MKE",
          "MSY",
          "ONT",
          "CMH",
          "JAX",
          "BUR",
          "RSW",
          "PBI",
          "BDL",
          "TUS",
          "OMA",
          "OKC",
          "RNO",
          "BUF",
          "TUL",
          "SJU",
          "BHM",
          "SDF",
          "PVD",
          "ELP",
          "OGG",
          "RIC",
          "MHT",
          "ANC",
          "BOI",
          "COS",
          "ORF",
          "GEG",
          "GRR",
          "DSM",
          "LGB",
          "DAY",
          "LIT",
          "FAT",
          "ROC",
          "CHS",
          "ICT",
          "SAV",
          "XNA",
          "ALB",
          "LIH",
          "PSP",
          "GSO",
          "TYS",
          "KOA",
          "SBA",
          "MSN",
          "JAN",
          "SYR",
          "GSP",
          "HSV",
          "HPN",
          "ISP",
          "CAE",
          "SGF",
          "LEX",
          "PNS",
          "FNT",
          "BTR",
          "CID",
          "LBB",
          "GPT",
          "CAK",
          "MLI",
          "GRB",
          "ITO",
          "MRY",
          "MDT",
          "SHV",
          "SRQ",
          "AMA",
          "MAF",
          "PWM",
          "BTV",
          "VPS",
          "MOB",
          "SBP",
          "PHF",
          "EUG",
          "MFR",
          "FWA",
          "ASE",
          "EVV",
          "ATW",
          "FSD",
          "PIA",
          "SWF",
          "MYR",
          "TLH",
          "BFL",
          "BZN",
          "LFT",
          "GJT",
          "FAI",
          "BMI",
          "SBN",
          "ABE",
          "FAR",
          "CRP",
          "BIL",
          "HRL",
          "GRK",
          "YUM",
          "CHA",
          "AZO",
          "JNU",
          "RAP",
          "MFE",
          "LAN",
          "EGE",
          "PFN",
          "MGM",
          "DRO",
          "AVL",
          "DAB",
          "RST",
          "TVC",
          "STT",
          "SGU",
          "RDM",
          "JAC",
          "ACV",
          "IDA",
          "ROA",
          "HDN",
          "LNK",
          "CRW",
          "ILM",
          "MSO",
          "MOD",
          "CPR",
          "CMI",
          "SUN",
          "FCA",
          "FSM",
          "PSC",
          "MTJ",
          "LAW",
          "MLU",
          "ABI",
          "BGR",
          "MBS",
          "BIS",
          "CLD",
          "AEX",
          "SPS",
          "AVP",
          "KTN",
          "DLH",
          "GTF",
          "ACT",
          "AGS",
          "TRI",
          "TWF",
          "LRD",
          "MLB",
          "FAY",
          "GNV",
          "LSE",
          "CWA",
          "FLG",
          "RDD",
          "PIH",
          "TYR",
          "SMX",
          "EKO",
          "HLN",
          "SJT",
          "BQN",
          "TOL",
          "CLL",
          "BRO",
          "DHN",
          "GFK",
          "CIC",
          "CSG",
          "SPI",
          "ERI",
          "OXR",
          "IPL",
          "ELM",
          "DBQ",
          "SIT",
          "TXK",
          "EYW",
          "ABY",
          "COD",
          "MOT",
          "LCH",
          "GGG",
          "OTZ",
          "OAJ",
          "BET",
          "OME",
          "CEC",
          "MQT",
          "IYK",
          "GUC",
          "GTR",
          "CHO",
          "HHH",
          "BQK",
          "VLD",
          "ROW",
          "EWN",
          "PSE",
          "MCN",
          "SCC",
          "BRW",
          "YAK",
          "CDV",
          "PSG",
          "WRG",
          "BGM",
          "ADQ",
          "BTM",
          "SLE",
          "PMD",
          "CDC",
          "MEI",
          "LYH",
          "FLO",
          "LWS",
          "SCE",
          "RFD",
          "GCC",
          "STX",
          "YKM",
          "MKG",
          "BPT",
          "RKS",
          "CMX",
          "TEX",
          "ALO",
          "BLI",
          "ACY",
          "SUX",
          "PLN",
          "ACK",
          "LWB",
          "WYS",
          "RHI",
          "ADK",
          "DLG",
          "AKN",
          "BJI",
          "INL",
          "GST",
          "TUP"
         ],
         "legendgroup": "",
         "name": "",
         "showlegend": true,
         "type": "pie",
         "values": [
          203756,
          168683,
          136553,
          118909,
          110068,
          102772,
          93630,
          88568,
          82788,
          71555,
          70026,
          68440,
          67961,
          67554,
          62242,
          58714,
          58007,
          57809,
          53281,
          52017,
          49138,
          47690,
          47573,
          44650,
          42175,
          40947,
          40566,
          38148,
          35948,
          33364,
          32729,
          31863,
          31495,
          30788,
          29982,
          28943,
          28791,
          28730,
          28609,
          27812,
          27546,
          27461,
          25690,
          23862,
          22987,
          21520,
          21439,
          20788,
          20505,
          20443,
          19752,
          17486,
          16983,
          15894,
          15518,
          15289,
          15126,
          14584,
          13422,
          13132,
          12921,
          12563,
          11859,
          11822,
          11817,
          11617,
          11335,
          10355,
          10040,
          9747,
          9404,
          9210,
          8672,
          8544,
          8172,
          8136,
          8020,
          7936,
          7640,
          7600,
          7534,
          7521,
          7379,
          7088,
          6989,
          6970,
          6883,
          6881,
          6831,
          6721,
          6674,
          6670,
          6481,
          6310,
          6302,
          6263,
          6126,
          5847,
          5276,
          5244,
          5238,
          5163,
          5001,
          4897,
          4817,
          4620,
          4404,
          4305,
          4286,
          4256,
          4241,
          4069,
          4029,
          4027,
          4012,
          3932,
          3897,
          3846,
          3659,
          3502,
          3452,
          3422,
          3398,
          3136,
          3117,
          3106,
          3023,
          2989,
          2909,
          2840,
          2787,
          2778,
          2770,
          2707,
          2616,
          2613,
          2574,
          2493,
          2455,
          2426,
          2417,
          2402,
          2378,
          2367,
          2322,
          2286,
          2216,
          2195,
          2186,
          2177,
          2156,
          2063,
          2041,
          2018,
          2009,
          2006,
          1982,
          1972,
          1927,
          1891,
          1875,
          1869,
          1853,
          1808,
          1801,
          1794,
          1791,
          1763,
          1741,
          1735,
          1691,
          1657,
          1561,
          1556,
          1548,
          1546,
          1530,
          1437,
          1436,
          1404,
          1399,
          1350,
          1349,
          1346,
          1331,
          1314,
          1297,
          1293,
          1288,
          1285,
          1231,
          1176,
          1175,
          1148,
          1142,
          1137,
          1136,
          1122,
          1079,
          1069,
          1018,
          1007,
          998,
          994,
          991,
          989,
          905,
          876,
          872,
          870,
          870,
          867,
          858,
          841,
          828,
          791,
          766,
          752,
          736,
          729,
          690,
          682,
          676,
          675,
          670,
          654,
          649,
          645,
          643,
          638,
          620,
          602,
          577,
          573,
          565,
          540,
          524,
          520,
          516,
          512,
          506,
          503,
          499,
          470,
          466,
          464,
          461,
          461,
          458,
          453,
          447,
          428,
          426,
          421,
          394,
          359,
          358,
          357,
          356,
          352,
          350,
          348,
          340,
          339,
          331,
          326,
          326,
          322,
          312,
          305,
          305,
          290,
          285,
          272,
          240,
          234,
          217,
          183,
          183,
          132,
          131,
          128,
          119,
          113,
          111,
          101,
          82,
          61,
          56,
          53,
          49,
          41,
          41,
          25,
          24,
          23,
          10
         ]
        }
       ],
       "layout": {
        "legend": {
         "tracegroupgap": 0
        },
        "template": {
         "data": {
          "bar": [
           {
            "error_x": {
             "color": "#2a3f5f"
            },
            "error_y": {
             "color": "#2a3f5f"
            },
            "marker": {
             "line": {
              "color": "#E5ECF6",
              "width": 0.5
             },
             "pattern": {
              "fillmode": "overlay",
              "size": 10,
              "solidity": 0.2
             }
            },
            "type": "bar"
           }
          ],
          "barpolar": [
           {
            "marker": {
             "line": {
              "color": "#E5ECF6",
              "width": 0.5
             },
             "pattern": {
              "fillmode": "overlay",
              "size": 10,
              "solidity": 0.2
             }
            },
            "type": "barpolar"
           }
          ],
          "carpet": [
           {
            "aaxis": {
             "endlinecolor": "#2a3f5f",
             "gridcolor": "white",
             "linecolor": "white",
             "minorgridcolor": "white",
             "startlinecolor": "#2a3f5f"
            },
            "baxis": {
             "endlinecolor": "#2a3f5f",
             "gridcolor": "white",
             "linecolor": "white",
             "minorgridcolor": "white",
             "startlinecolor": "#2a3f5f"
            },
            "type": "carpet"
           }
          ],
          "choropleth": [
           {
            "colorbar": {
             "outlinewidth": 0,
             "ticks": ""
            },
            "type": "choropleth"
           }
          ],
          "contour": [
           {
            "colorbar": {
             "outlinewidth": 0,
             "ticks": ""
            },
            "colorscale": [
             [
              0,
              "#0d0887"
             ],
             [
              0.1111111111111111,
              "#46039f"
             ],
             [
              0.2222222222222222,
              "#7201a8"
             ],
             [
              0.3333333333333333,
              "#9c179e"
             ],
             [
              0.4444444444444444,
              "#bd3786"
             ],
             [
              0.5555555555555556,
              "#d8576b"
             ],
             [
              0.6666666666666666,
              "#ed7953"
             ],
             [
              0.7777777777777778,
              "#fb9f3a"
             ],
             [
              0.8888888888888888,
              "#fdca26"
             ],
             [
              1,
              "#f0f921"
             ]
            ],
            "type": "contour"
           }
          ],
          "contourcarpet": [
           {
            "colorbar": {
             "outlinewidth": 0,
             "ticks": ""
            },
            "type": "contourcarpet"
           }
          ],
          "heatmap": [
           {
            "colorbar": {
             "outlinewidth": 0,
             "ticks": ""
            },
            "colorscale": [
             [
              0,
              "#0d0887"
             ],
             [
              0.1111111111111111,
              "#46039f"
             ],
             [
              0.2222222222222222,
              "#7201a8"
             ],
             [
              0.3333333333333333,
              "#9c179e"
             ],
             [
              0.4444444444444444,
              "#bd3786"
             ],
             [
              0.5555555555555556,
              "#d8576b"
             ],
             [
              0.6666666666666666,
              "#ed7953"
             ],
             [
              0.7777777777777778,
              "#fb9f3a"
             ],
             [
              0.8888888888888888,
              "#fdca26"
             ],
             [
              1,
              "#f0f921"
             ]
            ],
            "type": "heatmap"
           }
          ],
          "heatmapgl": [
           {
            "colorbar": {
             "outlinewidth": 0,
             "ticks": ""
            },
            "colorscale": [
             [
              0,
              "#0d0887"
             ],
             [
              0.1111111111111111,
              "#46039f"
             ],
             [
              0.2222222222222222,
              "#7201a8"
             ],
             [
              0.3333333333333333,
              "#9c179e"
             ],
             [
              0.4444444444444444,
              "#bd3786"
             ],
             [
              0.5555555555555556,
              "#d8576b"
             ],
             [
              0.6666666666666666,
              "#ed7953"
             ],
             [
              0.7777777777777778,
              "#fb9f3a"
             ],
             [
              0.8888888888888888,
              "#fdca26"
             ],
             [
              1,
              "#f0f921"
             ]
            ],
            "type": "heatmapgl"
           }
          ],
          "histogram": [
           {
            "marker": {
             "pattern": {
              "fillmode": "overlay",
              "size": 10,
              "solidity": 0.2
             }
            },
            "type": "histogram"
           }
          ],
          "histogram2d": [
           {
            "colorbar": {
             "outlinewidth": 0,
             "ticks": ""
            },
            "colorscale": [
             [
              0,
              "#0d0887"
             ],
             [
              0.1111111111111111,
              "#46039f"
             ],
             [
              0.2222222222222222,
              "#7201a8"
             ],
             [
              0.3333333333333333,
              "#9c179e"
             ],
             [
              0.4444444444444444,
              "#bd3786"
             ],
             [
              0.5555555555555556,
              "#d8576b"
             ],
             [
              0.6666666666666666,
              "#ed7953"
             ],
             [
              0.7777777777777778,
              "#fb9f3a"
             ],
             [
              0.8888888888888888,
              "#fdca26"
             ],
             [
              1,
              "#f0f921"
             ]
            ],
            "type": "histogram2d"
           }
          ],
          "histogram2dcontour": [
           {
            "colorbar": {
             "outlinewidth": 0,
             "ticks": ""
            },
            "colorscale": [
             [
              0,
              "#0d0887"
             ],
             [
              0.1111111111111111,
              "#46039f"
             ],
             [
              0.2222222222222222,
              "#7201a8"
             ],
             [
              0.3333333333333333,
              "#9c179e"
             ],
             [
              0.4444444444444444,
              "#bd3786"
             ],
             [
              0.5555555555555556,
              "#d8576b"
             ],
             [
              0.6666666666666666,
              "#ed7953"
             ],
             [
              0.7777777777777778,
              "#fb9f3a"
             ],
             [
              0.8888888888888888,
              "#fdca26"
             ],
             [
              1,
              "#f0f921"
             ]
            ],
            "type": "histogram2dcontour"
           }
          ],
          "mesh3d": [
           {
            "colorbar": {
             "outlinewidth": 0,
             "ticks": ""
            },
            "type": "mesh3d"
           }
          ],
          "parcoords": [
           {
            "line": {
             "colorbar": {
              "outlinewidth": 0,
              "ticks": ""
             }
            },
            "type": "parcoords"
           }
          ],
          "pie": [
           {
            "automargin": true,
            "type": "pie"
           }
          ],
          "scatter": [
           {
            "fillpattern": {
             "fillmode": "overlay",
             "size": 10,
             "solidity": 0.2
            },
            "type": "scatter"
           }
          ],
          "scatter3d": [
           {
            "line": {
             "colorbar": {
              "outlinewidth": 0,
              "ticks": ""
             }
            },
            "marker": {
             "colorbar": {
              "outlinewidth": 0,
              "ticks": ""
             }
            },
            "type": "scatter3d"
           }
          ],
          "scattercarpet": [
           {
            "marker": {
             "colorbar": {
              "outlinewidth": 0,
              "ticks": ""
             }
            },
            "type": "scattercarpet"
           }
          ],
          "scattergeo": [
           {
            "marker": {
             "colorbar": {
              "outlinewidth": 0,
              "ticks": ""
             }
            },
            "type": "scattergeo"
           }
          ],
          "scattergl": [
           {
            "marker": {
             "colorbar": {
              "outlinewidth": 0,
              "ticks": ""
             }
            },
            "type": "scattergl"
           }
          ],
          "scattermapbox": [
           {
            "marker": {
             "colorbar": {
              "outlinewidth": 0,
              "ticks": ""
             }
            },
            "type": "scattermapbox"
           }
          ],
          "scatterpolar": [
           {
            "marker": {
             "colorbar": {
              "outlinewidth": 0,
              "ticks": ""
             }
            },
            "type": "scatterpolar"
           }
          ],
          "scatterpolargl": [
           {
            "marker": {
             "colorbar": {
              "outlinewidth": 0,
              "ticks": ""
             }
            },
            "type": "scatterpolargl"
           }
          ],
          "scatterternary": [
           {
            "marker": {
             "colorbar": {
              "outlinewidth": 0,
              "ticks": ""
             }
            },
            "type": "scatterternary"
           }
          ],
          "surface": [
           {
            "colorbar": {
             "outlinewidth": 0,
             "ticks": ""
            },
            "colorscale": [
             [
              0,
              "#0d0887"
             ],
             [
              0.1111111111111111,
              "#46039f"
             ],
             [
              0.2222222222222222,
              "#7201a8"
             ],
             [
              0.3333333333333333,
              "#9c179e"
             ],
             [
              0.4444444444444444,
              "#bd3786"
             ],
             [
              0.5555555555555556,
              "#d8576b"
             ],
             [
              0.6666666666666666,
              "#ed7953"
             ],
             [
              0.7777777777777778,
              "#fb9f3a"
             ],
             [
              0.8888888888888888,
              "#fdca26"
             ],
             [
              1,
              "#f0f921"
             ]
            ],
            "type": "surface"
           }
          ],
          "table": [
           {
            "cells": {
             "fill": {
              "color": "#EBF0F8"
             },
             "line": {
              "color": "white"
             }
            },
            "header": {
             "fill": {
              "color": "#C8D4E3"
             },
             "line": {
              "color": "white"
             }
            },
            "type": "table"
           }
          ]
         },
         "layout": {
          "annotationdefaults": {
           "arrowcolor": "#2a3f5f",
           "arrowhead": 0,
           "arrowwidth": 1
          },
          "autotypenumbers": "strict",
          "coloraxis": {
           "colorbar": {
            "outlinewidth": 0,
            "ticks": ""
           }
          },
          "colorscale": {
           "diverging": [
            [
             0,
             "#8e0152"
            ],
            [
             0.1,
             "#c51b7d"
            ],
            [
             0.2,
             "#de77ae"
            ],
            [
             0.3,
             "#f1b6da"
            ],
            [
             0.4,
             "#fde0ef"
            ],
            [
             0.5,
             "#f7f7f7"
            ],
            [
             0.6,
             "#e6f5d0"
            ],
            [
             0.7,
             "#b8e186"
            ],
            [
             0.8,
             "#7fbc41"
            ],
            [
             0.9,
             "#4d9221"
            ],
            [
             1,
             "#276419"
            ]
           ],
           "sequential": [
            [
             0,
             "#0d0887"
            ],
            [
             0.1111111111111111,
             "#46039f"
            ],
            [
             0.2222222222222222,
             "#7201a8"
            ],
            [
             0.3333333333333333,
             "#9c179e"
            ],
            [
             0.4444444444444444,
             "#bd3786"
            ],
            [
             0.5555555555555556,
             "#d8576b"
            ],
            [
             0.6666666666666666,
             "#ed7953"
            ],
            [
             0.7777777777777778,
             "#fb9f3a"
            ],
            [
             0.8888888888888888,
             "#fdca26"
            ],
            [
             1,
             "#f0f921"
            ]
           ],
           "sequentialminus": [
            [
             0,
             "#0d0887"
            ],
            [
             0.1111111111111111,
             "#46039f"
            ],
            [
             0.2222222222222222,
             "#7201a8"
            ],
            [
             0.3333333333333333,
             "#9c179e"
            ],
            [
             0.4444444444444444,
             "#bd3786"
            ],
            [
             0.5555555555555556,
             "#d8576b"
            ],
            [
             0.6666666666666666,
             "#ed7953"
            ],
            [
             0.7777777777777778,
             "#fb9f3a"
            ],
            [
             0.8888888888888888,
             "#fdca26"
            ],
            [
             1,
             "#f0f921"
            ]
           ]
          },
          "colorway": [
           "#636efa",
           "#EF553B",
           "#00cc96",
           "#ab63fa",
           "#FFA15A",
           "#19d3f3",
           "#FF6692",
           "#B6E880",
           "#FF97FF",
           "#FECB52"
          ],
          "font": {
           "color": "#2a3f5f"
          },
          "geo": {
           "bgcolor": "white",
           "lakecolor": "white",
           "landcolor": "#E5ECF6",
           "showlakes": true,
           "showland": true,
           "subunitcolor": "white"
          },
          "hoverlabel": {
           "align": "left"
          },
          "hovermode": "closest",
          "mapbox": {
           "style": "light"
          },
          "paper_bgcolor": "white",
          "plot_bgcolor": "#E5ECF6",
          "polar": {
           "angularaxis": {
            "gridcolor": "white",
            "linecolor": "white",
            "ticks": ""
           },
           "bgcolor": "#E5ECF6",
           "radialaxis": {
            "gridcolor": "white",
            "linecolor": "white",
            "ticks": ""
           }
          },
          "scene": {
           "xaxis": {
            "backgroundcolor": "#E5ECF6",
            "gridcolor": "white",
            "gridwidth": 2,
            "linecolor": "white",
            "showbackground": true,
            "ticks": "",
            "zerolinecolor": "white"
           },
           "yaxis": {
            "backgroundcolor": "#E5ECF6",
            "gridcolor": "white",
            "gridwidth": 2,
            "linecolor": "white",
            "showbackground": true,
            "ticks": "",
            "zerolinecolor": "white"
           },
           "zaxis": {
            "backgroundcolor": "#E5ECF6",
            "gridcolor": "white",
            "gridwidth": 2,
            "linecolor": "white",
            "showbackground": true,
            "ticks": "",
            "zerolinecolor": "white"
           }
          },
          "shapedefaults": {
           "line": {
            "color": "#2a3f5f"
           }
          },
          "ternary": {
           "aaxis": {
            "gridcolor": "white",
            "linecolor": "white",
            "ticks": ""
           },
           "baxis": {
            "gridcolor": "white",
            "linecolor": "white",
            "ticks": ""
           },
           "bgcolor": "#E5ECF6",
           "caxis": {
            "gridcolor": "white",
            "linecolor": "white",
            "ticks": ""
           }
          },
          "title": {
           "x": 0.05
          },
          "xaxis": {
           "automargin": true,
           "gridcolor": "white",
           "linecolor": "white",
           "ticks": "",
           "title": {
            "standoff": 15
           },
           "zerolinecolor": "white",
           "zerolinewidth": 2
          },
          "yaxis": {
           "automargin": true,
           "gridcolor": "white",
           "linecolor": "white",
           "ticks": "",
           "title": {
            "standoff": 15
           },
           "zerolinecolor": "white",
           "zerolinewidth": 2
          }
         }
        },
        "title": {
         "text": "Track the popular Sources"
        }
       }
      },
      "text/html": [
       "<div>                            <div id=\"e48a1ce4-f343-4fba-99e9-95439934f300\" class=\"plotly-graph-div\" style=\"height:525px; width:100%;\"></div>            <script type=\"text/javascript\">                require([\"plotly\"], function(Plotly) {                    window.PLOTLYENV=window.PLOTLYENV || {};                                    if (document.getElementById(\"e48a1ce4-f343-4fba-99e9-95439934f300\")) {                    Plotly.newPlot(                        \"e48a1ce4-f343-4fba-99e9-95439934f300\",                        [{\"domain\":{\"x\":[0.0,1.0],\"y\":[0.0,1.0]},\"hovertemplate\":\"Source=%{label}<br>count=%{value}<extra></extra>\",\"labels\":[\"ATL\",\"ORD\",\"DFW\",\"DEN\",\"LAX\",\"PHX\",\"IAH\",\"LAS\",\"DTW\",\"SLC\",\"EWR\",\"SFO\",\"MCO\",\"MSP\",\"CLT\",\"BOS\",\"JFK\",\"LGA\",\"SEA\",\"BWI\",\"PHL\",\"SAN\",\"CVG\",\"MDW\",\"DCA\",\"TPA\",\"MEM\",\"IAD\",\"FLL\",\"CLE\",\"OAK\",\"MIA\",\"MCI\",\"STL\",\"RDU\",\"PDX\",\"SJC\",\"BNA\",\"HNL\",\"HOU\",\"SMF\",\"DAL\",\"AUS\",\"SNA\",\"SAT\",\"IND\",\"PIT\",\"ABQ\",\"MKE\",\"MSY\",\"ONT\",\"CMH\",\"JAX\",\"BUR\",\"RSW\",\"PBI\",\"BDL\",\"TUS\",\"OMA\",\"OKC\",\"RNO\",\"BUF\",\"TUL\",\"SJU\",\"BHM\",\"SDF\",\"PVD\",\"ELP\",\"OGG\",\"RIC\",\"MHT\",\"ANC\",\"BOI\",\"COS\",\"ORF\",\"GEG\",\"GRR\",\"DSM\",\"LGB\",\"DAY\",\"LIT\",\"FAT\",\"ROC\",\"CHS\",\"ICT\",\"SAV\",\"XNA\",\"ALB\",\"LIH\",\"PSP\",\"GSO\",\"TYS\",\"KOA\",\"SBA\",\"MSN\",\"JAN\",\"SYR\",\"GSP\",\"HSV\",\"HPN\",\"ISP\",\"CAE\",\"SGF\",\"LEX\",\"PNS\",\"FNT\",\"BTR\",\"CID\",\"LBB\",\"GPT\",\"CAK\",\"MLI\",\"GRB\",\"ITO\",\"MRY\",\"MDT\",\"SHV\",\"SRQ\",\"AMA\",\"MAF\",\"PWM\",\"BTV\",\"VPS\",\"MOB\",\"SBP\",\"PHF\",\"EUG\",\"MFR\",\"FWA\",\"ASE\",\"EVV\",\"ATW\",\"FSD\",\"PIA\",\"SWF\",\"MYR\",\"TLH\",\"BFL\",\"BZN\",\"LFT\",\"GJT\",\"FAI\",\"BMI\",\"SBN\",\"ABE\",\"FAR\",\"CRP\",\"BIL\",\"HRL\",\"GRK\",\"YUM\",\"CHA\",\"AZO\",\"JNU\",\"RAP\",\"MFE\",\"LAN\",\"EGE\",\"PFN\",\"MGM\",\"DRO\",\"AVL\",\"DAB\",\"RST\",\"TVC\",\"STT\",\"SGU\",\"RDM\",\"JAC\",\"ACV\",\"IDA\",\"ROA\",\"HDN\",\"LNK\",\"CRW\",\"ILM\",\"MSO\",\"MOD\",\"CPR\",\"CMI\",\"SUN\",\"FCA\",\"FSM\",\"PSC\",\"MTJ\",\"LAW\",\"MLU\",\"ABI\",\"BGR\",\"MBS\",\"BIS\",\"CLD\",\"AEX\",\"SPS\",\"AVP\",\"KTN\",\"DLH\",\"GTF\",\"ACT\",\"AGS\",\"TRI\",\"TWF\",\"LRD\",\"MLB\",\"FAY\",\"GNV\",\"LSE\",\"CWA\",\"FLG\",\"RDD\",\"PIH\",\"TYR\",\"SMX\",\"EKO\",\"HLN\",\"SJT\",\"BQN\",\"TOL\",\"CLL\",\"BRO\",\"DHN\",\"GFK\",\"CIC\",\"CSG\",\"SPI\",\"ERI\",\"OXR\",\"IPL\",\"ELM\",\"DBQ\",\"SIT\",\"TXK\",\"EYW\",\"ABY\",\"COD\",\"MOT\",\"LCH\",\"GGG\",\"OTZ\",\"OAJ\",\"BET\",\"OME\",\"CEC\",\"MQT\",\"IYK\",\"GUC\",\"GTR\",\"CHO\",\"HHH\",\"BQK\",\"VLD\",\"ROW\",\"EWN\",\"PSE\",\"MCN\",\"SCC\",\"BRW\",\"YAK\",\"CDV\",\"PSG\",\"WRG\",\"BGM\",\"ADQ\",\"BTM\",\"SLE\",\"PMD\",\"CDC\",\"MEI\",\"LYH\",\"FLO\",\"LWS\",\"SCE\",\"RFD\",\"GCC\",\"STX\",\"YKM\",\"MKG\",\"BPT\",\"RKS\",\"CMX\",\"TEX\",\"ALO\",\"BLI\",\"ACY\",\"SUX\",\"PLN\",\"ACK\",\"LWB\",\"WYS\",\"RHI\",\"ADK\",\"DLG\",\"AKN\",\"BJI\",\"INL\",\"GST\",\"TUP\"],\"legendgroup\":\"\",\"name\":\"\",\"showlegend\":true,\"values\":[203756,168683,136553,118909,110068,102772,93630,88568,82788,71555,70026,68440,67961,67554,62242,58714,58007,57809,53281,52017,49138,47690,47573,44650,42175,40947,40566,38148,35948,33364,32729,31863,31495,30788,29982,28943,28791,28730,28609,27812,27546,27461,25690,23862,22987,21520,21439,20788,20505,20443,19752,17486,16983,15894,15518,15289,15126,14584,13422,13132,12921,12563,11859,11822,11817,11617,11335,10355,10040,9747,9404,9210,8672,8544,8172,8136,8020,7936,7640,7600,7534,7521,7379,7088,6989,6970,6883,6881,6831,6721,6674,6670,6481,6310,6302,6263,6126,5847,5276,5244,5238,5163,5001,4897,4817,4620,4404,4305,4286,4256,4241,4069,4029,4027,4012,3932,3897,3846,3659,3502,3452,3422,3398,3136,3117,3106,3023,2989,2909,2840,2787,2778,2770,2707,2616,2613,2574,2493,2455,2426,2417,2402,2378,2367,2322,2286,2216,2195,2186,2177,2156,2063,2041,2018,2009,2006,1982,1972,1927,1891,1875,1869,1853,1808,1801,1794,1791,1763,1741,1735,1691,1657,1561,1556,1548,1546,1530,1437,1436,1404,1399,1350,1349,1346,1331,1314,1297,1293,1288,1285,1231,1176,1175,1148,1142,1137,1136,1122,1079,1069,1018,1007,998,994,991,989,905,876,872,870,870,867,858,841,828,791,766,752,736,729,690,682,676,675,670,654,649,645,643,638,620,602,577,573,565,540,524,520,516,512,506,503,499,470,466,464,461,461,458,453,447,428,426,421,394,359,358,357,356,352,350,348,340,339,331,326,326,322,312,305,305,290,285,272,240,234,217,183,183,132,131,128,119,113,111,101,82,61,56,53,49,41,41,25,24,23,10],\"type\":\"pie\"}],                        {\"template\":{\"data\":{\"histogram2dcontour\":[{\"type\":\"histogram2dcontour\",\"colorbar\":{\"outlinewidth\":0,\"ticks\":\"\"},\"colorscale\":[[0.0,\"#0d0887\"],[0.1111111111111111,\"#46039f\"],[0.2222222222222222,\"#7201a8\"],[0.3333333333333333,\"#9c179e\"],[0.4444444444444444,\"#bd3786\"],[0.5555555555555556,\"#d8576b\"],[0.6666666666666666,\"#ed7953\"],[0.7777777777777778,\"#fb9f3a\"],[0.8888888888888888,\"#fdca26\"],[1.0,\"#f0f921\"]]}],\"choropleth\":[{\"type\":\"choropleth\",\"colorbar\":{\"outlinewidth\":0,\"ticks\":\"\"}}],\"histogram2d\":[{\"type\":\"histogram2d\",\"colorbar\":{\"outlinewidth\":0,\"ticks\":\"\"},\"colorscale\":[[0.0,\"#0d0887\"],[0.1111111111111111,\"#46039f\"],[0.2222222222222222,\"#7201a8\"],[0.3333333333333333,\"#9c179e\"],[0.4444444444444444,\"#bd3786\"],[0.5555555555555556,\"#d8576b\"],[0.6666666666666666,\"#ed7953\"],[0.7777777777777778,\"#fb9f3a\"],[0.8888888888888888,\"#fdca26\"],[1.0,\"#f0f921\"]]}],\"heatmap\":[{\"type\":\"heatmap\",\"colorbar\":{\"outlinewidth\":0,\"ticks\":\"\"},\"colorscale\":[[0.0,\"#0d0887\"],[0.1111111111111111,\"#46039f\"],[0.2222222222222222,\"#7201a8\"],[0.3333333333333333,\"#9c179e\"],[0.4444444444444444,\"#bd3786\"],[0.5555555555555556,\"#d8576b\"],[0.6666666666666666,\"#ed7953\"],[0.7777777777777778,\"#fb9f3a\"],[0.8888888888888888,\"#fdca26\"],[1.0,\"#f0f921\"]]}],\"heatmapgl\":[{\"type\":\"heatmapgl\",\"colorbar\":{\"outlinewidth\":0,\"ticks\":\"\"},\"colorscale\":[[0.0,\"#0d0887\"],[0.1111111111111111,\"#46039f\"],[0.2222222222222222,\"#7201a8\"],[0.3333333333333333,\"#9c179e\"],[0.4444444444444444,\"#bd3786\"],[0.5555555555555556,\"#d8576b\"],[0.6666666666666666,\"#ed7953\"],[0.7777777777777778,\"#fb9f3a\"],[0.8888888888888888,\"#fdca26\"],[1.0,\"#f0f921\"]]}],\"contourcarpet\":[{\"type\":\"contourcarpet\",\"colorbar\":{\"outlinewidth\":0,\"ticks\":\"\"}}],\"contour\":[{\"type\":\"contour\",\"colorbar\":{\"outlinewidth\":0,\"ticks\":\"\"},\"colorscale\":[[0.0,\"#0d0887\"],[0.1111111111111111,\"#46039f\"],[0.2222222222222222,\"#7201a8\"],[0.3333333333333333,\"#9c179e\"],[0.4444444444444444,\"#bd3786\"],[0.5555555555555556,\"#d8576b\"],[0.6666666666666666,\"#ed7953\"],[0.7777777777777778,\"#fb9f3a\"],[0.8888888888888888,\"#fdca26\"],[1.0,\"#f0f921\"]]}],\"surface\":[{\"type\":\"surface\",\"colorbar\":{\"outlinewidth\":0,\"ticks\":\"\"},\"colorscale\":[[0.0,\"#0d0887\"],[0.1111111111111111,\"#46039f\"],[0.2222222222222222,\"#7201a8\"],[0.3333333333333333,\"#9c179e\"],[0.4444444444444444,\"#bd3786\"],[0.5555555555555556,\"#d8576b\"],[0.6666666666666666,\"#ed7953\"],[0.7777777777777778,\"#fb9f3a\"],[0.8888888888888888,\"#fdca26\"],[1.0,\"#f0f921\"]]}],\"mesh3d\":[{\"type\":\"mesh3d\",\"colorbar\":{\"outlinewidth\":0,\"ticks\":\"\"}}],\"scatter\":[{\"fillpattern\":{\"fillmode\":\"overlay\",\"size\":10,\"solidity\":0.2},\"type\":\"scatter\"}],\"parcoords\":[{\"type\":\"parcoords\",\"line\":{\"colorbar\":{\"outlinewidth\":0,\"ticks\":\"\"}}}],\"scatterpolargl\":[{\"type\":\"scatterpolargl\",\"marker\":{\"colorbar\":{\"outlinewidth\":0,\"ticks\":\"\"}}}],\"bar\":[{\"error_x\":{\"color\":\"#2a3f5f\"},\"error_y\":{\"color\":\"#2a3f5f\"},\"marker\":{\"line\":{\"color\":\"#E5ECF6\",\"width\":0.5},\"pattern\":{\"fillmode\":\"overlay\",\"size\":10,\"solidity\":0.2}},\"type\":\"bar\"}],\"scattergeo\":[{\"type\":\"scattergeo\",\"marker\":{\"colorbar\":{\"outlinewidth\":0,\"ticks\":\"\"}}}],\"scatterpolar\":[{\"type\":\"scatterpolar\",\"marker\":{\"colorbar\":{\"outlinewidth\":0,\"ticks\":\"\"}}}],\"histogram\":[{\"marker\":{\"pattern\":{\"fillmode\":\"overlay\",\"size\":10,\"solidity\":0.2}},\"type\":\"histogram\"}],\"scattergl\":[{\"type\":\"scattergl\",\"marker\":{\"colorbar\":{\"outlinewidth\":0,\"ticks\":\"\"}}}],\"scatter3d\":[{\"type\":\"scatter3d\",\"line\":{\"colorbar\":{\"outlinewidth\":0,\"ticks\":\"\"}},\"marker\":{\"colorbar\":{\"outlinewidth\":0,\"ticks\":\"\"}}}],\"scattermapbox\":[{\"type\":\"scattermapbox\",\"marker\":{\"colorbar\":{\"outlinewidth\":0,\"ticks\":\"\"}}}],\"scatterternary\":[{\"type\":\"scatterternary\",\"marker\":{\"colorbar\":{\"outlinewidth\":0,\"ticks\":\"\"}}}],\"scattercarpet\":[{\"type\":\"scattercarpet\",\"marker\":{\"colorbar\":{\"outlinewidth\":0,\"ticks\":\"\"}}}],\"carpet\":[{\"aaxis\":{\"endlinecolor\":\"#2a3f5f\",\"gridcolor\":\"white\",\"linecolor\":\"white\",\"minorgridcolor\":\"white\",\"startlinecolor\":\"#2a3f5f\"},\"baxis\":{\"endlinecolor\":\"#2a3f5f\",\"gridcolor\":\"white\",\"linecolor\":\"white\",\"minorgridcolor\":\"white\",\"startlinecolor\":\"#2a3f5f\"},\"type\":\"carpet\"}],\"table\":[{\"cells\":{\"fill\":{\"color\":\"#EBF0F8\"},\"line\":{\"color\":\"white\"}},\"header\":{\"fill\":{\"color\":\"#C8D4E3\"},\"line\":{\"color\":\"white\"}},\"type\":\"table\"}],\"barpolar\":[{\"marker\":{\"line\":{\"color\":\"#E5ECF6\",\"width\":0.5},\"pattern\":{\"fillmode\":\"overlay\",\"size\":10,\"solidity\":0.2}},\"type\":\"barpolar\"}],\"pie\":[{\"automargin\":true,\"type\":\"pie\"}]},\"layout\":{\"autotypenumbers\":\"strict\",\"colorway\":[\"#636efa\",\"#EF553B\",\"#00cc96\",\"#ab63fa\",\"#FFA15A\",\"#19d3f3\",\"#FF6692\",\"#B6E880\",\"#FF97FF\",\"#FECB52\"],\"font\":{\"color\":\"#2a3f5f\"},\"hovermode\":\"closest\",\"hoverlabel\":{\"align\":\"left\"},\"paper_bgcolor\":\"white\",\"plot_bgcolor\":\"#E5ECF6\",\"polar\":{\"bgcolor\":\"#E5ECF6\",\"angularaxis\":{\"gridcolor\":\"white\",\"linecolor\":\"white\",\"ticks\":\"\"},\"radialaxis\":{\"gridcolor\":\"white\",\"linecolor\":\"white\",\"ticks\":\"\"}},\"ternary\":{\"bgcolor\":\"#E5ECF6\",\"aaxis\":{\"gridcolor\":\"white\",\"linecolor\":\"white\",\"ticks\":\"\"},\"baxis\":{\"gridcolor\":\"white\",\"linecolor\":\"white\",\"ticks\":\"\"},\"caxis\":{\"gridcolor\":\"white\",\"linecolor\":\"white\",\"ticks\":\"\"}},\"coloraxis\":{\"colorbar\":{\"outlinewidth\":0,\"ticks\":\"\"}},\"colorscale\":{\"sequential\":[[0.0,\"#0d0887\"],[0.1111111111111111,\"#46039f\"],[0.2222222222222222,\"#7201a8\"],[0.3333333333333333,\"#9c179e\"],[0.4444444444444444,\"#bd3786\"],[0.5555555555555556,\"#d8576b\"],[0.6666666666666666,\"#ed7953\"],[0.7777777777777778,\"#fb9f3a\"],[0.8888888888888888,\"#fdca26\"],[1.0,\"#f0f921\"]],\"sequentialminus\":[[0.0,\"#0d0887\"],[0.1111111111111111,\"#46039f\"],[0.2222222222222222,\"#7201a8\"],[0.3333333333333333,\"#9c179e\"],[0.4444444444444444,\"#bd3786\"],[0.5555555555555556,\"#d8576b\"],[0.6666666666666666,\"#ed7953\"],[0.7777777777777778,\"#fb9f3a\"],[0.8888888888888888,\"#fdca26\"],[1.0,\"#f0f921\"]],\"diverging\":[[0,\"#8e0152\"],[0.1,\"#c51b7d\"],[0.2,\"#de77ae\"],[0.3,\"#f1b6da\"],[0.4,\"#fde0ef\"],[0.5,\"#f7f7f7\"],[0.6,\"#e6f5d0\"],[0.7,\"#b8e186\"],[0.8,\"#7fbc41\"],[0.9,\"#4d9221\"],[1,\"#276419\"]]},\"xaxis\":{\"gridcolor\":\"white\",\"linecolor\":\"white\",\"ticks\":\"\",\"title\":{\"standoff\":15},\"zerolinecolor\":\"white\",\"automargin\":true,\"zerolinewidth\":2},\"yaxis\":{\"gridcolor\":\"white\",\"linecolor\":\"white\",\"ticks\":\"\",\"title\":{\"standoff\":15},\"zerolinecolor\":\"white\",\"automargin\":true,\"zerolinewidth\":2},\"scene\":{\"xaxis\":{\"backgroundcolor\":\"#E5ECF6\",\"gridcolor\":\"white\",\"linecolor\":\"white\",\"showbackground\":true,\"ticks\":\"\",\"zerolinecolor\":\"white\",\"gridwidth\":2},\"yaxis\":{\"backgroundcolor\":\"#E5ECF6\",\"gridcolor\":\"white\",\"linecolor\":\"white\",\"showbackground\":true,\"ticks\":\"\",\"zerolinecolor\":\"white\",\"gridwidth\":2},\"zaxis\":{\"backgroundcolor\":\"#E5ECF6\",\"gridcolor\":\"white\",\"linecolor\":\"white\",\"showbackground\":true,\"ticks\":\"\",\"zerolinecolor\":\"white\",\"gridwidth\":2}},\"shapedefaults\":{\"line\":{\"color\":\"#2a3f5f\"}},\"annotationdefaults\":{\"arrowcolor\":\"#2a3f5f\",\"arrowhead\":0,\"arrowwidth\":1},\"geo\":{\"bgcolor\":\"white\",\"landcolor\":\"#E5ECF6\",\"subunitcolor\":\"white\",\"showland\":true,\"showlakes\":true,\"lakecolor\":\"white\"},\"title\":{\"x\":0.05},\"mapbox\":{\"style\":\"light\"}}},\"legend\":{\"tracegroupgap\":0},\"title\":{\"text\":\"Track the popular Sources\"}},                        {\"responsive\": true}                    ).then(function(){\n",
       "                            \n",
       "var gd = document.getElementById('e48a1ce4-f343-4fba-99e9-95439934f300');\n",
       "var x = new MutationObserver(function (mutations, observer) {{\n",
       "        var display = window.getComputedStyle(gd).display;\n",
       "        if (!display || display === 'none') {{\n",
       "            console.log([gd, 'removed!']);\n",
       "            Plotly.purge(gd);\n",
       "            observer.disconnect();\n",
       "        }}\n",
       "}});\n",
       "\n",
       "// Listen for the removal of the full notebook cells\n",
       "var notebookContainer = gd.closest('#notebook-container');\n",
       "if (notebookContainer) {{\n",
       "    x.observe(notebookContainer, {childList: true});\n",
       "}}\n",
       "\n",
       "// Listen for the clearing of the current output cell\n",
       "var outputEl = gd.closest('.output');\n",
       "if (outputEl) {{\n",
       "    x.observe(outputEl, {childList: true});\n",
       "}}\n",
       "\n",
       "                        })                };                });            </script>        </div>"
      ]
     },
     "metadata": {},
     "output_type": "display_data"
    }
   ],
   "source": [
    "#Pie chart for Source, Destination and Carrier_Name to observe the similarities with Dalievery Status\n",
    "fig = px.pie(df['Source'].value_counts().reset_index(name='count'), values='count', names='Source', title='Track the popular Sources')\n",
    "fig.show()\n",
    "fig.write_html(\"images/Sourec_Pie_Chart.png\")"
   ]
  },
  {
   "cell_type": "code",
   "execution_count": 115,
   "id": "3f581db0",
   "metadata": {},
   "outputs": [
    {
     "data": {
      "application/vnd.plotly.v1+json": {
       "config": {
        "plotlyServerURL": "https://plot.ly"
       },
       "data": [
        {
         "domain": {
          "x": [
           0,
           1
          ],
          "y": [
           0,
           1
          ]
         },
         "hovertemplate": "Destination=%{label}<br>count=%{value}<extra></extra>",
         "labels": [
          "ATL",
          "ORD",
          "DFW",
          "DEN",
          "LAX",
          "PHX",
          "IAH",
          "LAS",
          "DTW",
          "SLC",
          "EWR",
          "SFO",
          "MCO",
          "MSP",
          "CLT",
          "BOS",
          "JFK",
          "LGA",
          "SEA",
          "BWI",
          "PHL",
          "SAN",
          "CVG",
          "MDW",
          "DCA",
          "TPA",
          "MEM",
          "IAD",
          "FLL",
          "CLE",
          "OAK",
          "MIA",
          "MCI",
          "STL",
          "RDU",
          "PDX",
          "SJC",
          "BNA",
          "HNL",
          "HOU",
          "SMF",
          "DAL",
          "AUS",
          "SNA",
          "SAT",
          "IND",
          "PIT",
          "ABQ",
          "MKE",
          "MSY",
          "ONT",
          "CMH",
          "JAX",
          "BUR",
          "RSW",
          "PBI",
          "BDL",
          "TUS",
          "OMA",
          "OKC",
          "RNO",
          "BUF",
          "TUL",
          "SJU",
          "BHM",
          "SDF",
          "PVD",
          "ELP",
          "OGG",
          "RIC",
          "MHT",
          "ANC",
          "BOI",
          "COS",
          "ORF",
          "GEG",
          "GRR",
          "DSM",
          "LGB",
          "DAY",
          "LIT",
          "FAT",
          "ROC",
          "CHS",
          "ICT",
          "SAV",
          "XNA",
          "ALB",
          "LIH",
          "PSP",
          "GSO",
          "TYS",
          "KOA",
          "MSN",
          "SBA",
          "JAN",
          "SYR",
          "GSP",
          "HSV",
          "HPN",
          "ISP",
          "CAE",
          "SGF",
          "LEX",
          "PNS",
          "FNT",
          "BTR",
          "CID",
          "LBB",
          "GPT",
          "CAK",
          "MLI",
          "GRB",
          "MRY",
          "ITO",
          "MDT",
          "SHV",
          "SRQ",
          "AMA",
          "MAF",
          "PWM",
          "BTV",
          "VPS",
          "MOB",
          "SBP",
          "PHF",
          "EUG",
          "MFR",
          "FWA",
          "ASE",
          "EVV",
          "ATW",
          "FSD",
          "PIA",
          "MYR",
          "SWF",
          "TLH",
          "BFL",
          "GJT",
          "BZN",
          "LFT",
          "FAI",
          "SBN",
          "BMI",
          "ABE",
          "FAR",
          "CRP",
          "BIL",
          "GRK",
          "HRL",
          "YUM",
          "CHA",
          "AZO",
          "JNU",
          "RAP",
          "MFE",
          "LAN",
          "EGE",
          "PFN",
          "MGM",
          "DRO",
          "AVL",
          "DAB",
          "RST",
          "SGU",
          "STT",
          "TVC",
          "RDM",
          "JAC",
          "ACV",
          "IDA",
          "ROA",
          "CRW",
          "LNK",
          "HDN",
          "ILM",
          "MSO",
          "CPR",
          "MOD",
          "CMI",
          "SUN",
          "FCA",
          "FSM",
          "PSC",
          "MTJ",
          "LAW",
          "ABI",
          "MLU",
          "BGR",
          "MBS",
          "BIS",
          "AEX",
          "CLD",
          "SPS",
          "AVP",
          "DLH",
          "KTN",
          "GTF",
          "ACT",
          "AGS",
          "TWF",
          "TRI",
          "LRD",
          "MLB",
          "FAY",
          "GNV",
          "LSE",
          "CWA",
          "PIH",
          "FLG",
          "TYR",
          "RDD",
          "HLN",
          "SMX",
          "EKO",
          "SJT",
          "BQN",
          "TOL",
          "CLL",
          "BRO",
          "DHN",
          "GFK",
          "SPI",
          "CSG",
          "CIC",
          "ERI",
          "OXR",
          "IPL",
          "ELM",
          "DBQ",
          "SIT",
          "TXK",
          "EYW",
          "ABY",
          "COD",
          "MOT",
          "LCH",
          "OME",
          "OTZ",
          "GGG",
          "OAJ",
          "BET",
          "CEC",
          "IYK",
          "HHH",
          "GUC",
          "GTR",
          "MQT",
          "CHO",
          "BQK",
          "VLD",
          "ROW",
          "EWN",
          "PSE",
          "MCN",
          "CDV",
          "BRW",
          "SCC",
          "WRG",
          "YAK",
          "PSG",
          "BGM",
          "ADQ",
          "BTM",
          "SLE",
          "CDC",
          "MEI",
          "PMD",
          "LYH",
          "FLO",
          "LWS",
          "SCE",
          "RFD",
          "GCC",
          "STX",
          "YKM",
          "MKG",
          "RKS",
          "BPT",
          "TEX",
          "CMX",
          "ALO",
          "BLI",
          "SUX",
          "ACY",
          "PLN",
          "ACK",
          "LWB",
          "WYS",
          "RHI",
          "ADK",
          "AKN",
          "DLG",
          "BJI",
          "INL",
          "GST",
          "TUP",
          "CYS",
          "OGD"
         ],
         "legendgroup": "",
         "name": "",
         "showlegend": true,
         "type": "pie",
         "values": [
          203275,
          168109,
          136365,
          118776,
          110008,
          102338,
          93581,
          88647,
          82550,
          71389,
          69961,
          68365,
          68002,
          67401,
          62095,
          58777,
          57989,
          57818,
          53235,
          52044,
          49129,
          47761,
          47477,
          44740,
          42249,
          40975,
          40398,
          38108,
          35964,
          33384,
          32737,
          31862,
          31521,
          30846,
          30011,
          28928,
          28816,
          28762,
          28599,
          27822,
          27581,
          27434,
          25734,
          23919,
          23011,
          21569,
          21468,
          20800,
          20510,
          20457,
          19771,
          17530,
          17024,
          15917,
          15516,
          15295,
          15181,
          14616,
          13455,
          13154,
          12939,
          12600,
          11879,
          11851,
          11841,
          11644,
          11347,
          10365,
          10043,
          9760,
          9411,
          9161,
          8668,
          8562,
          8207,
          8137,
          8051,
          7972,
          7644,
          7613,
          7567,
          7539,
          7412,
          7104,
          7005,
          6997,
          6913,
          6896,
          6842,
          6735,
          6709,
          6675,
          6497,
          6339,
          6321,
          6274,
          6158,
          5873,
          5296,
          5266,
          5240,
          5177,
          5037,
          4887,
          4818,
          4610,
          4426,
          4332,
          4288,
          4271,
          4249,
          4091,
          4059,
          4038,
          4034,
          3957,
          3908,
          3843,
          3659,
          3509,
          3464,
          3440,
          3408,
          3148,
          3133,
          3126,
          3026,
          3009,
          2923,
          2850,
          2803,
          2796,
          2781,
          2727,
          2626,
          2623,
          2584,
          2498,
          2489,
          2451,
          2434,
          2416,
          2397,
          2390,
          2327,
          2290,
          2211,
          2201,
          2182,
          2179,
          2170,
          2068,
          2057,
          2042,
          2026,
          2005,
          1999,
          1980,
          1930,
          1899,
          1879,
          1878,
          1864,
          1819,
          1797,
          1797,
          1794,
          1764,
          1747,
          1740,
          1711,
          1670,
          1567,
          1558,
          1557,
          1545,
          1538,
          1442,
          1438,
          1405,
          1403,
          1357,
          1354,
          1351,
          1338,
          1316,
          1301,
          1298,
          1297,
          1294,
          1236,
          1177,
          1175,
          1153,
          1147,
          1140,
          1139,
          1126,
          1090,
          1074,
          1041,
          1028,
          999,
          997,
          994,
          992,
          909,
          889,
          881,
          876,
          873,
          871,
          866,
          860,
          842,
          793,
          766,
          752,
          739,
          733,
          691,
          687,
          680,
          679,
          674,
          657,
          648,
          647,
          643,
          639,
          620,
          606,
          579,
          575,
          564,
          542,
          525,
          525,
          523,
          519,
          518,
          507,
          505,
          469,
          467,
          464,
          463,
          462,
          461,
          456,
          448,
          430,
          429,
          420,
          403,
          362,
          360,
          357,
          356,
          355,
          354,
          349,
          342,
          339,
          331,
          327,
          325,
          325,
          317,
          308,
          305,
          294,
          291,
          274,
          243,
          234,
          217,
          184,
          183,
          137,
          134,
          132,
          121,
          111,
          110,
          104,
          82,
          61,
          56,
          53,
          49,
          41,
          41,
          26,
          25,
          23,
          9,
          2,
          2
         ]
        }
       ],
       "layout": {
        "legend": {
         "tracegroupgap": 0
        },
        "template": {
         "data": {
          "bar": [
           {
            "error_x": {
             "color": "#2a3f5f"
            },
            "error_y": {
             "color": "#2a3f5f"
            },
            "marker": {
             "line": {
              "color": "#E5ECF6",
              "width": 0.5
             },
             "pattern": {
              "fillmode": "overlay",
              "size": 10,
              "solidity": 0.2
             }
            },
            "type": "bar"
           }
          ],
          "barpolar": [
           {
            "marker": {
             "line": {
              "color": "#E5ECF6",
              "width": 0.5
             },
             "pattern": {
              "fillmode": "overlay",
              "size": 10,
              "solidity": 0.2
             }
            },
            "type": "barpolar"
           }
          ],
          "carpet": [
           {
            "aaxis": {
             "endlinecolor": "#2a3f5f",
             "gridcolor": "white",
             "linecolor": "white",
             "minorgridcolor": "white",
             "startlinecolor": "#2a3f5f"
            },
            "baxis": {
             "endlinecolor": "#2a3f5f",
             "gridcolor": "white",
             "linecolor": "white",
             "minorgridcolor": "white",
             "startlinecolor": "#2a3f5f"
            },
            "type": "carpet"
           }
          ],
          "choropleth": [
           {
            "colorbar": {
             "outlinewidth": 0,
             "ticks": ""
            },
            "type": "choropleth"
           }
          ],
          "contour": [
           {
            "colorbar": {
             "outlinewidth": 0,
             "ticks": ""
            },
            "colorscale": [
             [
              0,
              "#0d0887"
             ],
             [
              0.1111111111111111,
              "#46039f"
             ],
             [
              0.2222222222222222,
              "#7201a8"
             ],
             [
              0.3333333333333333,
              "#9c179e"
             ],
             [
              0.4444444444444444,
              "#bd3786"
             ],
             [
              0.5555555555555556,
              "#d8576b"
             ],
             [
              0.6666666666666666,
              "#ed7953"
             ],
             [
              0.7777777777777778,
              "#fb9f3a"
             ],
             [
              0.8888888888888888,
              "#fdca26"
             ],
             [
              1,
              "#f0f921"
             ]
            ],
            "type": "contour"
           }
          ],
          "contourcarpet": [
           {
            "colorbar": {
             "outlinewidth": 0,
             "ticks": ""
            },
            "type": "contourcarpet"
           }
          ],
          "heatmap": [
           {
            "colorbar": {
             "outlinewidth": 0,
             "ticks": ""
            },
            "colorscale": [
             [
              0,
              "#0d0887"
             ],
             [
              0.1111111111111111,
              "#46039f"
             ],
             [
              0.2222222222222222,
              "#7201a8"
             ],
             [
              0.3333333333333333,
              "#9c179e"
             ],
             [
              0.4444444444444444,
              "#bd3786"
             ],
             [
              0.5555555555555556,
              "#d8576b"
             ],
             [
              0.6666666666666666,
              "#ed7953"
             ],
             [
              0.7777777777777778,
              "#fb9f3a"
             ],
             [
              0.8888888888888888,
              "#fdca26"
             ],
             [
              1,
              "#f0f921"
             ]
            ],
            "type": "heatmap"
           }
          ],
          "heatmapgl": [
           {
            "colorbar": {
             "outlinewidth": 0,
             "ticks": ""
            },
            "colorscale": [
             [
              0,
              "#0d0887"
             ],
             [
              0.1111111111111111,
              "#46039f"
             ],
             [
              0.2222222222222222,
              "#7201a8"
             ],
             [
              0.3333333333333333,
              "#9c179e"
             ],
             [
              0.4444444444444444,
              "#bd3786"
             ],
             [
              0.5555555555555556,
              "#d8576b"
             ],
             [
              0.6666666666666666,
              "#ed7953"
             ],
             [
              0.7777777777777778,
              "#fb9f3a"
             ],
             [
              0.8888888888888888,
              "#fdca26"
             ],
             [
              1,
              "#f0f921"
             ]
            ],
            "type": "heatmapgl"
           }
          ],
          "histogram": [
           {
            "marker": {
             "pattern": {
              "fillmode": "overlay",
              "size": 10,
              "solidity": 0.2
             }
            },
            "type": "histogram"
           }
          ],
          "histogram2d": [
           {
            "colorbar": {
             "outlinewidth": 0,
             "ticks": ""
            },
            "colorscale": [
             [
              0,
              "#0d0887"
             ],
             [
              0.1111111111111111,
              "#46039f"
             ],
             [
              0.2222222222222222,
              "#7201a8"
             ],
             [
              0.3333333333333333,
              "#9c179e"
             ],
             [
              0.4444444444444444,
              "#bd3786"
             ],
             [
              0.5555555555555556,
              "#d8576b"
             ],
             [
              0.6666666666666666,
              "#ed7953"
             ],
             [
              0.7777777777777778,
              "#fb9f3a"
             ],
             [
              0.8888888888888888,
              "#fdca26"
             ],
             [
              1,
              "#f0f921"
             ]
            ],
            "type": "histogram2d"
           }
          ],
          "histogram2dcontour": [
           {
            "colorbar": {
             "outlinewidth": 0,
             "ticks": ""
            },
            "colorscale": [
             [
              0,
              "#0d0887"
             ],
             [
              0.1111111111111111,
              "#46039f"
             ],
             [
              0.2222222222222222,
              "#7201a8"
             ],
             [
              0.3333333333333333,
              "#9c179e"
             ],
             [
              0.4444444444444444,
              "#bd3786"
             ],
             [
              0.5555555555555556,
              "#d8576b"
             ],
             [
              0.6666666666666666,
              "#ed7953"
             ],
             [
              0.7777777777777778,
              "#fb9f3a"
             ],
             [
              0.8888888888888888,
              "#fdca26"
             ],
             [
              1,
              "#f0f921"
             ]
            ],
            "type": "histogram2dcontour"
           }
          ],
          "mesh3d": [
           {
            "colorbar": {
             "outlinewidth": 0,
             "ticks": ""
            },
            "type": "mesh3d"
           }
          ],
          "parcoords": [
           {
            "line": {
             "colorbar": {
              "outlinewidth": 0,
              "ticks": ""
             }
            },
            "type": "parcoords"
           }
          ],
          "pie": [
           {
            "automargin": true,
            "type": "pie"
           }
          ],
          "scatter": [
           {
            "fillpattern": {
             "fillmode": "overlay",
             "size": 10,
             "solidity": 0.2
            },
            "type": "scatter"
           }
          ],
          "scatter3d": [
           {
            "line": {
             "colorbar": {
              "outlinewidth": 0,
              "ticks": ""
             }
            },
            "marker": {
             "colorbar": {
              "outlinewidth": 0,
              "ticks": ""
             }
            },
            "type": "scatter3d"
           }
          ],
          "scattercarpet": [
           {
            "marker": {
             "colorbar": {
              "outlinewidth": 0,
              "ticks": ""
             }
            },
            "type": "scattercarpet"
           }
          ],
          "scattergeo": [
           {
            "marker": {
             "colorbar": {
              "outlinewidth": 0,
              "ticks": ""
             }
            },
            "type": "scattergeo"
           }
          ],
          "scattergl": [
           {
            "marker": {
             "colorbar": {
              "outlinewidth": 0,
              "ticks": ""
             }
            },
            "type": "scattergl"
           }
          ],
          "scattermapbox": [
           {
            "marker": {
             "colorbar": {
              "outlinewidth": 0,
              "ticks": ""
             }
            },
            "type": "scattermapbox"
           }
          ],
          "scatterpolar": [
           {
            "marker": {
             "colorbar": {
              "outlinewidth": 0,
              "ticks": ""
             }
            },
            "type": "scatterpolar"
           }
          ],
          "scatterpolargl": [
           {
            "marker": {
             "colorbar": {
              "outlinewidth": 0,
              "ticks": ""
             }
            },
            "type": "scatterpolargl"
           }
          ],
          "scatterternary": [
           {
            "marker": {
             "colorbar": {
              "outlinewidth": 0,
              "ticks": ""
             }
            },
            "type": "scatterternary"
           }
          ],
          "surface": [
           {
            "colorbar": {
             "outlinewidth": 0,
             "ticks": ""
            },
            "colorscale": [
             [
              0,
              "#0d0887"
             ],
             [
              0.1111111111111111,
              "#46039f"
             ],
             [
              0.2222222222222222,
              "#7201a8"
             ],
             [
              0.3333333333333333,
              "#9c179e"
             ],
             [
              0.4444444444444444,
              "#bd3786"
             ],
             [
              0.5555555555555556,
              "#d8576b"
             ],
             [
              0.6666666666666666,
              "#ed7953"
             ],
             [
              0.7777777777777778,
              "#fb9f3a"
             ],
             [
              0.8888888888888888,
              "#fdca26"
             ],
             [
              1,
              "#f0f921"
             ]
            ],
            "type": "surface"
           }
          ],
          "table": [
           {
            "cells": {
             "fill": {
              "color": "#EBF0F8"
             },
             "line": {
              "color": "white"
             }
            },
            "header": {
             "fill": {
              "color": "#C8D4E3"
             },
             "line": {
              "color": "white"
             }
            },
            "type": "table"
           }
          ]
         },
         "layout": {
          "annotationdefaults": {
           "arrowcolor": "#2a3f5f",
           "arrowhead": 0,
           "arrowwidth": 1
          },
          "autotypenumbers": "strict",
          "coloraxis": {
           "colorbar": {
            "outlinewidth": 0,
            "ticks": ""
           }
          },
          "colorscale": {
           "diverging": [
            [
             0,
             "#8e0152"
            ],
            [
             0.1,
             "#c51b7d"
            ],
            [
             0.2,
             "#de77ae"
            ],
            [
             0.3,
             "#f1b6da"
            ],
            [
             0.4,
             "#fde0ef"
            ],
            [
             0.5,
             "#f7f7f7"
            ],
            [
             0.6,
             "#e6f5d0"
            ],
            [
             0.7,
             "#b8e186"
            ],
            [
             0.8,
             "#7fbc41"
            ],
            [
             0.9,
             "#4d9221"
            ],
            [
             1,
             "#276419"
            ]
           ],
           "sequential": [
            [
             0,
             "#0d0887"
            ],
            [
             0.1111111111111111,
             "#46039f"
            ],
            [
             0.2222222222222222,
             "#7201a8"
            ],
            [
             0.3333333333333333,
             "#9c179e"
            ],
            [
             0.4444444444444444,
             "#bd3786"
            ],
            [
             0.5555555555555556,
             "#d8576b"
            ],
            [
             0.6666666666666666,
             "#ed7953"
            ],
            [
             0.7777777777777778,
             "#fb9f3a"
            ],
            [
             0.8888888888888888,
             "#fdca26"
            ],
            [
             1,
             "#f0f921"
            ]
           ],
           "sequentialminus": [
            [
             0,
             "#0d0887"
            ],
            [
             0.1111111111111111,
             "#46039f"
            ],
            [
             0.2222222222222222,
             "#7201a8"
            ],
            [
             0.3333333333333333,
             "#9c179e"
            ],
            [
             0.4444444444444444,
             "#bd3786"
            ],
            [
             0.5555555555555556,
             "#d8576b"
            ],
            [
             0.6666666666666666,
             "#ed7953"
            ],
            [
             0.7777777777777778,
             "#fb9f3a"
            ],
            [
             0.8888888888888888,
             "#fdca26"
            ],
            [
             1,
             "#f0f921"
            ]
           ]
          },
          "colorway": [
           "#636efa",
           "#EF553B",
           "#00cc96",
           "#ab63fa",
           "#FFA15A",
           "#19d3f3",
           "#FF6692",
           "#B6E880",
           "#FF97FF",
           "#FECB52"
          ],
          "font": {
           "color": "#2a3f5f"
          },
          "geo": {
           "bgcolor": "white",
           "lakecolor": "white",
           "landcolor": "#E5ECF6",
           "showlakes": true,
           "showland": true,
           "subunitcolor": "white"
          },
          "hoverlabel": {
           "align": "left"
          },
          "hovermode": "closest",
          "mapbox": {
           "style": "light"
          },
          "paper_bgcolor": "white",
          "plot_bgcolor": "#E5ECF6",
          "polar": {
           "angularaxis": {
            "gridcolor": "white",
            "linecolor": "white",
            "ticks": ""
           },
           "bgcolor": "#E5ECF6",
           "radialaxis": {
            "gridcolor": "white",
            "linecolor": "white",
            "ticks": ""
           }
          },
          "scene": {
           "xaxis": {
            "backgroundcolor": "#E5ECF6",
            "gridcolor": "white",
            "gridwidth": 2,
            "linecolor": "white",
            "showbackground": true,
            "ticks": "",
            "zerolinecolor": "white"
           },
           "yaxis": {
            "backgroundcolor": "#E5ECF6",
            "gridcolor": "white",
            "gridwidth": 2,
            "linecolor": "white",
            "showbackground": true,
            "ticks": "",
            "zerolinecolor": "white"
           },
           "zaxis": {
            "backgroundcolor": "#E5ECF6",
            "gridcolor": "white",
            "gridwidth": 2,
            "linecolor": "white",
            "showbackground": true,
            "ticks": "",
            "zerolinecolor": "white"
           }
          },
          "shapedefaults": {
           "line": {
            "color": "#2a3f5f"
           }
          },
          "ternary": {
           "aaxis": {
            "gridcolor": "white",
            "linecolor": "white",
            "ticks": ""
           },
           "baxis": {
            "gridcolor": "white",
            "linecolor": "white",
            "ticks": ""
           },
           "bgcolor": "#E5ECF6",
           "caxis": {
            "gridcolor": "white",
            "linecolor": "white",
            "ticks": ""
           }
          },
          "title": {
           "x": 0.05
          },
          "xaxis": {
           "automargin": true,
           "gridcolor": "white",
           "linecolor": "white",
           "ticks": "",
           "title": {
            "standoff": 15
           },
           "zerolinecolor": "white",
           "zerolinewidth": 2
          },
          "yaxis": {
           "automargin": true,
           "gridcolor": "white",
           "linecolor": "white",
           "ticks": "",
           "title": {
            "standoff": 15
           },
           "zerolinecolor": "white",
           "zerolinewidth": 2
          }
         }
        },
        "title": {
         "text": "Track the popular Destinations"
        }
       }
      },
      "text/html": [
       "<div>                            <div id=\"98bee475-43df-4fb0-9017-3cb7bb937de8\" class=\"plotly-graph-div\" style=\"height:525px; width:100%;\"></div>            <script type=\"text/javascript\">                require([\"plotly\"], function(Plotly) {                    window.PLOTLYENV=window.PLOTLYENV || {};                                    if (document.getElementById(\"98bee475-43df-4fb0-9017-3cb7bb937de8\")) {                    Plotly.newPlot(                        \"98bee475-43df-4fb0-9017-3cb7bb937de8\",                        [{\"domain\":{\"x\":[0.0,1.0],\"y\":[0.0,1.0]},\"hovertemplate\":\"Destination=%{label}<br>count=%{value}<extra></extra>\",\"labels\":[\"ATL\",\"ORD\",\"DFW\",\"DEN\",\"LAX\",\"PHX\",\"IAH\",\"LAS\",\"DTW\",\"SLC\",\"EWR\",\"SFO\",\"MCO\",\"MSP\",\"CLT\",\"BOS\",\"JFK\",\"LGA\",\"SEA\",\"BWI\",\"PHL\",\"SAN\",\"CVG\",\"MDW\",\"DCA\",\"TPA\",\"MEM\",\"IAD\",\"FLL\",\"CLE\",\"OAK\",\"MIA\",\"MCI\",\"STL\",\"RDU\",\"PDX\",\"SJC\",\"BNA\",\"HNL\",\"HOU\",\"SMF\",\"DAL\",\"AUS\",\"SNA\",\"SAT\",\"IND\",\"PIT\",\"ABQ\",\"MKE\",\"MSY\",\"ONT\",\"CMH\",\"JAX\",\"BUR\",\"RSW\",\"PBI\",\"BDL\",\"TUS\",\"OMA\",\"OKC\",\"RNO\",\"BUF\",\"TUL\",\"SJU\",\"BHM\",\"SDF\",\"PVD\",\"ELP\",\"OGG\",\"RIC\",\"MHT\",\"ANC\",\"BOI\",\"COS\",\"ORF\",\"GEG\",\"GRR\",\"DSM\",\"LGB\",\"DAY\",\"LIT\",\"FAT\",\"ROC\",\"CHS\",\"ICT\",\"SAV\",\"XNA\",\"ALB\",\"LIH\",\"PSP\",\"GSO\",\"TYS\",\"KOA\",\"MSN\",\"SBA\",\"JAN\",\"SYR\",\"GSP\",\"HSV\",\"HPN\",\"ISP\",\"CAE\",\"SGF\",\"LEX\",\"PNS\",\"FNT\",\"BTR\",\"CID\",\"LBB\",\"GPT\",\"CAK\",\"MLI\",\"GRB\",\"MRY\",\"ITO\",\"MDT\",\"SHV\",\"SRQ\",\"AMA\",\"MAF\",\"PWM\",\"BTV\",\"VPS\",\"MOB\",\"SBP\",\"PHF\",\"EUG\",\"MFR\",\"FWA\",\"ASE\",\"EVV\",\"ATW\",\"FSD\",\"PIA\",\"MYR\",\"SWF\",\"TLH\",\"BFL\",\"GJT\",\"BZN\",\"LFT\",\"FAI\",\"SBN\",\"BMI\",\"ABE\",\"FAR\",\"CRP\",\"BIL\",\"GRK\",\"HRL\",\"YUM\",\"CHA\",\"AZO\",\"JNU\",\"RAP\",\"MFE\",\"LAN\",\"EGE\",\"PFN\",\"MGM\",\"DRO\",\"AVL\",\"DAB\",\"RST\",\"SGU\",\"STT\",\"TVC\",\"RDM\",\"JAC\",\"ACV\",\"IDA\",\"ROA\",\"CRW\",\"LNK\",\"HDN\",\"ILM\",\"MSO\",\"CPR\",\"MOD\",\"CMI\",\"SUN\",\"FCA\",\"FSM\",\"PSC\",\"MTJ\",\"LAW\",\"ABI\",\"MLU\",\"BGR\",\"MBS\",\"BIS\",\"AEX\",\"CLD\",\"SPS\",\"AVP\",\"DLH\",\"KTN\",\"GTF\",\"ACT\",\"AGS\",\"TWF\",\"TRI\",\"LRD\",\"MLB\",\"FAY\",\"GNV\",\"LSE\",\"CWA\",\"PIH\",\"FLG\",\"TYR\",\"RDD\",\"HLN\",\"SMX\",\"EKO\",\"SJT\",\"BQN\",\"TOL\",\"CLL\",\"BRO\",\"DHN\",\"GFK\",\"SPI\",\"CSG\",\"CIC\",\"ERI\",\"OXR\",\"IPL\",\"ELM\",\"DBQ\",\"SIT\",\"TXK\",\"EYW\",\"ABY\",\"COD\",\"MOT\",\"LCH\",\"OME\",\"OTZ\",\"GGG\",\"OAJ\",\"BET\",\"CEC\",\"IYK\",\"HHH\",\"GUC\",\"GTR\",\"MQT\",\"CHO\",\"BQK\",\"VLD\",\"ROW\",\"EWN\",\"PSE\",\"MCN\",\"CDV\",\"BRW\",\"SCC\",\"WRG\",\"YAK\",\"PSG\",\"BGM\",\"ADQ\",\"BTM\",\"SLE\",\"CDC\",\"MEI\",\"PMD\",\"LYH\",\"FLO\",\"LWS\",\"SCE\",\"RFD\",\"GCC\",\"STX\",\"YKM\",\"MKG\",\"RKS\",\"BPT\",\"TEX\",\"CMX\",\"ALO\",\"BLI\",\"SUX\",\"ACY\",\"PLN\",\"ACK\",\"LWB\",\"WYS\",\"RHI\",\"ADK\",\"AKN\",\"DLG\",\"BJI\",\"INL\",\"GST\",\"TUP\",\"CYS\",\"OGD\"],\"legendgroup\":\"\",\"name\":\"\",\"showlegend\":true,\"values\":[203275,168109,136365,118776,110008,102338,93581,88647,82550,71389,69961,68365,68002,67401,62095,58777,57989,57818,53235,52044,49129,47761,47477,44740,42249,40975,40398,38108,35964,33384,32737,31862,31521,30846,30011,28928,28816,28762,28599,27822,27581,27434,25734,23919,23011,21569,21468,20800,20510,20457,19771,17530,17024,15917,15516,15295,15181,14616,13455,13154,12939,12600,11879,11851,11841,11644,11347,10365,10043,9760,9411,9161,8668,8562,8207,8137,8051,7972,7644,7613,7567,7539,7412,7104,7005,6997,6913,6896,6842,6735,6709,6675,6497,6339,6321,6274,6158,5873,5296,5266,5240,5177,5037,4887,4818,4610,4426,4332,4288,4271,4249,4091,4059,4038,4034,3957,3908,3843,3659,3509,3464,3440,3408,3148,3133,3126,3026,3009,2923,2850,2803,2796,2781,2727,2626,2623,2584,2498,2489,2451,2434,2416,2397,2390,2327,2290,2211,2201,2182,2179,2170,2068,2057,2042,2026,2005,1999,1980,1930,1899,1879,1878,1864,1819,1797,1797,1794,1764,1747,1740,1711,1670,1567,1558,1557,1545,1538,1442,1438,1405,1403,1357,1354,1351,1338,1316,1301,1298,1297,1294,1236,1177,1175,1153,1147,1140,1139,1126,1090,1074,1041,1028,999,997,994,992,909,889,881,876,873,871,866,860,842,793,766,752,739,733,691,687,680,679,674,657,648,647,643,639,620,606,579,575,564,542,525,525,523,519,518,507,505,469,467,464,463,462,461,456,448,430,429,420,403,362,360,357,356,355,354,349,342,339,331,327,325,325,317,308,305,294,291,274,243,234,217,184,183,137,134,132,121,111,110,104,82,61,56,53,49,41,41,26,25,23,9,2,2],\"type\":\"pie\"}],                        {\"template\":{\"data\":{\"histogram2dcontour\":[{\"type\":\"histogram2dcontour\",\"colorbar\":{\"outlinewidth\":0,\"ticks\":\"\"},\"colorscale\":[[0.0,\"#0d0887\"],[0.1111111111111111,\"#46039f\"],[0.2222222222222222,\"#7201a8\"],[0.3333333333333333,\"#9c179e\"],[0.4444444444444444,\"#bd3786\"],[0.5555555555555556,\"#d8576b\"],[0.6666666666666666,\"#ed7953\"],[0.7777777777777778,\"#fb9f3a\"],[0.8888888888888888,\"#fdca26\"],[1.0,\"#f0f921\"]]}],\"choropleth\":[{\"type\":\"choropleth\",\"colorbar\":{\"outlinewidth\":0,\"ticks\":\"\"}}],\"histogram2d\":[{\"type\":\"histogram2d\",\"colorbar\":{\"outlinewidth\":0,\"ticks\":\"\"},\"colorscale\":[[0.0,\"#0d0887\"],[0.1111111111111111,\"#46039f\"],[0.2222222222222222,\"#7201a8\"],[0.3333333333333333,\"#9c179e\"],[0.4444444444444444,\"#bd3786\"],[0.5555555555555556,\"#d8576b\"],[0.6666666666666666,\"#ed7953\"],[0.7777777777777778,\"#fb9f3a\"],[0.8888888888888888,\"#fdca26\"],[1.0,\"#f0f921\"]]}],\"heatmap\":[{\"type\":\"heatmap\",\"colorbar\":{\"outlinewidth\":0,\"ticks\":\"\"},\"colorscale\":[[0.0,\"#0d0887\"],[0.1111111111111111,\"#46039f\"],[0.2222222222222222,\"#7201a8\"],[0.3333333333333333,\"#9c179e\"],[0.4444444444444444,\"#bd3786\"],[0.5555555555555556,\"#d8576b\"],[0.6666666666666666,\"#ed7953\"],[0.7777777777777778,\"#fb9f3a\"],[0.8888888888888888,\"#fdca26\"],[1.0,\"#f0f921\"]]}],\"heatmapgl\":[{\"type\":\"heatmapgl\",\"colorbar\":{\"outlinewidth\":0,\"ticks\":\"\"},\"colorscale\":[[0.0,\"#0d0887\"],[0.1111111111111111,\"#46039f\"],[0.2222222222222222,\"#7201a8\"],[0.3333333333333333,\"#9c179e\"],[0.4444444444444444,\"#bd3786\"],[0.5555555555555556,\"#d8576b\"],[0.6666666666666666,\"#ed7953\"],[0.7777777777777778,\"#fb9f3a\"],[0.8888888888888888,\"#fdca26\"],[1.0,\"#f0f921\"]]}],\"contourcarpet\":[{\"type\":\"contourcarpet\",\"colorbar\":{\"outlinewidth\":0,\"ticks\":\"\"}}],\"contour\":[{\"type\":\"contour\",\"colorbar\":{\"outlinewidth\":0,\"ticks\":\"\"},\"colorscale\":[[0.0,\"#0d0887\"],[0.1111111111111111,\"#46039f\"],[0.2222222222222222,\"#7201a8\"],[0.3333333333333333,\"#9c179e\"],[0.4444444444444444,\"#bd3786\"],[0.5555555555555556,\"#d8576b\"],[0.6666666666666666,\"#ed7953\"],[0.7777777777777778,\"#fb9f3a\"],[0.8888888888888888,\"#fdca26\"],[1.0,\"#f0f921\"]]}],\"surface\":[{\"type\":\"surface\",\"colorbar\":{\"outlinewidth\":0,\"ticks\":\"\"},\"colorscale\":[[0.0,\"#0d0887\"],[0.1111111111111111,\"#46039f\"],[0.2222222222222222,\"#7201a8\"],[0.3333333333333333,\"#9c179e\"],[0.4444444444444444,\"#bd3786\"],[0.5555555555555556,\"#d8576b\"],[0.6666666666666666,\"#ed7953\"],[0.7777777777777778,\"#fb9f3a\"],[0.8888888888888888,\"#fdca26\"],[1.0,\"#f0f921\"]]}],\"mesh3d\":[{\"type\":\"mesh3d\",\"colorbar\":{\"outlinewidth\":0,\"ticks\":\"\"}}],\"scatter\":[{\"fillpattern\":{\"fillmode\":\"overlay\",\"size\":10,\"solidity\":0.2},\"type\":\"scatter\"}],\"parcoords\":[{\"type\":\"parcoords\",\"line\":{\"colorbar\":{\"outlinewidth\":0,\"ticks\":\"\"}}}],\"scatterpolargl\":[{\"type\":\"scatterpolargl\",\"marker\":{\"colorbar\":{\"outlinewidth\":0,\"ticks\":\"\"}}}],\"bar\":[{\"error_x\":{\"color\":\"#2a3f5f\"},\"error_y\":{\"color\":\"#2a3f5f\"},\"marker\":{\"line\":{\"color\":\"#E5ECF6\",\"width\":0.5},\"pattern\":{\"fillmode\":\"overlay\",\"size\":10,\"solidity\":0.2}},\"type\":\"bar\"}],\"scattergeo\":[{\"type\":\"scattergeo\",\"marker\":{\"colorbar\":{\"outlinewidth\":0,\"ticks\":\"\"}}}],\"scatterpolar\":[{\"type\":\"scatterpolar\",\"marker\":{\"colorbar\":{\"outlinewidth\":0,\"ticks\":\"\"}}}],\"histogram\":[{\"marker\":{\"pattern\":{\"fillmode\":\"overlay\",\"size\":10,\"solidity\":0.2}},\"type\":\"histogram\"}],\"scattergl\":[{\"type\":\"scattergl\",\"marker\":{\"colorbar\":{\"outlinewidth\":0,\"ticks\":\"\"}}}],\"scatter3d\":[{\"type\":\"scatter3d\",\"line\":{\"colorbar\":{\"outlinewidth\":0,\"ticks\":\"\"}},\"marker\":{\"colorbar\":{\"outlinewidth\":0,\"ticks\":\"\"}}}],\"scattermapbox\":[{\"type\":\"scattermapbox\",\"marker\":{\"colorbar\":{\"outlinewidth\":0,\"ticks\":\"\"}}}],\"scatterternary\":[{\"type\":\"scatterternary\",\"marker\":{\"colorbar\":{\"outlinewidth\":0,\"ticks\":\"\"}}}],\"scattercarpet\":[{\"type\":\"scattercarpet\",\"marker\":{\"colorbar\":{\"outlinewidth\":0,\"ticks\":\"\"}}}],\"carpet\":[{\"aaxis\":{\"endlinecolor\":\"#2a3f5f\",\"gridcolor\":\"white\",\"linecolor\":\"white\",\"minorgridcolor\":\"white\",\"startlinecolor\":\"#2a3f5f\"},\"baxis\":{\"endlinecolor\":\"#2a3f5f\",\"gridcolor\":\"white\",\"linecolor\":\"white\",\"minorgridcolor\":\"white\",\"startlinecolor\":\"#2a3f5f\"},\"type\":\"carpet\"}],\"table\":[{\"cells\":{\"fill\":{\"color\":\"#EBF0F8\"},\"line\":{\"color\":\"white\"}},\"header\":{\"fill\":{\"color\":\"#C8D4E3\"},\"line\":{\"color\":\"white\"}},\"type\":\"table\"}],\"barpolar\":[{\"marker\":{\"line\":{\"color\":\"#E5ECF6\",\"width\":0.5},\"pattern\":{\"fillmode\":\"overlay\",\"size\":10,\"solidity\":0.2}},\"type\":\"barpolar\"}],\"pie\":[{\"automargin\":true,\"type\":\"pie\"}]},\"layout\":{\"autotypenumbers\":\"strict\",\"colorway\":[\"#636efa\",\"#EF553B\",\"#00cc96\",\"#ab63fa\",\"#FFA15A\",\"#19d3f3\",\"#FF6692\",\"#B6E880\",\"#FF97FF\",\"#FECB52\"],\"font\":{\"color\":\"#2a3f5f\"},\"hovermode\":\"closest\",\"hoverlabel\":{\"align\":\"left\"},\"paper_bgcolor\":\"white\",\"plot_bgcolor\":\"#E5ECF6\",\"polar\":{\"bgcolor\":\"#E5ECF6\",\"angularaxis\":{\"gridcolor\":\"white\",\"linecolor\":\"white\",\"ticks\":\"\"},\"radialaxis\":{\"gridcolor\":\"white\",\"linecolor\":\"white\",\"ticks\":\"\"}},\"ternary\":{\"bgcolor\":\"#E5ECF6\",\"aaxis\":{\"gridcolor\":\"white\",\"linecolor\":\"white\",\"ticks\":\"\"},\"baxis\":{\"gridcolor\":\"white\",\"linecolor\":\"white\",\"ticks\":\"\"},\"caxis\":{\"gridcolor\":\"white\",\"linecolor\":\"white\",\"ticks\":\"\"}},\"coloraxis\":{\"colorbar\":{\"outlinewidth\":0,\"ticks\":\"\"}},\"colorscale\":{\"sequential\":[[0.0,\"#0d0887\"],[0.1111111111111111,\"#46039f\"],[0.2222222222222222,\"#7201a8\"],[0.3333333333333333,\"#9c179e\"],[0.4444444444444444,\"#bd3786\"],[0.5555555555555556,\"#d8576b\"],[0.6666666666666666,\"#ed7953\"],[0.7777777777777778,\"#fb9f3a\"],[0.8888888888888888,\"#fdca26\"],[1.0,\"#f0f921\"]],\"sequentialminus\":[[0.0,\"#0d0887\"],[0.1111111111111111,\"#46039f\"],[0.2222222222222222,\"#7201a8\"],[0.3333333333333333,\"#9c179e\"],[0.4444444444444444,\"#bd3786\"],[0.5555555555555556,\"#d8576b\"],[0.6666666666666666,\"#ed7953\"],[0.7777777777777778,\"#fb9f3a\"],[0.8888888888888888,\"#fdca26\"],[1.0,\"#f0f921\"]],\"diverging\":[[0,\"#8e0152\"],[0.1,\"#c51b7d\"],[0.2,\"#de77ae\"],[0.3,\"#f1b6da\"],[0.4,\"#fde0ef\"],[0.5,\"#f7f7f7\"],[0.6,\"#e6f5d0\"],[0.7,\"#b8e186\"],[0.8,\"#7fbc41\"],[0.9,\"#4d9221\"],[1,\"#276419\"]]},\"xaxis\":{\"gridcolor\":\"white\",\"linecolor\":\"white\",\"ticks\":\"\",\"title\":{\"standoff\":15},\"zerolinecolor\":\"white\",\"automargin\":true,\"zerolinewidth\":2},\"yaxis\":{\"gridcolor\":\"white\",\"linecolor\":\"white\",\"ticks\":\"\",\"title\":{\"standoff\":15},\"zerolinecolor\":\"white\",\"automargin\":true,\"zerolinewidth\":2},\"scene\":{\"xaxis\":{\"backgroundcolor\":\"#E5ECF6\",\"gridcolor\":\"white\",\"linecolor\":\"white\",\"showbackground\":true,\"ticks\":\"\",\"zerolinecolor\":\"white\",\"gridwidth\":2},\"yaxis\":{\"backgroundcolor\":\"#E5ECF6\",\"gridcolor\":\"white\",\"linecolor\":\"white\",\"showbackground\":true,\"ticks\":\"\",\"zerolinecolor\":\"white\",\"gridwidth\":2},\"zaxis\":{\"backgroundcolor\":\"#E5ECF6\",\"gridcolor\":\"white\",\"linecolor\":\"white\",\"showbackground\":true,\"ticks\":\"\",\"zerolinecolor\":\"white\",\"gridwidth\":2}},\"shapedefaults\":{\"line\":{\"color\":\"#2a3f5f\"}},\"annotationdefaults\":{\"arrowcolor\":\"#2a3f5f\",\"arrowhead\":0,\"arrowwidth\":1},\"geo\":{\"bgcolor\":\"white\",\"landcolor\":\"#E5ECF6\",\"subunitcolor\":\"white\",\"showland\":true,\"showlakes\":true,\"lakecolor\":\"white\"},\"title\":{\"x\":0.05},\"mapbox\":{\"style\":\"light\"}}},\"legend\":{\"tracegroupgap\":0},\"title\":{\"text\":\"Track the popular Destinations\"}},                        {\"responsive\": true}                    ).then(function(){\n",
       "                            \n",
       "var gd = document.getElementById('98bee475-43df-4fb0-9017-3cb7bb937de8');\n",
       "var x = new MutationObserver(function (mutations, observer) {{\n",
       "        var display = window.getComputedStyle(gd).display;\n",
       "        if (!display || display === 'none') {{\n",
       "            console.log([gd, 'removed!']);\n",
       "            Plotly.purge(gd);\n",
       "            observer.disconnect();\n",
       "        }}\n",
       "}});\n",
       "\n",
       "// Listen for the removal of the full notebook cells\n",
       "var notebookContainer = gd.closest('#notebook-container');\n",
       "if (notebookContainer) {{\n",
       "    x.observe(notebookContainer, {childList: true});\n",
       "}}\n",
       "\n",
       "// Listen for the clearing of the current output cell\n",
       "var outputEl = gd.closest('.output');\n",
       "if (outputEl) {{\n",
       "    x.observe(outputEl, {childList: true});\n",
       "}}\n",
       "\n",
       "                        })                };                });            </script>        </div>"
      ]
     },
     "metadata": {},
     "output_type": "display_data"
    }
   ],
   "source": [
    "fig = px.pie(df['Destination'].value_counts().reset_index(name='count'), values='count', names='Destination',title='Track the popular Destinations')\n",
    "fig.show()\n",
    "fig.write_html(\"images/Destination_Pie_Chart.png\")"
   ]
  },
  {
   "cell_type": "code",
   "execution_count": 114,
   "id": "665f1d16",
   "metadata": {},
   "outputs": [
    {
     "data": {
      "application/vnd.plotly.v1+json": {
       "config": {
        "plotlyServerURL": "https://plot.ly"
       },
       "data": [
        {
         "domain": {
          "x": [
           0,
           1
          ],
          "y": [
           0,
           1
          ]
         },
         "hovertemplate": "Carrier_Name=%{label}<br>count=%{value}<extra></extra>",
         "labels": [
          "WN",
          "AA",
          "OO",
          "MQ",
          "UA",
          "US",
          "DL",
          "XE",
          "NW",
          "CO",
          "EV",
          "FL",
          "9E",
          "YV",
          "OH",
          "B6",
          "AS",
          "F9",
          "HA",
          "AQ"
         ],
         "legendgroup": "",
         "name": "",
         "showlegend": true,
         "type": "pie",
         "values": [
          597366,
          295685,
          285274,
          243102,
          227599,
          227576,
          221916,
          203345,
          184428,
          153934,
          137940,
          132384,
          127034,
          123703,
          102903,
          98879,
          75377,
          47730,
          28230,
          7758
         ]
        }
       ],
       "layout": {
        "legend": {
         "tracegroupgap": 0
        },
        "template": {
         "data": {
          "bar": [
           {
            "error_x": {
             "color": "#2a3f5f"
            },
            "error_y": {
             "color": "#2a3f5f"
            },
            "marker": {
             "line": {
              "color": "#E5ECF6",
              "width": 0.5
             },
             "pattern": {
              "fillmode": "overlay",
              "size": 10,
              "solidity": 0.2
             }
            },
            "type": "bar"
           }
          ],
          "barpolar": [
           {
            "marker": {
             "line": {
              "color": "#E5ECF6",
              "width": 0.5
             },
             "pattern": {
              "fillmode": "overlay",
              "size": 10,
              "solidity": 0.2
             }
            },
            "type": "barpolar"
           }
          ],
          "carpet": [
           {
            "aaxis": {
             "endlinecolor": "#2a3f5f",
             "gridcolor": "white",
             "linecolor": "white",
             "minorgridcolor": "white",
             "startlinecolor": "#2a3f5f"
            },
            "baxis": {
             "endlinecolor": "#2a3f5f",
             "gridcolor": "white",
             "linecolor": "white",
             "minorgridcolor": "white",
             "startlinecolor": "#2a3f5f"
            },
            "type": "carpet"
           }
          ],
          "choropleth": [
           {
            "colorbar": {
             "outlinewidth": 0,
             "ticks": ""
            },
            "type": "choropleth"
           }
          ],
          "contour": [
           {
            "colorbar": {
             "outlinewidth": 0,
             "ticks": ""
            },
            "colorscale": [
             [
              0,
              "#0d0887"
             ],
             [
              0.1111111111111111,
              "#46039f"
             ],
             [
              0.2222222222222222,
              "#7201a8"
             ],
             [
              0.3333333333333333,
              "#9c179e"
             ],
             [
              0.4444444444444444,
              "#bd3786"
             ],
             [
              0.5555555555555556,
              "#d8576b"
             ],
             [
              0.6666666666666666,
              "#ed7953"
             ],
             [
              0.7777777777777778,
              "#fb9f3a"
             ],
             [
              0.8888888888888888,
              "#fdca26"
             ],
             [
              1,
              "#f0f921"
             ]
            ],
            "type": "contour"
           }
          ],
          "contourcarpet": [
           {
            "colorbar": {
             "outlinewidth": 0,
             "ticks": ""
            },
            "type": "contourcarpet"
           }
          ],
          "heatmap": [
           {
            "colorbar": {
             "outlinewidth": 0,
             "ticks": ""
            },
            "colorscale": [
             [
              0,
              "#0d0887"
             ],
             [
              0.1111111111111111,
              "#46039f"
             ],
             [
              0.2222222222222222,
              "#7201a8"
             ],
             [
              0.3333333333333333,
              "#9c179e"
             ],
             [
              0.4444444444444444,
              "#bd3786"
             ],
             [
              0.5555555555555556,
              "#d8576b"
             ],
             [
              0.6666666666666666,
              "#ed7953"
             ],
             [
              0.7777777777777778,
              "#fb9f3a"
             ],
             [
              0.8888888888888888,
              "#fdca26"
             ],
             [
              1,
              "#f0f921"
             ]
            ],
            "type": "heatmap"
           }
          ],
          "heatmapgl": [
           {
            "colorbar": {
             "outlinewidth": 0,
             "ticks": ""
            },
            "colorscale": [
             [
              0,
              "#0d0887"
             ],
             [
              0.1111111111111111,
              "#46039f"
             ],
             [
              0.2222222222222222,
              "#7201a8"
             ],
             [
              0.3333333333333333,
              "#9c179e"
             ],
             [
              0.4444444444444444,
              "#bd3786"
             ],
             [
              0.5555555555555556,
              "#d8576b"
             ],
             [
              0.6666666666666666,
              "#ed7953"
             ],
             [
              0.7777777777777778,
              "#fb9f3a"
             ],
             [
              0.8888888888888888,
              "#fdca26"
             ],
             [
              1,
              "#f0f921"
             ]
            ],
            "type": "heatmapgl"
           }
          ],
          "histogram": [
           {
            "marker": {
             "pattern": {
              "fillmode": "overlay",
              "size": 10,
              "solidity": 0.2
             }
            },
            "type": "histogram"
           }
          ],
          "histogram2d": [
           {
            "colorbar": {
             "outlinewidth": 0,
             "ticks": ""
            },
            "colorscale": [
             [
              0,
              "#0d0887"
             ],
             [
              0.1111111111111111,
              "#46039f"
             ],
             [
              0.2222222222222222,
              "#7201a8"
             ],
             [
              0.3333333333333333,
              "#9c179e"
             ],
             [
              0.4444444444444444,
              "#bd3786"
             ],
             [
              0.5555555555555556,
              "#d8576b"
             ],
             [
              0.6666666666666666,
              "#ed7953"
             ],
             [
              0.7777777777777778,
              "#fb9f3a"
             ],
             [
              0.8888888888888888,
              "#fdca26"
             ],
             [
              1,
              "#f0f921"
             ]
            ],
            "type": "histogram2d"
           }
          ],
          "histogram2dcontour": [
           {
            "colorbar": {
             "outlinewidth": 0,
             "ticks": ""
            },
            "colorscale": [
             [
              0,
              "#0d0887"
             ],
             [
              0.1111111111111111,
              "#46039f"
             ],
             [
              0.2222222222222222,
              "#7201a8"
             ],
             [
              0.3333333333333333,
              "#9c179e"
             ],
             [
              0.4444444444444444,
              "#bd3786"
             ],
             [
              0.5555555555555556,
              "#d8576b"
             ],
             [
              0.6666666666666666,
              "#ed7953"
             ],
             [
              0.7777777777777778,
              "#fb9f3a"
             ],
             [
              0.8888888888888888,
              "#fdca26"
             ],
             [
              1,
              "#f0f921"
             ]
            ],
            "type": "histogram2dcontour"
           }
          ],
          "mesh3d": [
           {
            "colorbar": {
             "outlinewidth": 0,
             "ticks": ""
            },
            "type": "mesh3d"
           }
          ],
          "parcoords": [
           {
            "line": {
             "colorbar": {
              "outlinewidth": 0,
              "ticks": ""
             }
            },
            "type": "parcoords"
           }
          ],
          "pie": [
           {
            "automargin": true,
            "type": "pie"
           }
          ],
          "scatter": [
           {
            "fillpattern": {
             "fillmode": "overlay",
             "size": 10,
             "solidity": 0.2
            },
            "type": "scatter"
           }
          ],
          "scatter3d": [
           {
            "line": {
             "colorbar": {
              "outlinewidth": 0,
              "ticks": ""
             }
            },
            "marker": {
             "colorbar": {
              "outlinewidth": 0,
              "ticks": ""
             }
            },
            "type": "scatter3d"
           }
          ],
          "scattercarpet": [
           {
            "marker": {
             "colorbar": {
              "outlinewidth": 0,
              "ticks": ""
             }
            },
            "type": "scattercarpet"
           }
          ],
          "scattergeo": [
           {
            "marker": {
             "colorbar": {
              "outlinewidth": 0,
              "ticks": ""
             }
            },
            "type": "scattergeo"
           }
          ],
          "scattergl": [
           {
            "marker": {
             "colorbar": {
              "outlinewidth": 0,
              "ticks": ""
             }
            },
            "type": "scattergl"
           }
          ],
          "scattermapbox": [
           {
            "marker": {
             "colorbar": {
              "outlinewidth": 0,
              "ticks": ""
             }
            },
            "type": "scattermapbox"
           }
          ],
          "scatterpolar": [
           {
            "marker": {
             "colorbar": {
              "outlinewidth": 0,
              "ticks": ""
             }
            },
            "type": "scatterpolar"
           }
          ],
          "scatterpolargl": [
           {
            "marker": {
             "colorbar": {
              "outlinewidth": 0,
              "ticks": ""
             }
            },
            "type": "scatterpolargl"
           }
          ],
          "scatterternary": [
           {
            "marker": {
             "colorbar": {
              "outlinewidth": 0,
              "ticks": ""
             }
            },
            "type": "scatterternary"
           }
          ],
          "surface": [
           {
            "colorbar": {
             "outlinewidth": 0,
             "ticks": ""
            },
            "colorscale": [
             [
              0,
              "#0d0887"
             ],
             [
              0.1111111111111111,
              "#46039f"
             ],
             [
              0.2222222222222222,
              "#7201a8"
             ],
             [
              0.3333333333333333,
              "#9c179e"
             ],
             [
              0.4444444444444444,
              "#bd3786"
             ],
             [
              0.5555555555555556,
              "#d8576b"
             ],
             [
              0.6666666666666666,
              "#ed7953"
             ],
             [
              0.7777777777777778,
              "#fb9f3a"
             ],
             [
              0.8888888888888888,
              "#fdca26"
             ],
             [
              1,
              "#f0f921"
             ]
            ],
            "type": "surface"
           }
          ],
          "table": [
           {
            "cells": {
             "fill": {
              "color": "#EBF0F8"
             },
             "line": {
              "color": "white"
             }
            },
            "header": {
             "fill": {
              "color": "#C8D4E3"
             },
             "line": {
              "color": "white"
             }
            },
            "type": "table"
           }
          ]
         },
         "layout": {
          "annotationdefaults": {
           "arrowcolor": "#2a3f5f",
           "arrowhead": 0,
           "arrowwidth": 1
          },
          "autotypenumbers": "strict",
          "coloraxis": {
           "colorbar": {
            "outlinewidth": 0,
            "ticks": ""
           }
          },
          "colorscale": {
           "diverging": [
            [
             0,
             "#8e0152"
            ],
            [
             0.1,
             "#c51b7d"
            ],
            [
             0.2,
             "#de77ae"
            ],
            [
             0.3,
             "#f1b6da"
            ],
            [
             0.4,
             "#fde0ef"
            ],
            [
             0.5,
             "#f7f7f7"
            ],
            [
             0.6,
             "#e6f5d0"
            ],
            [
             0.7,
             "#b8e186"
            ],
            [
             0.8,
             "#7fbc41"
            ],
            [
             0.9,
             "#4d9221"
            ],
            [
             1,
             "#276419"
            ]
           ],
           "sequential": [
            [
             0,
             "#0d0887"
            ],
            [
             0.1111111111111111,
             "#46039f"
            ],
            [
             0.2222222222222222,
             "#7201a8"
            ],
            [
             0.3333333333333333,
             "#9c179e"
            ],
            [
             0.4444444444444444,
             "#bd3786"
            ],
            [
             0.5555555555555556,
             "#d8576b"
            ],
            [
             0.6666666666666666,
             "#ed7953"
            ],
            [
             0.7777777777777778,
             "#fb9f3a"
            ],
            [
             0.8888888888888888,
             "#fdca26"
            ],
            [
             1,
             "#f0f921"
            ]
           ],
           "sequentialminus": [
            [
             0,
             "#0d0887"
            ],
            [
             0.1111111111111111,
             "#46039f"
            ],
            [
             0.2222222222222222,
             "#7201a8"
            ],
            [
             0.3333333333333333,
             "#9c179e"
            ],
            [
             0.4444444444444444,
             "#bd3786"
            ],
            [
             0.5555555555555556,
             "#d8576b"
            ],
            [
             0.6666666666666666,
             "#ed7953"
            ],
            [
             0.7777777777777778,
             "#fb9f3a"
            ],
            [
             0.8888888888888888,
             "#fdca26"
            ],
            [
             1,
             "#f0f921"
            ]
           ]
          },
          "colorway": [
           "#636efa",
           "#EF553B",
           "#00cc96",
           "#ab63fa",
           "#FFA15A",
           "#19d3f3",
           "#FF6692",
           "#B6E880",
           "#FF97FF",
           "#FECB52"
          ],
          "font": {
           "color": "#2a3f5f"
          },
          "geo": {
           "bgcolor": "white",
           "lakecolor": "white",
           "landcolor": "#E5ECF6",
           "showlakes": true,
           "showland": true,
           "subunitcolor": "white"
          },
          "hoverlabel": {
           "align": "left"
          },
          "hovermode": "closest",
          "mapbox": {
           "style": "light"
          },
          "paper_bgcolor": "white",
          "plot_bgcolor": "#E5ECF6",
          "polar": {
           "angularaxis": {
            "gridcolor": "white",
            "linecolor": "white",
            "ticks": ""
           },
           "bgcolor": "#E5ECF6",
           "radialaxis": {
            "gridcolor": "white",
            "linecolor": "white",
            "ticks": ""
           }
          },
          "scene": {
           "xaxis": {
            "backgroundcolor": "#E5ECF6",
            "gridcolor": "white",
            "gridwidth": 2,
            "linecolor": "white",
            "showbackground": true,
            "ticks": "",
            "zerolinecolor": "white"
           },
           "yaxis": {
            "backgroundcolor": "#E5ECF6",
            "gridcolor": "white",
            "gridwidth": 2,
            "linecolor": "white",
            "showbackground": true,
            "ticks": "",
            "zerolinecolor": "white"
           },
           "zaxis": {
            "backgroundcolor": "#E5ECF6",
            "gridcolor": "white",
            "gridwidth": 2,
            "linecolor": "white",
            "showbackground": true,
            "ticks": "",
            "zerolinecolor": "white"
           }
          },
          "shapedefaults": {
           "line": {
            "color": "#2a3f5f"
           }
          },
          "ternary": {
           "aaxis": {
            "gridcolor": "white",
            "linecolor": "white",
            "ticks": ""
           },
           "baxis": {
            "gridcolor": "white",
            "linecolor": "white",
            "ticks": ""
           },
           "bgcolor": "#E5ECF6",
           "caxis": {
            "gridcolor": "white",
            "linecolor": "white",
            "ticks": ""
           }
          },
          "title": {
           "x": 0.05
          },
          "xaxis": {
           "automargin": true,
           "gridcolor": "white",
           "linecolor": "white",
           "ticks": "",
           "title": {
            "standoff": 15
           },
           "zerolinecolor": "white",
           "zerolinewidth": 2
          },
          "yaxis": {
           "automargin": true,
           "gridcolor": "white",
           "linecolor": "white",
           "ticks": "",
           "title": {
            "standoff": 15
           },
           "zerolinecolor": "white",
           "zerolinewidth": 2
          }
         }
        },
        "title": {
         "text": "Track the popular Carrier_Names"
        }
       }
      },
      "text/html": [
       "<div>                            <div id=\"847be3bc-5e5c-43da-b8e7-ecb07149069b\" class=\"plotly-graph-div\" style=\"height:525px; width:100%;\"></div>            <script type=\"text/javascript\">                require([\"plotly\"], function(Plotly) {                    window.PLOTLYENV=window.PLOTLYENV || {};                                    if (document.getElementById(\"847be3bc-5e5c-43da-b8e7-ecb07149069b\")) {                    Plotly.newPlot(                        \"847be3bc-5e5c-43da-b8e7-ecb07149069b\",                        [{\"domain\":{\"x\":[0.0,1.0],\"y\":[0.0,1.0]},\"hovertemplate\":\"Carrier_Name=%{label}<br>count=%{value}<extra></extra>\",\"labels\":[\"WN\",\"AA\",\"OO\",\"MQ\",\"UA\",\"US\",\"DL\",\"XE\",\"NW\",\"CO\",\"EV\",\"FL\",\"9E\",\"YV\",\"OH\",\"B6\",\"AS\",\"F9\",\"HA\",\"AQ\"],\"legendgroup\":\"\",\"name\":\"\",\"showlegend\":true,\"values\":[597366,295685,285274,243102,227599,227576,221916,203345,184428,153934,137940,132384,127034,123703,102903,98879,75377,47730,28230,7758],\"type\":\"pie\"}],                        {\"template\":{\"data\":{\"histogram2dcontour\":[{\"type\":\"histogram2dcontour\",\"colorbar\":{\"outlinewidth\":0,\"ticks\":\"\"},\"colorscale\":[[0.0,\"#0d0887\"],[0.1111111111111111,\"#46039f\"],[0.2222222222222222,\"#7201a8\"],[0.3333333333333333,\"#9c179e\"],[0.4444444444444444,\"#bd3786\"],[0.5555555555555556,\"#d8576b\"],[0.6666666666666666,\"#ed7953\"],[0.7777777777777778,\"#fb9f3a\"],[0.8888888888888888,\"#fdca26\"],[1.0,\"#f0f921\"]]}],\"choropleth\":[{\"type\":\"choropleth\",\"colorbar\":{\"outlinewidth\":0,\"ticks\":\"\"}}],\"histogram2d\":[{\"type\":\"histogram2d\",\"colorbar\":{\"outlinewidth\":0,\"ticks\":\"\"},\"colorscale\":[[0.0,\"#0d0887\"],[0.1111111111111111,\"#46039f\"],[0.2222222222222222,\"#7201a8\"],[0.3333333333333333,\"#9c179e\"],[0.4444444444444444,\"#bd3786\"],[0.5555555555555556,\"#d8576b\"],[0.6666666666666666,\"#ed7953\"],[0.7777777777777778,\"#fb9f3a\"],[0.8888888888888888,\"#fdca26\"],[1.0,\"#f0f921\"]]}],\"heatmap\":[{\"type\":\"heatmap\",\"colorbar\":{\"outlinewidth\":0,\"ticks\":\"\"},\"colorscale\":[[0.0,\"#0d0887\"],[0.1111111111111111,\"#46039f\"],[0.2222222222222222,\"#7201a8\"],[0.3333333333333333,\"#9c179e\"],[0.4444444444444444,\"#bd3786\"],[0.5555555555555556,\"#d8576b\"],[0.6666666666666666,\"#ed7953\"],[0.7777777777777778,\"#fb9f3a\"],[0.8888888888888888,\"#fdca26\"],[1.0,\"#f0f921\"]]}],\"heatmapgl\":[{\"type\":\"heatmapgl\",\"colorbar\":{\"outlinewidth\":0,\"ticks\":\"\"},\"colorscale\":[[0.0,\"#0d0887\"],[0.1111111111111111,\"#46039f\"],[0.2222222222222222,\"#7201a8\"],[0.3333333333333333,\"#9c179e\"],[0.4444444444444444,\"#bd3786\"],[0.5555555555555556,\"#d8576b\"],[0.6666666666666666,\"#ed7953\"],[0.7777777777777778,\"#fb9f3a\"],[0.8888888888888888,\"#fdca26\"],[1.0,\"#f0f921\"]]}],\"contourcarpet\":[{\"type\":\"contourcarpet\",\"colorbar\":{\"outlinewidth\":0,\"ticks\":\"\"}}],\"contour\":[{\"type\":\"contour\",\"colorbar\":{\"outlinewidth\":0,\"ticks\":\"\"},\"colorscale\":[[0.0,\"#0d0887\"],[0.1111111111111111,\"#46039f\"],[0.2222222222222222,\"#7201a8\"],[0.3333333333333333,\"#9c179e\"],[0.4444444444444444,\"#bd3786\"],[0.5555555555555556,\"#d8576b\"],[0.6666666666666666,\"#ed7953\"],[0.7777777777777778,\"#fb9f3a\"],[0.8888888888888888,\"#fdca26\"],[1.0,\"#f0f921\"]]}],\"surface\":[{\"type\":\"surface\",\"colorbar\":{\"outlinewidth\":0,\"ticks\":\"\"},\"colorscale\":[[0.0,\"#0d0887\"],[0.1111111111111111,\"#46039f\"],[0.2222222222222222,\"#7201a8\"],[0.3333333333333333,\"#9c179e\"],[0.4444444444444444,\"#bd3786\"],[0.5555555555555556,\"#d8576b\"],[0.6666666666666666,\"#ed7953\"],[0.7777777777777778,\"#fb9f3a\"],[0.8888888888888888,\"#fdca26\"],[1.0,\"#f0f921\"]]}],\"mesh3d\":[{\"type\":\"mesh3d\",\"colorbar\":{\"outlinewidth\":0,\"ticks\":\"\"}}],\"scatter\":[{\"fillpattern\":{\"fillmode\":\"overlay\",\"size\":10,\"solidity\":0.2},\"type\":\"scatter\"}],\"parcoords\":[{\"type\":\"parcoords\",\"line\":{\"colorbar\":{\"outlinewidth\":0,\"ticks\":\"\"}}}],\"scatterpolargl\":[{\"type\":\"scatterpolargl\",\"marker\":{\"colorbar\":{\"outlinewidth\":0,\"ticks\":\"\"}}}],\"bar\":[{\"error_x\":{\"color\":\"#2a3f5f\"},\"error_y\":{\"color\":\"#2a3f5f\"},\"marker\":{\"line\":{\"color\":\"#E5ECF6\",\"width\":0.5},\"pattern\":{\"fillmode\":\"overlay\",\"size\":10,\"solidity\":0.2}},\"type\":\"bar\"}],\"scattergeo\":[{\"type\":\"scattergeo\",\"marker\":{\"colorbar\":{\"outlinewidth\":0,\"ticks\":\"\"}}}],\"scatterpolar\":[{\"type\":\"scatterpolar\",\"marker\":{\"colorbar\":{\"outlinewidth\":0,\"ticks\":\"\"}}}],\"histogram\":[{\"marker\":{\"pattern\":{\"fillmode\":\"overlay\",\"size\":10,\"solidity\":0.2}},\"type\":\"histogram\"}],\"scattergl\":[{\"type\":\"scattergl\",\"marker\":{\"colorbar\":{\"outlinewidth\":0,\"ticks\":\"\"}}}],\"scatter3d\":[{\"type\":\"scatter3d\",\"line\":{\"colorbar\":{\"outlinewidth\":0,\"ticks\":\"\"}},\"marker\":{\"colorbar\":{\"outlinewidth\":0,\"ticks\":\"\"}}}],\"scattermapbox\":[{\"type\":\"scattermapbox\",\"marker\":{\"colorbar\":{\"outlinewidth\":0,\"ticks\":\"\"}}}],\"scatterternary\":[{\"type\":\"scatterternary\",\"marker\":{\"colorbar\":{\"outlinewidth\":0,\"ticks\":\"\"}}}],\"scattercarpet\":[{\"type\":\"scattercarpet\",\"marker\":{\"colorbar\":{\"outlinewidth\":0,\"ticks\":\"\"}}}],\"carpet\":[{\"aaxis\":{\"endlinecolor\":\"#2a3f5f\",\"gridcolor\":\"white\",\"linecolor\":\"white\",\"minorgridcolor\":\"white\",\"startlinecolor\":\"#2a3f5f\"},\"baxis\":{\"endlinecolor\":\"#2a3f5f\",\"gridcolor\":\"white\",\"linecolor\":\"white\",\"minorgridcolor\":\"white\",\"startlinecolor\":\"#2a3f5f\"},\"type\":\"carpet\"}],\"table\":[{\"cells\":{\"fill\":{\"color\":\"#EBF0F8\"},\"line\":{\"color\":\"white\"}},\"header\":{\"fill\":{\"color\":\"#C8D4E3\"},\"line\":{\"color\":\"white\"}},\"type\":\"table\"}],\"barpolar\":[{\"marker\":{\"line\":{\"color\":\"#E5ECF6\",\"width\":0.5},\"pattern\":{\"fillmode\":\"overlay\",\"size\":10,\"solidity\":0.2}},\"type\":\"barpolar\"}],\"pie\":[{\"automargin\":true,\"type\":\"pie\"}]},\"layout\":{\"autotypenumbers\":\"strict\",\"colorway\":[\"#636efa\",\"#EF553B\",\"#00cc96\",\"#ab63fa\",\"#FFA15A\",\"#19d3f3\",\"#FF6692\",\"#B6E880\",\"#FF97FF\",\"#FECB52\"],\"font\":{\"color\":\"#2a3f5f\"},\"hovermode\":\"closest\",\"hoverlabel\":{\"align\":\"left\"},\"paper_bgcolor\":\"white\",\"plot_bgcolor\":\"#E5ECF6\",\"polar\":{\"bgcolor\":\"#E5ECF6\",\"angularaxis\":{\"gridcolor\":\"white\",\"linecolor\":\"white\",\"ticks\":\"\"},\"radialaxis\":{\"gridcolor\":\"white\",\"linecolor\":\"white\",\"ticks\":\"\"}},\"ternary\":{\"bgcolor\":\"#E5ECF6\",\"aaxis\":{\"gridcolor\":\"white\",\"linecolor\":\"white\",\"ticks\":\"\"},\"baxis\":{\"gridcolor\":\"white\",\"linecolor\":\"white\",\"ticks\":\"\"},\"caxis\":{\"gridcolor\":\"white\",\"linecolor\":\"white\",\"ticks\":\"\"}},\"coloraxis\":{\"colorbar\":{\"outlinewidth\":0,\"ticks\":\"\"}},\"colorscale\":{\"sequential\":[[0.0,\"#0d0887\"],[0.1111111111111111,\"#46039f\"],[0.2222222222222222,\"#7201a8\"],[0.3333333333333333,\"#9c179e\"],[0.4444444444444444,\"#bd3786\"],[0.5555555555555556,\"#d8576b\"],[0.6666666666666666,\"#ed7953\"],[0.7777777777777778,\"#fb9f3a\"],[0.8888888888888888,\"#fdca26\"],[1.0,\"#f0f921\"]],\"sequentialminus\":[[0.0,\"#0d0887\"],[0.1111111111111111,\"#46039f\"],[0.2222222222222222,\"#7201a8\"],[0.3333333333333333,\"#9c179e\"],[0.4444444444444444,\"#bd3786\"],[0.5555555555555556,\"#d8576b\"],[0.6666666666666666,\"#ed7953\"],[0.7777777777777778,\"#fb9f3a\"],[0.8888888888888888,\"#fdca26\"],[1.0,\"#f0f921\"]],\"diverging\":[[0,\"#8e0152\"],[0.1,\"#c51b7d\"],[0.2,\"#de77ae\"],[0.3,\"#f1b6da\"],[0.4,\"#fde0ef\"],[0.5,\"#f7f7f7\"],[0.6,\"#e6f5d0\"],[0.7,\"#b8e186\"],[0.8,\"#7fbc41\"],[0.9,\"#4d9221\"],[1,\"#276419\"]]},\"xaxis\":{\"gridcolor\":\"white\",\"linecolor\":\"white\",\"ticks\":\"\",\"title\":{\"standoff\":15},\"zerolinecolor\":\"white\",\"automargin\":true,\"zerolinewidth\":2},\"yaxis\":{\"gridcolor\":\"white\",\"linecolor\":\"white\",\"ticks\":\"\",\"title\":{\"standoff\":15},\"zerolinecolor\":\"white\",\"automargin\":true,\"zerolinewidth\":2},\"scene\":{\"xaxis\":{\"backgroundcolor\":\"#E5ECF6\",\"gridcolor\":\"white\",\"linecolor\":\"white\",\"showbackground\":true,\"ticks\":\"\",\"zerolinecolor\":\"white\",\"gridwidth\":2},\"yaxis\":{\"backgroundcolor\":\"#E5ECF6\",\"gridcolor\":\"white\",\"linecolor\":\"white\",\"showbackground\":true,\"ticks\":\"\",\"zerolinecolor\":\"white\",\"gridwidth\":2},\"zaxis\":{\"backgroundcolor\":\"#E5ECF6\",\"gridcolor\":\"white\",\"linecolor\":\"white\",\"showbackground\":true,\"ticks\":\"\",\"zerolinecolor\":\"white\",\"gridwidth\":2}},\"shapedefaults\":{\"line\":{\"color\":\"#2a3f5f\"}},\"annotationdefaults\":{\"arrowcolor\":\"#2a3f5f\",\"arrowhead\":0,\"arrowwidth\":1},\"geo\":{\"bgcolor\":\"white\",\"landcolor\":\"#E5ECF6\",\"subunitcolor\":\"white\",\"showland\":true,\"showlakes\":true,\"lakecolor\":\"white\"},\"title\":{\"x\":0.05},\"mapbox\":{\"style\":\"light\"}}},\"legend\":{\"tracegroupgap\":0},\"title\":{\"text\":\"Track the popular Carrier_Names\"}},                        {\"responsive\": true}                    ).then(function(){\n",
       "                            \n",
       "var gd = document.getElementById('847be3bc-5e5c-43da-b8e7-ecb07149069b');\n",
       "var x = new MutationObserver(function (mutations, observer) {{\n",
       "        var display = window.getComputedStyle(gd).display;\n",
       "        if (!display || display === 'none') {{\n",
       "            console.log([gd, 'removed!']);\n",
       "            Plotly.purge(gd);\n",
       "            observer.disconnect();\n",
       "        }}\n",
       "}});\n",
       "\n",
       "// Listen for the removal of the full notebook cells\n",
       "var notebookContainer = gd.closest('#notebook-container');\n",
       "if (notebookContainer) {{\n",
       "    x.observe(notebookContainer, {childList: true});\n",
       "}}\n",
       "\n",
       "// Listen for the clearing of the current output cell\n",
       "var outputEl = gd.closest('.output');\n",
       "if (outputEl) {{\n",
       "    x.observe(outputEl, {childList: true});\n",
       "}}\n",
       "\n",
       "                        })                };                });            </script>        </div>"
      ]
     },
     "metadata": {},
     "output_type": "display_data"
    }
   ],
   "source": [
    "fig = px.pie(df['Carrier_Name'].value_counts().reset_index(name='count'), values='count', names='Carrier_Name', title='Track the popular Carrier_Names')\n",
    "fig.show()\n",
    "fig.write_html(\"images/Carrier_Name_Pie_Chart.png\")"
   ]
  },
  {
   "cell_type": "markdown",
   "id": "1756c2b0",
   "metadata": {},
   "source": [
    "<h4> As you can see the ablve 3 pie charts: \n",
    "    \n",
    "    1. Highest 3 source locations are 'ALT','ORD','DFW'\n",
    "    \n",
    "    2. Highest 3 destination locations are 'ALT','ORD','DFW'\n",
    "    \n",
    "    3. Highest 3 carrier_names are 'WN','AA','OO'\n",
    "</h4>"
   ]
  },
  {
   "cell_type": "code",
   "execution_count": null,
   "id": "3a5430c9",
   "metadata": {},
   "outputs": [],
   "source": [
    "#Comparison between the Actual vs Planned Planned Delivery statues.\n"
   ]
  },
  {
   "cell_type": "code",
   "execution_count": null,
   "id": "38f37ba3",
   "metadata": {},
   "outputs": [],
   "source": []
  },
  {
   "cell_type": "code",
   "execution_count": null,
   "id": "6bb8da5d",
   "metadata": {},
   "outputs": [],
   "source": []
  },
  {
   "cell_type": "code",
   "execution_count": null,
   "id": "9438aa4c",
   "metadata": {},
   "outputs": [],
   "source": []
  },
  {
   "cell_type": "code",
   "execution_count": null,
   "id": "7d6ee648",
   "metadata": {},
   "outputs": [],
   "source": []
  },
  {
   "cell_type": "code",
   "execution_count": null,
   "id": "1da27782",
   "metadata": {},
   "outputs": [],
   "source": []
  },
  {
   "cell_type": "code",
   "execution_count": null,
   "id": "05f6c1e0",
   "metadata": {},
   "outputs": [],
   "source": []
  },
  {
   "cell_type": "code",
   "execution_count": null,
   "id": "d9e46644",
   "metadata": {},
   "outputs": [],
   "source": []
  },
  {
   "cell_type": "code",
   "execution_count": null,
   "id": "6f27b6ea",
   "metadata": {},
   "outputs": [],
   "source": []
  },
  {
   "cell_type": "code",
   "execution_count": null,
   "id": "7a97cc97",
   "metadata": {},
   "outputs": [],
   "source": []
  },
  {
   "cell_type": "code",
   "execution_count": null,
   "id": "6c5f7e09",
   "metadata": {},
   "outputs": [],
   "source": []
  },
  {
   "cell_type": "code",
   "execution_count": null,
   "id": "e1479ea7",
   "metadata": {},
   "outputs": [],
   "source": []
  },
  {
   "cell_type": "code",
   "execution_count": null,
   "id": "6d1bf721",
   "metadata": {},
   "outputs": [],
   "source": []
  },
  {
   "cell_type": "code",
   "execution_count": null,
   "id": "2d3246ce",
   "metadata": {},
   "outputs": [],
   "source": []
  },
  {
   "cell_type": "code",
   "execution_count": null,
   "id": "49354ab2",
   "metadata": {},
   "outputs": [],
   "source": []
  },
  {
   "cell_type": "code",
   "execution_count": null,
   "id": "95a4d3ad",
   "metadata": {},
   "outputs": [],
   "source": []
  },
  {
   "cell_type": "code",
   "execution_count": null,
   "id": "891d0ed9",
   "metadata": {},
   "outputs": [],
   "source": []
  },
  {
   "cell_type": "code",
   "execution_count": null,
   "id": "0cad7110",
   "metadata": {},
   "outputs": [],
   "source": []
  },
  {
   "cell_type": "markdown",
   "id": "d6fb2ddf",
   "metadata": {},
   "source": [
    "<h3> Feature Engineering </h3>"
   ]
  },
  {
   "cell_type": "code",
   "execution_count": null,
   "id": "9908a509",
   "metadata": {},
   "outputs": [],
   "source": []
  },
  {
   "cell_type": "code",
   "execution_count": null,
   "id": "dd7e6d6f",
   "metadata": {},
   "outputs": [],
   "source": []
  },
  {
   "cell_type": "code",
   "execution_count": null,
   "id": "27d03b0a",
   "metadata": {},
   "outputs": [],
   "source": []
  },
  {
   "cell_type": "code",
   "execution_count": null,
   "id": "7d56f9c9",
   "metadata": {},
   "outputs": [],
   "source": []
  },
  {
   "cell_type": "code",
   "execution_count": null,
   "id": "2805661f",
   "metadata": {},
   "outputs": [],
   "source": []
  },
  {
   "cell_type": "code",
   "execution_count": null,
   "id": "dc426dd4",
   "metadata": {},
   "outputs": [],
   "source": []
  },
  {
   "cell_type": "code",
   "execution_count": null,
   "id": "046b28af",
   "metadata": {},
   "outputs": [],
   "source": []
  },
  {
   "cell_type": "code",
   "execution_count": null,
   "id": "dc2287e7",
   "metadata": {},
   "outputs": [],
   "source": []
  },
  {
   "cell_type": "markdown",
   "id": "d89fd382",
   "metadata": {},
   "source": [
    "<h3> Splitting the Data </h3>"
   ]
  },
  {
   "cell_type": "code",
   "execution_count": null,
   "id": "50ef94de",
   "metadata": {},
   "outputs": [],
   "source": []
  },
  {
   "cell_type": "code",
   "execution_count": null,
   "id": "760a49fe",
   "metadata": {},
   "outputs": [],
   "source": []
  },
  {
   "cell_type": "code",
   "execution_count": null,
   "id": "497a0dd4",
   "metadata": {},
   "outputs": [],
   "source": []
  },
  {
   "cell_type": "code",
   "execution_count": null,
   "id": "028a7d7f",
   "metadata": {},
   "outputs": [],
   "source": []
  },
  {
   "cell_type": "markdown",
   "id": "551a9561",
   "metadata": {},
   "source": [
    "<h3> Building the Model </h3>"
   ]
  },
  {
   "cell_type": "code",
   "execution_count": null,
   "id": "38f86d97",
   "metadata": {},
   "outputs": [],
   "source": []
  },
  {
   "cell_type": "code",
   "execution_count": null,
   "id": "5f73e741",
   "metadata": {},
   "outputs": [],
   "source": []
  },
  {
   "cell_type": "code",
   "execution_count": null,
   "id": "1a7b6d3a",
   "metadata": {},
   "outputs": [],
   "source": []
  },
  {
   "cell_type": "code",
   "execution_count": null,
   "id": "9b3218f1",
   "metadata": {},
   "outputs": [],
   "source": []
  },
  {
   "cell_type": "code",
   "execution_count": null,
   "id": "33f47fb9",
   "metadata": {},
   "outputs": [],
   "source": []
  },
  {
   "cell_type": "code",
   "execution_count": null,
   "id": "52cfa8f0",
   "metadata": {},
   "outputs": [],
   "source": []
  },
  {
   "cell_type": "code",
   "execution_count": null,
   "id": "9fbd2cb1",
   "metadata": {},
   "outputs": [],
   "source": []
  },
  {
   "cell_type": "code",
   "execution_count": null,
   "id": "b12de638",
   "metadata": {},
   "outputs": [],
   "source": []
  },
  {
   "cell_type": "code",
   "execution_count": null,
   "id": "9e56ceba",
   "metadata": {},
   "outputs": [],
   "source": []
  },
  {
   "cell_type": "code",
   "execution_count": null,
   "id": "e55c66cd",
   "metadata": {},
   "outputs": [],
   "source": []
  },
  {
   "cell_type": "code",
   "execution_count": null,
   "id": "f220189c",
   "metadata": {},
   "outputs": [],
   "source": []
  },
  {
   "cell_type": "code",
   "execution_count": null,
   "id": "dcef7bd7",
   "metadata": {},
   "outputs": [],
   "source": []
  },
  {
   "cell_type": "code",
   "execution_count": null,
   "id": "619ee71f",
   "metadata": {},
   "outputs": [],
   "source": []
  },
  {
   "cell_type": "code",
   "execution_count": null,
   "id": "0790751d",
   "metadata": {},
   "outputs": [],
   "source": []
  },
  {
   "cell_type": "code",
   "execution_count": null,
   "id": "99516d7a",
   "metadata": {},
   "outputs": [],
   "source": []
  },
  {
   "cell_type": "code",
   "execution_count": null,
   "id": "6accf0ef",
   "metadata": {},
   "outputs": [],
   "source": []
  },
  {
   "cell_type": "code",
   "execution_count": null,
   "id": "821d6cf8",
   "metadata": {},
   "outputs": [],
   "source": []
  },
  {
   "cell_type": "code",
   "execution_count": null,
   "id": "7385e2fb",
   "metadata": {},
   "outputs": [],
   "source": []
  },
  {
   "cell_type": "code",
   "execution_count": null,
   "id": "f5ccc683",
   "metadata": {},
   "outputs": [],
   "source": []
  },
  {
   "cell_type": "code",
   "execution_count": null,
   "id": "847f1647",
   "metadata": {},
   "outputs": [],
   "source": []
  },
  {
   "cell_type": "code",
   "execution_count": null,
   "id": "79e81c00",
   "metadata": {},
   "outputs": [],
   "source": []
  },
  {
   "cell_type": "code",
   "execution_count": null,
   "id": "d9af1eb8",
   "metadata": {},
   "outputs": [],
   "source": []
  },
  {
   "cell_type": "code",
   "execution_count": null,
   "id": "228171ea",
   "metadata": {},
   "outputs": [],
   "source": []
  },
  {
   "cell_type": "code",
   "execution_count": null,
   "id": "0619507d",
   "metadata": {},
   "outputs": [],
   "source": []
  },
  {
   "cell_type": "code",
   "execution_count": null,
   "id": "769489a4",
   "metadata": {},
   "outputs": [],
   "source": []
  },
  {
   "cell_type": "code",
   "execution_count": null,
   "id": "aa0c7e68",
   "metadata": {},
   "outputs": [],
   "source": []
  },
  {
   "cell_type": "code",
   "execution_count": null,
   "id": "b76758ac",
   "metadata": {},
   "outputs": [],
   "source": []
  },
  {
   "cell_type": "code",
   "execution_count": null,
   "id": "764b30b5",
   "metadata": {},
   "outputs": [],
   "source": []
  },
  {
   "cell_type": "code",
   "execution_count": null,
   "id": "da3469ff",
   "metadata": {},
   "outputs": [],
   "source": []
  },
  {
   "cell_type": "code",
   "execution_count": null,
   "id": "45810b6c",
   "metadata": {},
   "outputs": [],
   "source": []
  },
  {
   "cell_type": "code",
   "execution_count": null,
   "id": "0d98ae02",
   "metadata": {},
   "outputs": [],
   "source": []
  },
  {
   "cell_type": "code",
   "execution_count": null,
   "id": "f412e9ab",
   "metadata": {},
   "outputs": [],
   "source": []
  },
  {
   "cell_type": "code",
   "execution_count": null,
   "id": "4cecd0ee",
   "metadata": {},
   "outputs": [],
   "source": []
  },
  {
   "cell_type": "code",
   "execution_count": null,
   "id": "ab545041",
   "metadata": {},
   "outputs": [],
   "source": []
  },
  {
   "cell_type": "code",
   "execution_count": null,
   "id": "bb364c49",
   "metadata": {},
   "outputs": [],
   "source": []
  },
  {
   "cell_type": "code",
   "execution_count": null,
   "id": "e2b63280",
   "metadata": {},
   "outputs": [],
   "source": []
  },
  {
   "cell_type": "code",
   "execution_count": null,
   "id": "71103e18",
   "metadata": {},
   "outputs": [],
   "source": []
  },
  {
   "cell_type": "code",
   "execution_count": null,
   "id": "8a769f07",
   "metadata": {},
   "outputs": [],
   "source": []
  },
  {
   "cell_type": "code",
   "execution_count": null,
   "id": "648a9aa7",
   "metadata": {},
   "outputs": [],
   "source": []
  },
  {
   "cell_type": "code",
   "execution_count": null,
   "id": "ee931103",
   "metadata": {},
   "outputs": [],
   "source": []
  },
  {
   "cell_type": "code",
   "execution_count": null,
   "id": "c3bfac6e",
   "metadata": {},
   "outputs": [],
   "source": []
  },
  {
   "cell_type": "code",
   "execution_count": null,
   "id": "4fd20e13",
   "metadata": {},
   "outputs": [],
   "source": []
  },
  {
   "cell_type": "code",
   "execution_count": null,
   "id": "6d47af9c",
   "metadata": {},
   "outputs": [],
   "source": []
  },
  {
   "cell_type": "code",
   "execution_count": null,
   "id": "035a1edd",
   "metadata": {},
   "outputs": [],
   "source": []
  },
  {
   "cell_type": "markdown",
   "id": "d1503388",
   "metadata": {},
   "source": [
    "<h3> Model Evaluation </h3>"
   ]
  },
  {
   "cell_type": "code",
   "execution_count": null,
   "id": "9a881987",
   "metadata": {},
   "outputs": [],
   "source": []
  },
  {
   "cell_type": "code",
   "execution_count": null,
   "id": "b47df461",
   "metadata": {},
   "outputs": [],
   "source": []
  },
  {
   "cell_type": "code",
   "execution_count": null,
   "id": "2f8b038c",
   "metadata": {},
   "outputs": [],
   "source": []
  },
  {
   "cell_type": "code",
   "execution_count": null,
   "id": "3e811428",
   "metadata": {},
   "outputs": [],
   "source": []
  },
  {
   "cell_type": "code",
   "execution_count": null,
   "id": "6c4f512c",
   "metadata": {},
   "outputs": [],
   "source": []
  },
  {
   "cell_type": "code",
   "execution_count": null,
   "id": "5173d7ce",
   "metadata": {},
   "outputs": [],
   "source": []
  },
  {
   "cell_type": "code",
   "execution_count": null,
   "id": "afae8cbd",
   "metadata": {},
   "outputs": [],
   "source": []
  },
  {
   "cell_type": "code",
   "execution_count": null,
   "id": "e1d67f66",
   "metadata": {},
   "outputs": [],
   "source": []
  },
  {
   "cell_type": "code",
   "execution_count": null,
   "id": "4450fb0c",
   "metadata": {},
   "outputs": [],
   "source": []
  },
  {
   "cell_type": "code",
   "execution_count": null,
   "id": "27eb7c0c",
   "metadata": {},
   "outputs": [],
   "source": []
  },
  {
   "cell_type": "code",
   "execution_count": null,
   "id": "491a6977",
   "metadata": {},
   "outputs": [],
   "source": []
  },
  {
   "cell_type": "code",
   "execution_count": null,
   "id": "dafd4201",
   "metadata": {},
   "outputs": [],
   "source": []
  },
  {
   "cell_type": "code",
   "execution_count": null,
   "id": "c554451c",
   "metadata": {},
   "outputs": [],
   "source": []
  },
  {
   "cell_type": "code",
   "execution_count": null,
   "id": "87d76113",
   "metadata": {},
   "outputs": [],
   "source": []
  },
  {
   "cell_type": "code",
   "execution_count": null,
   "id": "4d009fd5",
   "metadata": {},
   "outputs": [],
   "source": []
  },
  {
   "cell_type": "code",
   "execution_count": null,
   "id": "9cfe447d",
   "metadata": {},
   "outputs": [],
   "source": []
  },
  {
   "cell_type": "code",
   "execution_count": null,
   "id": "25279aec",
   "metadata": {},
   "outputs": [],
   "source": []
  },
  {
   "cell_type": "code",
   "execution_count": null,
   "id": "0c2eda32",
   "metadata": {},
   "outputs": [],
   "source": []
  },
  {
   "cell_type": "code",
   "execution_count": null,
   "id": "dfaa3c80",
   "metadata": {},
   "outputs": [],
   "source": []
  },
  {
   "cell_type": "code",
   "execution_count": null,
   "id": "e06357e7",
   "metadata": {},
   "outputs": [],
   "source": []
  },
  {
   "cell_type": "code",
   "execution_count": null,
   "id": "b624547b",
   "metadata": {},
   "outputs": [],
   "source": []
  },
  {
   "cell_type": "code",
   "execution_count": null,
   "id": "756c9508",
   "metadata": {},
   "outputs": [],
   "source": []
  },
  {
   "cell_type": "code",
   "execution_count": null,
   "id": "ac673bb0",
   "metadata": {},
   "outputs": [],
   "source": []
  },
  {
   "cell_type": "code",
   "execution_count": null,
   "id": "23d228ce",
   "metadata": {},
   "outputs": [],
   "source": []
  },
  {
   "cell_type": "code",
   "execution_count": null,
   "id": "9affcba7",
   "metadata": {},
   "outputs": [],
   "source": []
  },
  {
   "cell_type": "code",
   "execution_count": null,
   "id": "5aaf2ae9",
   "metadata": {},
   "outputs": [],
   "source": []
  },
  {
   "cell_type": "code",
   "execution_count": null,
   "id": "2dec9d4c",
   "metadata": {},
   "outputs": [],
   "source": []
  },
  {
   "cell_type": "code",
   "execution_count": null,
   "id": "518407a9",
   "metadata": {},
   "outputs": [],
   "source": []
  },
  {
   "cell_type": "code",
   "execution_count": null,
   "id": "00cece8f",
   "metadata": {},
   "outputs": [],
   "source": []
  },
  {
   "cell_type": "code",
   "execution_count": null,
   "id": "dd53a06a",
   "metadata": {},
   "outputs": [],
   "source": []
  },
  {
   "cell_type": "code",
   "execution_count": null,
   "id": "418222c7",
   "metadata": {},
   "outputs": [],
   "source": []
  },
  {
   "cell_type": "code",
   "execution_count": null,
   "id": "67784e89",
   "metadata": {},
   "outputs": [],
   "source": []
  },
  {
   "cell_type": "markdown",
   "id": "307b5aac",
   "metadata": {},
   "source": [
    "<h3>  Recommendations & Future Steps</h3>"
   ]
  },
  {
   "cell_type": "code",
   "execution_count": null,
   "id": "3f77aff9",
   "metadata": {},
   "outputs": [],
   "source": []
  },
  {
   "cell_type": "code",
   "execution_count": null,
   "id": "9df27152",
   "metadata": {},
   "outputs": [],
   "source": []
  },
  {
   "cell_type": "code",
   "execution_count": null,
   "id": "6e697e1c",
   "metadata": {},
   "outputs": [],
   "source": []
  },
  {
   "cell_type": "code",
   "execution_count": null,
   "id": "91c500db",
   "metadata": {},
   "outputs": [],
   "source": []
  },
  {
   "cell_type": "code",
   "execution_count": null,
   "id": "c5dda215",
   "metadata": {},
   "outputs": [],
   "source": []
  },
  {
   "cell_type": "code",
   "execution_count": null,
   "id": "e6ad30f8",
   "metadata": {},
   "outputs": [],
   "source": []
  },
  {
   "cell_type": "code",
   "execution_count": null,
   "id": "722230c8",
   "metadata": {},
   "outputs": [],
   "source": []
  },
  {
   "cell_type": "code",
   "execution_count": null,
   "id": "f3e0723c",
   "metadata": {},
   "outputs": [],
   "source": []
  },
  {
   "cell_type": "code",
   "execution_count": null,
   "id": "4128098d",
   "metadata": {},
   "outputs": [],
   "source": []
  },
  {
   "cell_type": "code",
   "execution_count": null,
   "id": "dc3777b2",
   "metadata": {},
   "outputs": [],
   "source": []
  },
  {
   "cell_type": "code",
   "execution_count": null,
   "id": "03382f87",
   "metadata": {},
   "outputs": [],
   "source": []
  },
  {
   "cell_type": "code",
   "execution_count": null,
   "id": "45f9c84f",
   "metadata": {},
   "outputs": [],
   "source": []
  },
  {
   "cell_type": "code",
   "execution_count": null,
   "id": "d11181cd",
   "metadata": {},
   "outputs": [],
   "source": []
  },
  {
   "cell_type": "code",
   "execution_count": null,
   "id": "eb201212",
   "metadata": {},
   "outputs": [],
   "source": []
  },
  {
   "cell_type": "code",
   "execution_count": null,
   "id": "f420abde",
   "metadata": {},
   "outputs": [],
   "source": []
  },
  {
   "cell_type": "code",
   "execution_count": null,
   "id": "a4cab8b3",
   "metadata": {},
   "outputs": [],
   "source": []
  },
  {
   "cell_type": "code",
   "execution_count": null,
   "id": "69664114",
   "metadata": {},
   "outputs": [],
   "source": []
  },
  {
   "cell_type": "code",
   "execution_count": null,
   "id": "e2ac3868",
   "metadata": {},
   "outputs": [],
   "source": []
  },
  {
   "cell_type": "code",
   "execution_count": null,
   "id": "b7f07481",
   "metadata": {},
   "outputs": [],
   "source": []
  },
  {
   "cell_type": "code",
   "execution_count": null,
   "id": "c6862e13",
   "metadata": {},
   "outputs": [],
   "source": []
  },
  {
   "cell_type": "code",
   "execution_count": null,
   "id": "396980a5",
   "metadata": {},
   "outputs": [],
   "source": []
  },
  {
   "cell_type": "code",
   "execution_count": null,
   "id": "dc5580b1",
   "metadata": {},
   "outputs": [],
   "source": []
  },
  {
   "cell_type": "code",
   "execution_count": null,
   "id": "2217a77c",
   "metadata": {},
   "outputs": [],
   "source": []
  },
  {
   "cell_type": "code",
   "execution_count": null,
   "id": "72c7f95b",
   "metadata": {},
   "outputs": [],
   "source": []
  },
  {
   "cell_type": "code",
   "execution_count": null,
   "id": "a52f17b3",
   "metadata": {},
   "outputs": [],
   "source": []
  },
  {
   "cell_type": "code",
   "execution_count": null,
   "id": "af651e11",
   "metadata": {},
   "outputs": [],
   "source": []
  },
  {
   "cell_type": "code",
   "execution_count": null,
   "id": "d4647c91",
   "metadata": {},
   "outputs": [],
   "source": []
  },
  {
   "cell_type": "code",
   "execution_count": null,
   "id": "3c1ee247",
   "metadata": {},
   "outputs": [],
   "source": []
  },
  {
   "cell_type": "code",
   "execution_count": null,
   "id": "437ec558",
   "metadata": {},
   "outputs": [],
   "source": []
  },
  {
   "cell_type": "code",
   "execution_count": null,
   "id": "5cf802cb",
   "metadata": {},
   "outputs": [],
   "source": []
  },
  {
   "cell_type": "code",
   "execution_count": null,
   "id": "f0ab75a1",
   "metadata": {},
   "outputs": [],
   "source": []
  },
  {
   "cell_type": "code",
   "execution_count": null,
   "id": "b2d8f599",
   "metadata": {},
   "outputs": [],
   "source": []
  },
  {
   "cell_type": "code",
   "execution_count": null,
   "id": "be0378b3",
   "metadata": {},
   "outputs": [],
   "source": []
  },
  {
   "cell_type": "code",
   "execution_count": null,
   "id": "1ccfb1bf",
   "metadata": {},
   "outputs": [],
   "source": []
  },
  {
   "cell_type": "code",
   "execution_count": null,
   "id": "61ae1eba",
   "metadata": {},
   "outputs": [],
   "source": []
  },
  {
   "cell_type": "code",
   "execution_count": null,
   "id": "1b421d4a",
   "metadata": {},
   "outputs": [],
   "source": []
  },
  {
   "cell_type": "code",
   "execution_count": null,
   "id": "cd2c29c1",
   "metadata": {},
   "outputs": [],
   "source": []
  },
  {
   "cell_type": "code",
   "execution_count": null,
   "id": "c5f59abe",
   "metadata": {},
   "outputs": [],
   "source": []
  },
  {
   "cell_type": "code",
   "execution_count": null,
   "id": "e9d987aa",
   "metadata": {},
   "outputs": [],
   "source": []
  },
  {
   "cell_type": "code",
   "execution_count": null,
   "id": "d8828818",
   "metadata": {},
   "outputs": [],
   "source": []
  },
  {
   "cell_type": "code",
   "execution_count": null,
   "id": "09758876",
   "metadata": {},
   "outputs": [],
   "source": []
  },
  {
   "cell_type": "code",
   "execution_count": null,
   "id": "f209f896",
   "metadata": {},
   "outputs": [],
   "source": []
  },
  {
   "cell_type": "code",
   "execution_count": null,
   "id": "c9ccc76d",
   "metadata": {},
   "outputs": [],
   "source": []
  },
  {
   "cell_type": "code",
   "execution_count": null,
   "id": "2ddb75b6",
   "metadata": {},
   "outputs": [],
   "source": []
  },
  {
   "cell_type": "code",
   "execution_count": null,
   "id": "60fb428d",
   "metadata": {},
   "outputs": [],
   "source": []
  },
  {
   "cell_type": "code",
   "execution_count": null,
   "id": "26702b1f",
   "metadata": {},
   "outputs": [],
   "source": []
  }
 ],
 "metadata": {
  "kernelspec": {
   "display_name": "Python 3 (ipykernel)",
   "language": "python",
   "name": "python3"
  },
  "language_info": {
   "codemirror_mode": {
    "name": "ipython",
    "version": 3
   },
   "file_extension": ".py",
   "mimetype": "text/x-python",
   "name": "python",
   "nbconvert_exporter": "python",
   "pygments_lexer": "ipython3",
   "version": "3.11.7"
  }
 },
 "nbformat": 4,
 "nbformat_minor": 5
}
