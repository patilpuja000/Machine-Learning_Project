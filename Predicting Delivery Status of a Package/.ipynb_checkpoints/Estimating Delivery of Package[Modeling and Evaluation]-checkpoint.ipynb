{
 "cells": [
  {
   "cell_type": "markdown",
   "id": "267b6a81",
   "metadata": {},
   "source": [
    "# Data setup after analysis is saved to a csv file \"df_with_no_outliers\". I will be using this for further modeling and evaluation"
   ]
  },
  {
   "cell_type": "markdown",
   "id": "3985d719",
   "metadata": {},
   "source": [
    "<h3> Data Preprocessing, Scaling and  Splitting the Data </h3>"
   ]
  },
  {
   "cell_type": "markdown",
   "id": "a0dbc261",
   "metadata": {},
   "source": [
    "<h4> Standard Libraraies </h4>"
   ]
  },
  {
   "cell_type": "code",
   "execution_count": 18,
   "id": "5654607f",
   "metadata": {},
   "outputs": [],
   "source": [
    "import warnings"
   ]
  },
  {
   "cell_type": "code",
   "execution_count": 38,
   "id": "6307aab3",
   "metadata": {},
   "outputs": [],
   "source": [
    "import pandas as pd\n",
    "\n",
    "from sklearn.preprocessing import StandardScaler\n",
    "from sklearn.model_selection import GridSearchCV, train_test_split\n",
    "from sklearn.neighbors import KNeighborsClassifier\n",
    "from sklearn.metrics import confusion_matrix, precision_score,roc_auc_score, recall_score, accuracy_score,f1_score,classification_report\n",
    "from sklearn.inspection import permutation_importance\n",
    "from imblearn.over_sampling import SMOTE\n",
    "from sklearn.naive_bayes import GaussianNB\n",
    "from sklearn.linear_model import LogisticRegression\n",
    "from sklearn.tree import DecisionTreeClassifier\n",
    "\n",
    "from sklearn.model_selection import cross_val_score\n",
    "from collections import Counter\n",
    "\n",
    "from sklearn.metrics import ConfusionMatrixDisplay, RocCurveDisplay\n",
    "from sklearn.metrics import confusion_matrix, roc_curve, auc\n",
    "from sklearn.metrics import auc as skl_auc\n",
    "\n",
    "from sklearn.pipeline import Pipeline\n",
    "from sklearn import set_config\n",
    "from sklearn.dummy import DummyClassifier\n",
    "\n",
    "\n",
    "\n",
    "warnings.simplefilter(action='ignore', category=FutureWarning)\n",
    "set_config(\"display\")"
   ]
  },
  {
   "cell_type": "code",
   "execution_count": 28,
   "id": "04153674",
   "metadata": {},
   "outputs": [],
   "source": [
    "data = pd.read_csv('data/df_with_no_outliers.csv')"
   ]
  },
  {
   "cell_type": "code",
   "execution_count": 29,
   "id": "41a621a7",
   "metadata": {
    "scrolled": true
   },
   "outputs": [
    {
     "data": {
      "text/html": [
       "<div>\n",
       "<style scoped>\n",
       "    .dataframe tbody tr th:only-of-type {\n",
       "        vertical-align: middle;\n",
       "    }\n",
       "\n",
       "    .dataframe tbody tr th {\n",
       "        vertical-align: top;\n",
       "    }\n",
       "\n",
       "    .dataframe thead th {\n",
       "        text-align: right;\n",
       "    }\n",
       "</style>\n",
       "<table border=\"1\" class=\"dataframe\">\n",
       "  <thead>\n",
       "    <tr style=\"text-align: right;\">\n",
       "      <th></th>\n",
       "      <th>Actual_Shipment_Time</th>\n",
       "      <th>Planned_Shipment_Time</th>\n",
       "      <th>Planned_Delivery_Time</th>\n",
       "      <th>Carrier_Num</th>\n",
       "      <th>Planned_TimeofTravel</th>\n",
       "      <th>Shipment_Delay</th>\n",
       "      <th>Distance</th>\n",
       "      <th>Delivery_Status</th>\n",
       "      <th>date</th>\n",
       "      <th>Carrier_Name_coder</th>\n",
       "      <th>Destination_coder</th>\n",
       "      <th>Source_coder</th>\n",
       "    </tr>\n",
       "  </thead>\n",
       "  <tbody>\n",
       "    <tr>\n",
       "      <th>0</th>\n",
       "      <td>2003</td>\n",
       "      <td>1955</td>\n",
       "      <td>2225</td>\n",
       "      <td>335</td>\n",
       "      <td>150</td>\n",
       "      <td>8</td>\n",
       "      <td>810</td>\n",
       "      <td>0</td>\n",
       "      <td>2008-01-03</td>\n",
       "      <td>0.0</td>\n",
       "      <td>0.0</td>\n",
       "      <td>0.0</td>\n",
       "    </tr>\n",
       "    <tr>\n",
       "      <th>1</th>\n",
       "      <td>754</td>\n",
       "      <td>735</td>\n",
       "      <td>1000</td>\n",
       "      <td>3231</td>\n",
       "      <td>145</td>\n",
       "      <td>19</td>\n",
       "      <td>810</td>\n",
       "      <td>1</td>\n",
       "      <td>2008-01-03</td>\n",
       "      <td>0.0</td>\n",
       "      <td>0.0</td>\n",
       "      <td>0.0</td>\n",
       "    </tr>\n",
       "    <tr>\n",
       "      <th>2</th>\n",
       "      <td>628</td>\n",
       "      <td>620</td>\n",
       "      <td>750</td>\n",
       "      <td>448</td>\n",
       "      <td>90</td>\n",
       "      <td>8</td>\n",
       "      <td>515</td>\n",
       "      <td>0</td>\n",
       "      <td>2008-01-03</td>\n",
       "      <td>0.0</td>\n",
       "      <td>1.0</td>\n",
       "      <td>1.0</td>\n",
       "    </tr>\n",
       "    <tr>\n",
       "      <th>3</th>\n",
       "      <td>926</td>\n",
       "      <td>930</td>\n",
       "      <td>1100</td>\n",
       "      <td>1746</td>\n",
       "      <td>90</td>\n",
       "      <td>-4</td>\n",
       "      <td>515</td>\n",
       "      <td>0</td>\n",
       "      <td>2008-01-03</td>\n",
       "      <td>0.0</td>\n",
       "      <td>1.0</td>\n",
       "      <td>1.0</td>\n",
       "    </tr>\n",
       "    <tr>\n",
       "      <th>4</th>\n",
       "      <td>1940</td>\n",
       "      <td>1915</td>\n",
       "      <td>2110</td>\n",
       "      <td>378</td>\n",
       "      <td>115</td>\n",
       "      <td>25</td>\n",
       "      <td>688</td>\n",
       "      <td>1</td>\n",
       "      <td>2008-01-03</td>\n",
       "      <td>0.0</td>\n",
       "      <td>2.0</td>\n",
       "      <td>1.0</td>\n",
       "    </tr>\n",
       "  </tbody>\n",
       "</table>\n",
       "</div>"
      ],
      "text/plain": [
       "   Actual_Shipment_Time  Planned_Shipment_Time  Planned_Delivery_Time  \\\n",
       "0                  2003                   1955                   2225   \n",
       "1                   754                    735                   1000   \n",
       "2                   628                    620                    750   \n",
       "3                   926                    930                   1100   \n",
       "4                  1940                   1915                   2110   \n",
       "\n",
       "   Carrier_Num  Planned_TimeofTravel  Shipment_Delay  Distance  \\\n",
       "0          335                   150               8       810   \n",
       "1         3231                   145              19       810   \n",
       "2          448                    90               8       515   \n",
       "3         1746                    90              -4       515   \n",
       "4          378                   115              25       688   \n",
       "\n",
       "   Delivery_Status        date  Carrier_Name_coder  Destination_coder  \\\n",
       "0                0  2008-01-03                 0.0                0.0   \n",
       "1                1  2008-01-03                 0.0                0.0   \n",
       "2                0  2008-01-03                 0.0                1.0   \n",
       "3                0  2008-01-03                 0.0                1.0   \n",
       "4                1  2008-01-03                 0.0                2.0   \n",
       "\n",
       "   Source_coder  \n",
       "0           0.0  \n",
       "1           0.0  \n",
       "2           1.0  \n",
       "3           1.0  \n",
       "4           1.0  "
      ]
     },
     "execution_count": 29,
     "metadata": {},
     "output_type": "execute_result"
    }
   ],
   "source": [
    "data.head()"
   ]
  },
  {
   "cell_type": "code",
   "execution_count": 30,
   "id": "181fd3e5",
   "metadata": {
    "scrolled": true
   },
   "outputs": [
    {
     "name": "stdout",
     "output_type": "stream",
     "text": [
      "<class 'pandas.core.frame.DataFrame'>\n",
      "RangeIndex: 2867821 entries, 0 to 2867820\n",
      "Data columns (total 12 columns):\n",
      " #   Column                 Dtype  \n",
      "---  ------                 -----  \n",
      " 0   Actual_Shipment_Time   int64  \n",
      " 1   Planned_Shipment_Time  int64  \n",
      " 2   Planned_Delivery_Time  int64  \n",
      " 3   Carrier_Num            int64  \n",
      " 4   Planned_TimeofTravel   int64  \n",
      " 5   Shipment_Delay         int64  \n",
      " 6   Distance               int64  \n",
      " 7   Delivery_Status        int64  \n",
      " 8   date                   object \n",
      " 9   Carrier_Name_coder     float64\n",
      " 10  Destination_coder      float64\n",
      " 11  Source_coder           float64\n",
      "dtypes: float64(3), int64(8), object(1)\n",
      "memory usage: 262.6+ MB\n"
     ]
    }
   ],
   "source": [
    "data.info()"
   ]
  },
  {
   "cell_type": "code",
   "execution_count": 31,
   "id": "6f9ee51c",
   "metadata": {},
   "outputs": [],
   "source": [
    "data = data.drop('date', axis=1)"
   ]
  },
  {
   "cell_type": "code",
   "execution_count": 32,
   "id": "4774ea9b",
   "metadata": {},
   "outputs": [
    {
     "name": "stdout",
     "output_type": "stream",
     "text": [
      "<class 'pandas.core.frame.DataFrame'>\n",
      "RangeIndex: 2867821 entries, 0 to 2867820\n",
      "Data columns (total 11 columns):\n",
      " #   Column                 Dtype  \n",
      "---  ------                 -----  \n",
      " 0   Actual_Shipment_Time   int64  \n",
      " 1   Planned_Shipment_Time  int64  \n",
      " 2   Planned_Delivery_Time  int64  \n",
      " 3   Carrier_Num            int64  \n",
      " 4   Planned_TimeofTravel   int64  \n",
      " 5   Shipment_Delay         int64  \n",
      " 6   Distance               int64  \n",
      " 7   Delivery_Status        int64  \n",
      " 8   Carrier_Name_coder     float64\n",
      " 9   Destination_coder      float64\n",
      " 10  Source_coder           float64\n",
      "dtypes: float64(3), int64(8)\n",
      "memory usage: 240.7 MB\n"
     ]
    }
   ],
   "source": [
    "data.info()"
   ]
  },
  {
   "cell_type": "code",
   "execution_count": 33,
   "id": "4120cba4",
   "metadata": {},
   "outputs": [],
   "source": [
    "X = data.drop('Delivery_Status', axis=1)  # Using all features except the target\n",
    "y = data['Delivery_Status']"
   ]
  },
  {
   "cell_type": "markdown",
   "id": "f26a91dc",
   "metadata": {},
   "source": [
    "<h4> Splitting the Data </h4>"
   ]
  },
  {
   "cell_type": "code",
   "execution_count": 34,
   "id": "73180d92",
   "metadata": {},
   "outputs": [],
   "source": [
    "X_train, X_test, y_train, y_test = train_test_split(X, y, test_size = 0.25, random_state = 42)"
   ]
  },
  {
   "cell_type": "markdown",
   "id": "e198cbca",
   "metadata": {},
   "source": [
    "<h4> Standardization </h4>"
   ]
  },
  {
   "cell_type": "code",
   "execution_count": 35,
   "id": "a5184722",
   "metadata": {},
   "outputs": [
    {
     "name": "stdout",
     "output_type": "stream",
     "text": [
      "[1.29352757e+03 1.29574886e+03 1.46539598e+03 2.29200662e+03\n",
      " 1.16312228e+02 6.70543241e-01 6.23848742e+02 7.44365345e+00\n",
      " 6.46407060e+01 6.96214091e+01]\n",
      "----------\n",
      "[ 466.40839306  462.23845971  474.64883421 1942.08830611   50.17986223\n",
      "    8.63283824  393.70949781    5.94059686   52.42132537   51.68399016]\n"
     ]
    }
   ],
   "source": [
    "scaler = StandardScaler()\n",
    "X_train_scaled = scaler.fit_transform(X_train)\n",
    "X_test_scaled = scaler.fit_transform(X_test)\n",
    "\n",
    "print(scaler.mean_)\n",
    "print('----------')\n",
    "print(scaler.scale_)"
   ]
  },
  {
   "cell_type": "markdown",
   "id": "9c8f66b2",
   "metadata": {},
   "source": [
    "<h3> Building the Model </h3>"
   ]
  },
  {
   "cell_type": "markdown",
   "id": "f415559f",
   "metadata": {},
   "source": [
    "<h4> A Baseline Model </h4>"
   ]
  },
  {
   "cell_type": "markdown",
   "id": "610b89f5",
   "metadata": {},
   "source": [
    "<h5> The baseline score for the classifier by using the DummyClassifier with the training data. Score estimator on the test set. \n",
    "\n",
    "Note: The DummyClassifier works just as all other estimators you have encountered and has a .fit and .score method. </h5>"
   ]
  },
  {
   "cell_type": "code",
   "execution_count": 37,
   "id": "f1e6df57",
   "metadata": {},
   "outputs": [
    {
     "name": "stdout",
     "output_type": "stream",
     "text": [
      "0.9149278337861738\n"
     ]
    }
   ],
   "source": [
    "dummy_clf = DummyClassifier().fit(X_train_scaled, y_train)\n",
    "baseline_score = dummy_clf.score(X_test_scaled, y_test)\n",
    "\n",
    "print(baseline_score)"
   ]
  },
  {
   "cell_type": "markdown",
   "id": "7e01c496",
   "metadata": {},
   "source": [
    "<h4> Considering 3 models with default parameters \n",
    "    \n",
    "1. Logistic Regression\n",
    "    \n",
    "2. Decision Tree\n",
    "    \n",
    "3. KNN Neighbor\n",
    "    \n",
    "</h4>"
   ]
  },
  {
   "cell_type": "code",
   "execution_count": 39,
   "id": "2644155c",
   "metadata": {},
   "outputs": [
    {
     "name": "stdout",
     "output_type": "stream",
     "text": [
      "Train_Score:  1.00\n",
      "Test_Score:  1.00\n"
     ]
    }
   ],
   "source": [
    "#Logistic Regression: \n",
    "# Getting training score and testing for comparison\n",
    "lr_pipe = Pipeline([('lr', LogisticRegression())])\n",
    "lr_pipe.fit(X_train_scaled, y_train)\n",
    "lr_pipe_acc_test = lr_pipe.score(X_test_scaled, y_test)\n",
    "lr_pipe_acc_training = lr_pipe.score(X_train_scaled, y_train)\n",
    "\n",
    "print(f'Train_Score: {lr_pipe_acc_training: .2f}\\nTest_Score: {lr_pipe_acc_test: .2f}')"
   ]
  },
  {
   "cell_type": "code",
   "execution_count": 41,
   "id": "993316fc",
   "metadata": {
    "scrolled": true
   },
   "outputs": [
    {
     "name": "stdout",
     "output_type": "stream",
     "text": [
      "Accuracy: 1.0\n",
      "Classification Report:\n",
      "              precision    recall  f1-score   support\n",
      "\n",
      "           0       1.00      1.00      1.00    655963\n",
      "           1       1.00      1.00      1.00     60993\n",
      "\n",
      "    accuracy                           1.00    716956\n",
      "   macro avg       1.00      1.00      1.00    716956\n",
      "weighted avg       1.00      1.00      1.00    716956\n",
      "\n"
     ]
    }
   ],
   "source": [
    "# Logistic Regression Perfomance Metrics\n",
    "y_pred = lr_pipe.predict(X_test_scaled)\n",
    "\n",
    "# evaluate the model\n",
    "accuracy = accuracy_score(y_test, y_pred)\n",
    "report = classification_report(y_test, y_pred)\n",
    "\n",
    "print(f\"Accuracy: {accuracy}\")\n",
    "print(\"Classification Report:\")\n",
    "print(report)"
   ]
  },
  {
   "cell_type": "code",
   "execution_count": 44,
   "id": "046dd252",
   "metadata": {},
   "outputs": [
    {
     "name": "stdout",
     "output_type": "stream",
     "text": [
      "<class 'numpy.ndarray'>\n"
     ]
    },
    {
     "data": {
      "image/png": "[encoded data removed]",
      "text/plain": [
       "<Figure size 640x480 with 2 Axes>"
      ]
     },
     "metadata": {},
     "output_type": "display_data"
    }
   ],
   "source": [
    "#Confusion Matrix \n",
    "confusion_mat = confusion_matrix(y_test, y_pred, labels = [1, 0])\n",
    "dist = ConfusionMatrixDisplay(confusion_matrix=confusion_mat, display_labels=['1', '0'])\n",
    "dist.plot()\n",
    "\n",
    "# Answer check\n",
    "print(type(confusion_mat))"
   ]
  },
  {
   "cell_type": "code",
   "execution_count": 45,
   "id": "c624229f",
   "metadata": {},
   "outputs": [
    {
     "name": "stdout",
     "output_type": "stream",
     "text": [
      "Train_Score:  1.00\n",
      "Test_Score:  1.00\n"
     ]
    }
   ],
   "source": [
    "#Decision Tree\n",
    "# Getting training score and testing for comparison\n",
    "dtree_pipe = Pipeline([('dtree', DecisionTreeClassifier(random_state = 42))])\n",
    "dtree_pipe.fit(X_train_scaled, y_train)\n",
    "dtree_pipe_acc_test = dtree_pipe.score(X_test_scaled, y_test)\n",
    "dtree_pipe_acc_training = dtree_pipe.score(X_train_scaled, y_train)\n",
    "\n",
    "print(f'Train_Score: {dtree_pipe_acc_training: .2f}\\nTest_Score: {dtree_pipe_acc_test: .2f}')"
   ]
  },
  {
   "cell_type": "code",
   "execution_count": 49,
   "id": "9b193e8f",
   "metadata": {},
   "outputs": [
    {
     "name": "stdout",
     "output_type": "stream",
     "text": [
      "Accuracy: 1.0\n",
      "Classification Report:\n",
      "              precision    recall  f1-score   support\n",
      "\n",
      "           0       1.00      1.00      1.00    655963\n",
      "           1       1.00      1.00      1.00     60993\n",
      "\n",
      "    accuracy                           1.00    716956\n",
      "   macro avg       1.00      1.00      1.00    716956\n",
      "weighted avg       1.00      1.00      1.00    716956\n",
      "\n"
     ]
    }
   ],
   "source": [
    "# Decision Tree Perfomance Metrics :\n",
    "y_pred = dtree_pipe.predict(X_test_scaled)\n",
    "\n",
    "# evaluate the model\n",
    "accuracy = accuracy_score(y_test, y_pred)\n",
    "report = classification_report(y_test, y_pred)\n",
    "\n",
    "print(f\"Accuracy: {accuracy}\")\n",
    "print(\"Classification Report:\")\n",
    "print(report)"
   ]
  },
  {
   "cell_type": "code",
   "execution_count": 46,
   "id": "e4670bcd",
   "metadata": {},
   "outputs": [
    {
     "name": "stdout",
     "output_type": "stream",
     "text": [
      "Train_Score:  1.00\n",
      "Test_Score:  0.99\n"
     ]
    }
   ],
   "source": [
    "# KNN \n",
    "# Getting training score and testing for comparison\n",
    "knn_pipe = Pipeline([('knn', KNeighborsClassifier())])\n",
    "knn_pipe.fit(X_train_scaled, y_train)\n",
    "knn_pipe_acc_test = knn_pipe.score(X_test_scaled, y_test)\n",
    "knn_pipe_acc_training = knn_pipe.score(X_train_scaled, y_train)\n",
    "\n",
    "print(f'Train_Score: {knn_pipe_acc_training: .2f}\\nTest_Score: {knn_pipe_acc_test: .2f}')"
   ]
  },
  {
   "cell_type": "code",
   "execution_count": 50,
   "id": "02cedf55",
   "metadata": {},
   "outputs": [
    {
     "name": "stdout",
     "output_type": "stream",
     "text": [
      "Accuracy: 0.9942018757078538\n",
      "Classification Report:\n",
      "              precision    recall  f1-score   support\n",
      "\n",
      "           0       1.00      1.00      1.00    655963\n",
      "           1       0.97      0.96      0.97     60993\n",
      "\n",
      "    accuracy                           0.99    716956\n",
      "   macro avg       0.98      0.98      0.98    716956\n",
      "weighted avg       0.99      0.99      0.99    716956\n",
      "\n"
     ]
    }
   ],
   "source": [
    "# KNN Neighbor Perfomance Metrics:\n",
    "y_pred = knn_pipe.predict(X_test_scaled)\n",
    "\n",
    "# evaluate the model\n",
    "accuracy = accuracy_score(y_test, y_pred)\n",
    "report = classification_report(y_test, y_pred)\n",
    "\n",
    "print(f\"Accuracy: {accuracy}\")\n",
    "print(\"Classification Report:\")\n",
    "print(report)"
   ]
  },
  {
   "cell_type": "code",
   "execution_count": null,
   "id": "4cd14a55",
   "metadata": {},
   "outputs": [],
   "source": []
  },
  {
   "cell_type": "markdown",
   "id": "cdfedc62",
   "metadata": {},
   "source": [
    "<h3> Further Evaluation </h3>"
   ]
  },
  {
   "cell_type": "markdown",
   "id": "c00bc13c",
   "metadata": {},
   "source": [
    "<h4>As you can see above the models are overfitting, I need to reconsider few steps perfomred :\n",
    "\n",
    "1. Check for the outliers performed and try to balance it. \n",
    "    \n",
    "2. After outliers still the dataset is unbalanced , impove it by using SMOTE (add synthetic data).\n",
    "    \n",
    "3. Work with different features \n",
    "    .\n",
    "4. Work with hyperparamaters for the above models.\n",
    "    \n",
    "5. Will try to use other models like Random Forest or XGBoost\n",
    "\n",
    "</h4>"
   ]
  },
  {
   "cell_type": "markdown",
   "id": "3f15f1ac",
   "metadata": {},
   "source": [
    "<h2> Once i finalize the above will get the feature importance and calculate the ROC Curve. Then will recommend the next steps for the project in the upcoming weeks. </h2>"
   ]
  },
  {
   "cell_type": "code",
   "execution_count": null,
   "id": "e3853703",
   "metadata": {},
   "outputs": [],
   "source": []
  },
  {
   "cell_type": "code",
   "execution_count": null,
   "id": "6291f1fe",
   "metadata": {},
   "outputs": [],
   "source": []
  }
 ],
 "metadata": {
  "kernelspec": {
   "display_name": "Python 3 (ipykernel)",
   "language": "python",
   "name": "python3"
  },
  "language_info": {
   "codemirror_mode": {
    "name": "ipython",
    "version": 3
   },
   "file_extension": ".py",
   "mimetype": "text/x-python",
   "name": "python",
   "nbconvert_exporter": "python",
   "pygments_lexer": "ipython3",
   "version": "3.11.7"
  }
 },
 "nbformat": 4,
 "nbformat_minor": 5
}
