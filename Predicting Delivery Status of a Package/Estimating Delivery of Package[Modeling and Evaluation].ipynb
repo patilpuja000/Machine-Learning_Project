{
 "cells": [
  {
   "cell_type": "markdown",
   "id": "267b6a81",
   "metadata": {},
   "source": [
    "# Data setup after analysis is saved to a csv file \"df_with_no_outliers\". I will be using this for further modeling and evaluation"
   ]
  },
  {
   "cell_type": "markdown",
   "id": "3985d719",
   "metadata": {},
   "source": [
    "<h3> Data Preprocessing, Scaling and  Splitting the Data </h3>"
   ]
  },
  {
   "cell_type": "markdown",
   "id": "a0dbc261",
   "metadata": {},
   "source": [
    "<h4> Standard Libraraies </h4>"
   ]
  },
  {
   "cell_type": "code",
   "execution_count": 5,
   "id": "5654607f",
   "metadata": {},
   "outputs": [],
   "source": [
    "import warnings"
   ]
  },
  {
   "cell_type": "code",
   "execution_count": 6,
   "id": "6307aab3",
   "metadata": {},
   "outputs": [],
   "source": [
    "import pandas as pd\n",
    "import matplotlib.image as mpimg\n",
    "import matplotlib.pyplot as plt\n",
    "import numpy as np\n",
    "\n",
    "from sklearn.preprocessing import StandardScaler\n",
    "from sklearn.model_selection import GridSearchCV, train_test_split\n",
    "from sklearn.neighbors import KNeighborsClassifier\n",
    "from sklearn.metrics import confusion_matrix, precision_score,roc_auc_score, recall_score, accuracy_score,f1_score,classification_report\n",
    "from sklearn.inspection import permutation_importance\n",
    "from imblearn.over_sampling import SMOTE\n",
    "from imblearn.under_sampling import RandomUnderSampler\n",
    "\n",
    "from sklearn.linear_model import LogisticRegression\n",
    "from sklearn.tree import DecisionTreeClassifier\n",
    "from sklearn.model_selection import cross_val_score\n",
    "from collections import Counter\n",
    "\n",
    "from sklearn.metrics import ConfusionMatrixDisplay, RocCurveDisplay\n",
    "from sklearn.metrics import confusion_matrix, roc_curve, auc\n",
    "from sklearn.metrics import auc as skl_auc\n",
    "\n",
    "from sklearn.pipeline import Pipeline\n",
    "from sklearn import set_config\n",
    "from sklearn.dummy import DummyClassifier\n",
    "\n",
    "from sklearn.ensemble import RandomForestClassifier\n",
    "from sklearn.ensemble import AdaBoostClassifier\n",
    "from sklearn.ensemble import GradientBoostingClassifier\n",
    "import xgboost as xgb\n",
    "\n",
    "import tensorflow as tf\n",
    "from tensorflow import keras\n",
    "from tensorflow.keras import layers\n",
    "\n",
    "warnings.simplefilter(action='ignore', category=FutureWarning)\n",
    "set_config(\"display\")"
   ]
  },
  {
   "cell_type": "code",
   "execution_count": 9,
   "id": "04153674",
   "metadata": {},
   "outputs": [],
   "source": [
    "data = pd.read_csv('data/df_with_no_outliers.csv')"
   ]
  },
  {
   "cell_type": "code",
   "execution_count": 10,
   "id": "41a621a7",
   "metadata": {},
   "outputs": [
    {
     "data": {
      "text/html": [
       "<div>\n",
       "<style scoped>\n",
       "    .dataframe tbody tr th:only-of-type {\n",
       "        vertical-align: middle;\n",
       "    }\n",
       "\n",
       "    .dataframe tbody tr th {\n",
       "        vertical-align: top;\n",
       "    }\n",
       "\n",
       "    .dataframe thead th {\n",
       "        text-align: right;\n",
       "    }\n",
       "</style>\n",
       "<table border=\"1\" class=\"dataframe\">\n",
       "  <thead>\n",
       "    <tr style=\"text-align: right;\">\n",
       "      <th></th>\n",
       "      <th>Actual_Shipment_Time</th>\n",
       "      <th>Planned_Shipment_Time</th>\n",
       "      <th>Planned_Delivery_Time</th>\n",
       "      <th>Carrier_Num</th>\n",
       "      <th>Planned_TimeofTravel</th>\n",
       "      <th>Shipment_Delay</th>\n",
       "      <th>Distance</th>\n",
       "      <th>Delivery_Status</th>\n",
       "      <th>date</th>\n",
       "      <th>Carrier_Name_coder</th>\n",
       "      <th>Destination_coder</th>\n",
       "      <th>Source_coder</th>\n",
       "    </tr>\n",
       "  </thead>\n",
       "  <tbody>\n",
       "    <tr>\n",
       "      <th>0</th>\n",
       "      <td>2003</td>\n",
       "      <td>1955</td>\n",
       "      <td>2225</td>\n",
       "      <td>335</td>\n",
       "      <td>150</td>\n",
       "      <td>8</td>\n",
       "      <td>810</td>\n",
       "      <td>0</td>\n",
       "      <td>2008-01-03</td>\n",
       "      <td>0.0</td>\n",
       "      <td>0.0</td>\n",
       "      <td>0.0</td>\n",
       "    </tr>\n",
       "    <tr>\n",
       "      <th>1</th>\n",
       "      <td>754</td>\n",
       "      <td>735</td>\n",
       "      <td>1000</td>\n",
       "      <td>3231</td>\n",
       "      <td>145</td>\n",
       "      <td>19</td>\n",
       "      <td>810</td>\n",
       "      <td>1</td>\n",
       "      <td>2008-01-03</td>\n",
       "      <td>0.0</td>\n",
       "      <td>0.0</td>\n",
       "      <td>0.0</td>\n",
       "    </tr>\n",
       "    <tr>\n",
       "      <th>2</th>\n",
       "      <td>628</td>\n",
       "      <td>620</td>\n",
       "      <td>750</td>\n",
       "      <td>448</td>\n",
       "      <td>90</td>\n",
       "      <td>8</td>\n",
       "      <td>515</td>\n",
       "      <td>0</td>\n",
       "      <td>2008-01-03</td>\n",
       "      <td>0.0</td>\n",
       "      <td>1.0</td>\n",
       "      <td>1.0</td>\n",
       "    </tr>\n",
       "    <tr>\n",
       "      <th>3</th>\n",
       "      <td>926</td>\n",
       "      <td>930</td>\n",
       "      <td>1100</td>\n",
       "      <td>1746</td>\n",
       "      <td>90</td>\n",
       "      <td>-4</td>\n",
       "      <td>515</td>\n",
       "      <td>0</td>\n",
       "      <td>2008-01-03</td>\n",
       "      <td>0.0</td>\n",
       "      <td>1.0</td>\n",
       "      <td>1.0</td>\n",
       "    </tr>\n",
       "    <tr>\n",
       "      <th>4</th>\n",
       "      <td>1940</td>\n",
       "      <td>1915</td>\n",
       "      <td>2110</td>\n",
       "      <td>378</td>\n",
       "      <td>115</td>\n",
       "      <td>25</td>\n",
       "      <td>688</td>\n",
       "      <td>1</td>\n",
       "      <td>2008-01-03</td>\n",
       "      <td>0.0</td>\n",
       "      <td>2.0</td>\n",
       "      <td>1.0</td>\n",
       "    </tr>\n",
       "  </tbody>\n",
       "</table>\n",
       "</div>"
      ],
      "text/plain": [
       "   Actual_Shipment_Time  Planned_Shipment_Time  Planned_Delivery_Time  \\\n",
       "0                  2003                   1955                   2225   \n",
       "1                   754                    735                   1000   \n",
       "2                   628                    620                    750   \n",
       "3                   926                    930                   1100   \n",
       "4                  1940                   1915                   2110   \n",
       "\n",
       "   Carrier_Num  Planned_TimeofTravel  Shipment_Delay  Distance  \\\n",
       "0          335                   150               8       810   \n",
       "1         3231                   145              19       810   \n",
       "2          448                    90               8       515   \n",
       "3         1746                    90              -4       515   \n",
       "4          378                   115              25       688   \n",
       "\n",
       "   Delivery_Status        date  Carrier_Name_coder  Destination_coder  \\\n",
       "0                0  2008-01-03                 0.0                0.0   \n",
       "1                1  2008-01-03                 0.0                0.0   \n",
       "2                0  2008-01-03                 0.0                1.0   \n",
       "3                0  2008-01-03                 0.0                1.0   \n",
       "4                1  2008-01-03                 0.0                2.0   \n",
       "\n",
       "   Source_coder  \n",
       "0           0.0  \n",
       "1           0.0  \n",
       "2           1.0  \n",
       "3           1.0  \n",
       "4           1.0  "
      ]
     },
     "execution_count": 10,
     "metadata": {},
     "output_type": "execute_result"
    }
   ],
   "source": [
    "data.head()"
   ]
  },
  {
   "cell_type": "code",
   "execution_count": 11,
   "id": "181fd3e5",
   "metadata": {},
   "outputs": [
    {
     "name": "stdout",
     "output_type": "stream",
     "text": [
      "<class 'pandas.core.frame.DataFrame'>\n",
      "RangeIndex: 2867821 entries, 0 to 2867820\n",
      "Data columns (total 12 columns):\n",
      " #   Column                 Dtype  \n",
      "---  ------                 -----  \n",
      " 0   Actual_Shipment_Time   int64  \n",
      " 1   Planned_Shipment_Time  int64  \n",
      " 2   Planned_Delivery_Time  int64  \n",
      " 3   Carrier_Num            int64  \n",
      " 4   Planned_TimeofTravel   int64  \n",
      " 5   Shipment_Delay         int64  \n",
      " 6   Distance               int64  \n",
      " 7   Delivery_Status        int64  \n",
      " 8   date                   object \n",
      " 9   Carrier_Name_coder     float64\n",
      " 10  Destination_coder      float64\n",
      " 11  Source_coder           float64\n",
      "dtypes: float64(3), int64(8), object(1)\n",
      "memory usage: 262.6+ MB\n"
     ]
    }
   ],
   "source": [
    "data.info()"
   ]
  },
  {
   "cell_type": "code",
   "execution_count": 12,
   "id": "6f9ee51c",
   "metadata": {},
   "outputs": [],
   "source": [
    "data = data.drop('date', axis=1)"
   ]
  },
  {
   "cell_type": "code",
   "execution_count": 13,
   "id": "4774ea9b",
   "metadata": {},
   "outputs": [
    {
     "name": "stdout",
     "output_type": "stream",
     "text": [
      "<class 'pandas.core.frame.DataFrame'>\n",
      "RangeIndex: 2867821 entries, 0 to 2867820\n",
      "Data columns (total 11 columns):\n",
      " #   Column                 Dtype  \n",
      "---  ------                 -----  \n",
      " 0   Actual_Shipment_Time   int64  \n",
      " 1   Planned_Shipment_Time  int64  \n",
      " 2   Planned_Delivery_Time  int64  \n",
      " 3   Carrier_Num            int64  \n",
      " 4   Planned_TimeofTravel   int64  \n",
      " 5   Shipment_Delay         int64  \n",
      " 6   Distance               int64  \n",
      " 7   Delivery_Status        int64  \n",
      " 8   Carrier_Name_coder     float64\n",
      " 9   Destination_coder      float64\n",
      " 10  Source_coder           float64\n",
      "dtypes: float64(3), int64(8)\n",
      "memory usage: 240.7 MB\n"
     ]
    }
   ],
   "source": [
    "data.info()"
   ]
  },
  {
   "cell_type": "code",
   "execution_count": 14,
   "id": "4120cba4",
   "metadata": {},
   "outputs": [],
   "source": [
    "X = data.drop('Delivery_Status', axis=1)  # Using all features except the target\n",
    "y = data['Delivery_Status']"
   ]
  },
  {
   "cell_type": "code",
   "execution_count": 15,
   "id": "4c8be3ba-f5e0-4cce-ae58-9582a474732d",
   "metadata": {},
   "outputs": [
    {
     "data": {
      "text/plain": [
       "Delivery_Status\n",
       "0    2623700\n",
       "1     244121\n",
       "Name: count, dtype: int64"
      ]
     },
     "execution_count": 15,
     "metadata": {},
     "output_type": "execute_result"
    }
   ],
   "source": [
    "data.Delivery_Status.value_counts()"
   ]
  },
  {
   "cell_type": "markdown",
   "id": "a6889a9c-8c41-414f-8075-81a80f4f8a76",
   "metadata": {},
   "source": [
    "<h3> As you see above the target variable 'Delivery Status' is unbalanced and i need to fix this to impove the model performance.The initial round results are overfitting to the models with a 100% accuracy score and hence degrading the model perfomance. I have 2 approaches either to undersample or oversample the target variables using RamdomUnderSampler or SMOTE respectively. I am choosing undersampling to see how the results will perform if required will go for oversampling. </h3>"
   ]
  },
  {
   "cell_type": "code",
   "execution_count": 16,
   "id": "16d01a6a-0217-4e4c-a58b-32c4e0353cef",
   "metadata": {},
   "outputs": [],
   "source": [
    "# Create a RandomUnderSampler object\n",
    "rus = RandomUnderSampler(random_state=42, sampling_strategy = 'majority')"
   ]
  },
  {
   "cell_type": "code",
   "execution_count": 17,
   "id": "b8797521-5048-42f6-af5c-3f258200a781",
   "metadata": {},
   "outputs": [],
   "source": [
    "# Balancing the data\n",
    "X_resampled, y_X_resampled = rus.fit_resample(X, y)"
   ]
  },
  {
   "cell_type": "code",
   "execution_count": 18,
   "id": "4aa37f53-d3a6-421f-8ce9-8478125bcef2",
   "metadata": {},
   "outputs": [
    {
     "data": {
      "text/plain": [
       "Counter({0: 244121, 1: 244121})"
      ]
     },
     "execution_count": 18,
     "metadata": {},
     "output_type": "execute_result"
    }
   ],
   "source": [
    "Counter(y_X_resampled)"
   ]
  },
  {
   "cell_type": "code",
   "execution_count": 19,
   "id": "77729a66-c1eb-42b1-8d19-6a9b84209d76",
   "metadata": {},
   "outputs": [
    {
     "data": {
      "text/plain": [
       "(488242, 10)"
      ]
     },
     "execution_count": 19,
     "metadata": {},
     "output_type": "execute_result"
    }
   ],
   "source": [
    "X_resampled.shape"
   ]
  },
  {
   "cell_type": "code",
   "execution_count": 20,
   "id": "e6409797-ae05-4df8-9e30-685e8c2f571e",
   "metadata": {},
   "outputs": [
    {
     "data": {
      "text/plain": [
       "(2867821, 10)"
      ]
     },
     "execution_count": 20,
     "metadata": {},
     "output_type": "execute_result"
    }
   ],
   "source": [
    "X.shape"
   ]
  },
  {
   "cell_type": "code",
   "execution_count": 21,
   "id": "923601bc-3b55-47b9-be3f-6942cfddeec6",
   "metadata": {},
   "outputs": [
    {
     "name": "stdout",
     "output_type": "stream",
     "text": [
      "Counter({0: 2623700, 1: 2623700})\n"
     ]
    }
   ],
   "source": [
    "# Creating oversampling just in case to use for future testing.\n",
    "oversample = SMOTE()\n",
    "X_smote,y_smote = oversample.fit_resample(X,y)\n",
    "print(Counter(y_smote))"
   ]
  },
  {
   "cell_type": "code",
   "execution_count": 22,
   "id": "aea54042-5e9f-4c60-805e-ad583b7a5d47",
   "metadata": {},
   "outputs": [
    {
     "data": {
      "text/plain": [
       "(5247400, 10)"
      ]
     },
     "execution_count": 22,
     "metadata": {},
     "output_type": "execute_result"
    }
   ],
   "source": [
    "X_smote.shape"
   ]
  },
  {
   "cell_type": "markdown",
   "id": "f26a91dc",
   "metadata": {},
   "source": [
    "<h4> Splitting the Data </h4>"
   ]
  },
  {
   "cell_type": "code",
   "execution_count": 23,
   "id": "73180d92",
   "metadata": {},
   "outputs": [],
   "source": [
    "X_train, X_test, y_train, y_test = train_test_split(X, y, test_size = 0.25, random_state = 42)"
   ]
  },
  {
   "cell_type": "markdown",
   "id": "e198cbca",
   "metadata": {},
   "source": [
    "<h4> Standardization </h4>"
   ]
  },
  {
   "cell_type": "code",
   "execution_count": 24,
   "id": "a5184722",
   "metadata": {},
   "outputs": [
    {
     "name": "stdout",
     "output_type": "stream",
     "text": [
      "[1.29352757e+03 1.29574886e+03 1.46539598e+03 2.29200662e+03\n",
      " 1.16312228e+02 6.70543241e-01 6.23848742e+02 7.44365345e+00\n",
      " 6.46407060e+01 6.96214091e+01]\n",
      "----------\n",
      "[ 466.40839306  462.23845971  474.64883421 1942.08830611   50.17986223\n",
      "    8.63283824  393.70949781    5.94059686   52.42132537   51.68399016]\n"
     ]
    }
   ],
   "source": [
    "scaler = StandardScaler()\n",
    "X_train_scaled = scaler.fit_transform(X_train)\n",
    "X_test_scaled = scaler.fit_transform(X_test)\n",
    "\n",
    "print(scaler.mean_)\n",
    "print('----------')\n",
    "print(scaler.scale_)"
   ]
  },
  {
   "cell_type": "markdown",
   "id": "9c8f66b2",
   "metadata": {},
   "source": [
    "<h3> Building the Model </h3>"
   ]
  },
  {
   "cell_type": "markdown",
   "id": "f415559f",
   "metadata": {},
   "source": [
    "<h4> A Baseline Model </h4>"
   ]
  },
  {
   "cell_type": "markdown",
   "id": "610b89f5",
   "metadata": {},
   "source": [
    "<h5> The baseline score for the classifier by using the DummyClassifier with the training data. Score estimator on the test set. \n",
    "\n",
    "Note: The DummyClassifier works just as all other estimators you have encountered and has a .fit and .score method. </h5>"
   ]
  },
  {
   "cell_type": "code",
   "execution_count": 31,
   "id": "f1e6df57",
   "metadata": {},
   "outputs": [
    {
     "name": "stdout",
     "output_type": "stream",
     "text": [
      "0.9149278337861738\n"
     ]
    }
   ],
   "source": [
    "dummy_clf = DummyClassifier().fit(X_train_scaled, y_train)\n",
    "baseline_score = dummy_clf.score(X_test_scaled, y_test)\n",
    "\n",
    "print(baseline_score)"
   ]
  },
  {
   "cell_type": "markdown",
   "id": "7e01c496",
   "metadata": {},
   "source": [
    "<h4> Considering 3 models with default parameters \n",
    "    \n",
    "1. Logistic Regression\n",
    "    \n",
    "2. Decision Tree\n",
    "    \n",
    "3. KNN Neighbor\n",
    "    \n",
    "</h4>"
   ]
  },
  {
   "cell_type": "code",
   "execution_count": 32,
   "id": "2644155c",
   "metadata": {},
   "outputs": [
    {
     "name": "stdout",
     "output_type": "stream",
     "text": [
      "Train_Score:  1.00\n",
      "Test_Score:  1.00\n"
     ]
    }
   ],
   "source": [
    "#Logistic Regression: \n",
    "# Getting training score and testing for comparison\n",
    "lr_pipe = Pipeline([('lr', LogisticRegression())])\n",
    "lr_pipe.fit(X_train_scaled, y_train)\n",
    "lr_pipe_acc_test = lr_pipe.score(X_test_scaled, y_test)\n",
    "lr_pipe_acc_training = lr_pipe.score(X_train_scaled, y_train)\n",
    "\n",
    "print(f'Train_Score: {lr_pipe_acc_training: .2f}\\nTest_Score: {lr_pipe_acc_test: .2f}')"
   ]
  },
  {
   "cell_type": "code",
   "execution_count": 33,
   "id": "993316fc",
   "metadata": {},
   "outputs": [
    {
     "name": "stdout",
     "output_type": "stream",
     "text": [
      "Accuracy: 1.0\n",
      "Classification Report:\n",
      "              precision    recall  f1-score   support\n",
      "\n",
      "           0       1.00      1.00      1.00    655963\n",
      "           1       1.00      1.00      1.00     60993\n",
      "\n",
      "    accuracy                           1.00    716956\n",
      "   macro avg       1.00      1.00      1.00    716956\n",
      "weighted avg       1.00      1.00      1.00    716956\n",
      "\n"
     ]
    }
   ],
   "source": [
    "# Logistic Regression Perfomance Metrics\n",
    "y_pred = lr_pipe.predict(X_test_scaled)\n",
    "\n",
    "# evaluate the model\n",
    "accuracy = accuracy_score(y_test, y_pred)\n",
    "report = classification_report(y_test, y_pred)\n",
    "\n",
    "print(f\"Accuracy: {accuracy}\")\n",
    "print(\"Classification Report:\")\n",
    "print(report)"
   ]
  },
  {
   "cell_type": "code",
   "execution_count": 34,
   "id": "046dd252",
   "metadata": {},
   "outputs": [
    {
     "name": "stdout",
     "output_type": "stream",
     "text": [
      "<class 'numpy.ndarray'>\n"
     ]
    },
    {
     "data": {
      "image/png": "[encoded data removed]",
      "text/plain": [
       "<Figure size 640x480 with 2 Axes>"
      ]
     },
     "metadata": {},
     "output_type": "display_data"
    }
   ],
   "source": [
    "#Confusion Matrix \n",
    "confusion_mat = confusion_matrix(y_test, y_pred, labels = [1, 0])\n",
    "dist = ConfusionMatrixDisplay(confusion_matrix=confusion_mat, display_labels=['1', '0'])\n",
    "dist.plot()\n",
    "\n",
    "# Answer check\n",
    "print(type(confusion_mat))"
   ]
  },
  {
   "cell_type": "code",
   "execution_count": 35,
   "id": "c624229f",
   "metadata": {},
   "outputs": [
    {
     "name": "stdout",
     "output_type": "stream",
     "text": [
      "Train_Score:  1.00\n",
      "Test_Score:  1.00\n"
     ]
    }
   ],
   "source": [
    "#Decision Tree\n",
    "# Getting training score and testing for comparison\n",
    "dtree_pipe = Pipeline([('dtree', DecisionTreeClassifier(random_state = 42))])\n",
    "dtree_pipe.fit(X_train_scaled, y_train)\n",
    "dtree_pipe_acc_test = dtree_pipe.score(X_test_scaled, y_test)\n",
    "dtree_pipe_acc_training = dtree_pipe.score(X_train_scaled, y_train)\n",
    "\n",
    "print(f'Train_Score: {dtree_pipe_acc_training: .2f}\\nTest_Score: {dtree_pipe_acc_test: .2f}')"
   ]
  },
  {
   "cell_type": "code",
   "execution_count": 36,
   "id": "9b193e8f",
   "metadata": {},
   "outputs": [
    {
     "name": "stdout",
     "output_type": "stream",
     "text": [
      "Accuracy: 1.0\n",
      "Classification Report:\n",
      "              precision    recall  f1-score   support\n",
      "\n",
      "           0       1.00      1.00      1.00    655963\n",
      "           1       1.00      1.00      1.00     60993\n",
      "\n",
      "    accuracy                           1.00    716956\n",
      "   macro avg       1.00      1.00      1.00    716956\n",
      "weighted avg       1.00      1.00      1.00    716956\n",
      "\n"
     ]
    }
   ],
   "source": [
    "# Decision Tree Perfomance Metrics :\n",
    "y_pred = dtree_pipe.predict(X_test_scaled)\n",
    "\n",
    "# evaluate the model\n",
    "accuracy = accuracy_score(y_test, y_pred)\n",
    "report = classification_report(y_test, y_pred)\n",
    "\n",
    "print(f\"Accuracy: {accuracy}\")\n",
    "print(\"Classification Report:\")\n",
    "print(report)"
   ]
  },
  {
   "cell_type": "code",
   "execution_count": 37,
   "id": "e4670bcd",
   "metadata": {},
   "outputs": [
    {
     "name": "stdout",
     "output_type": "stream",
     "text": [
      "Train_Score:  1.00\n",
      "Test_Score:  0.99\n"
     ]
    }
   ],
   "source": [
    "# KNN \n",
    "# Getting training score and testing for comparison\n",
    "knn_pipe = Pipeline([('knn', KNeighborsClassifier())])\n",
    "knn_pipe.fit(X_train_scaled, y_train)\n",
    "knn_pipe_acc_test = knn_pipe.score(X_test_scaled, y_test)\n",
    "knn_pipe_acc_training = knn_pipe.score(X_train_scaled, y_train)\n",
    "\n",
    "print(f'Train_Score: {knn_pipe_acc_training: .2f}\\nTest_Score: {knn_pipe_acc_test: .2f}')"
   ]
  },
  {
   "cell_type": "code",
   "execution_count": 38,
   "id": "02cedf55",
   "metadata": {},
   "outputs": [
    {
     "name": "stdout",
     "output_type": "stream",
     "text": [
      "Accuracy: 0.9942018757078538\n",
      "Classification Report:\n",
      "              precision    recall  f1-score   support\n",
      "\n",
      "           0       1.00      1.00      1.00    655963\n",
      "           1       0.97      0.96      0.97     60993\n",
      "\n",
      "    accuracy                           0.99    716956\n",
      "   macro avg       0.98      0.98      0.98    716956\n",
      "weighted avg       0.99      0.99      0.99    716956\n",
      "\n"
     ]
    }
   ],
   "source": [
    "# KNN Neighbor Perfomance Metrics:\n",
    "y_pred = knn_pipe.predict(X_test_scaled)\n",
    "\n",
    "# evaluate the model\n",
    "accuracy = accuracy_score(y_test, y_pred)\n",
    "report = classification_report(y_test, y_pred)\n",
    "\n",
    "print(f\"Accuracy: {accuracy}\")\n",
    "print(\"Classification Report:\")\n",
    "print(report)"
   ]
  },
  {
   "cell_type": "code",
   "execution_count": null,
   "id": "b05c2c35-ba43-43a5-a76b-7b033e762ac2",
   "metadata": {},
   "outputs": [],
   "source": []
  },
  {
   "cell_type": "markdown",
   "id": "0a436b90-3622-4f06-aef6-f7e1b4aa25f4",
   "metadata": {},
   "source": [
    "<h3> Further Evaluation After first round of basic modelling </h3>"
   ]
  },
  {
   "cell_type": "markdown",
   "id": "23153b0e-3167-4ed4-ae26-55ad30834cf7",
   "metadata": {},
   "source": [
    "<h4>As you can see above the models are overfitting, I need to reconsider few steps perfomred :\n",
    "\n",
    "1. Check for the outliers performed and try to balance it. (Undersample)\n",
    "    \n",
    "2. After outliers still the dataset is unbalanced , impove it by using SMOTE (add synthetic data).\n",
    "    \n",
    "3. Work with different features \n",
    "    .\n",
    "4. Work with hyperparamaters for the above models.\n",
    "    \n",
    "5. Will try to use other models like Random Forest or XGBoost ans a Simple NeuralNetwork\n",
    "\n",
    "</h4>"
   ]
  },
  {
   "cell_type": "markdown",
   "id": "6237dca8-09e7-4d97-adf7-5f7f13a80d6f",
   "metadata": {},
   "source": [
    "<h4> To improve model perfomance and reduce the overfitting i have undersampled the target variable and will be using the resampled data going foward </h4>"
   ]
  },
  {
   "cell_type": "markdown",
   "id": "bc95b794-2bcb-4cea-b352-663d1e4e2efd",
   "metadata": {},
   "source": [
    "<h4>After testing the intial set of data with default parameters , next phase is to try with different hyperparameters for those models with the resampled data</h4>"
   ]
  },
  {
   "cell_type": "markdown",
   "id": "921d8868-5304-46cc-9daf-6ebbde1e94d6",
   "metadata": {},
   "source": [
    "<h3> Splitting the resampled data \"X_resampled, y_X_resampled\" </h3>"
   ]
  },
  {
   "cell_type": "code",
   "execution_count": 39,
   "id": "98dac8ab-1e80-4e45-8cfa-bacda86b483d",
   "metadata": {},
   "outputs": [],
   "source": [
    "#X_resampled, y_X_resampled\n",
    "X_train_resampled, X_test_resampled, y_train_resampled, y_test_resampled = train_test_split(X_resampled, y_X_resampled, test_size = 0.25, random_state = 42)"
   ]
  },
  {
   "cell_type": "markdown",
   "id": "50e98b98-d51c-48ba-9eb1-f920e867f474",
   "metadata": {},
   "source": [
    "<h4> Standardization </h4>"
   ]
  },
  {
   "cell_type": "code",
   "execution_count": 40,
   "id": "00b0e80b-da90-4cf4-bfa4-1b2be9c35586",
   "metadata": {},
   "outputs": [
    {
     "name": "stdout",
     "output_type": "stream",
     "text": [
      "[1384.53551093 1372.23511195 1540.50869647 2263.64933107  118.04848395\n",
      "   10.40855802  638.30267653    7.36974955   63.9223503    68.90240945]\n",
      "----------\n",
      "[ 459.26432125  451.36277365  471.01394162 1920.2267867    50.64032622\n",
      "   12.78901089  397.00831344    6.0380179    52.50777936   50.73710884]\n"
     ]
    }
   ],
   "source": [
    "scaler = StandardScaler()\n",
    "X_train_scaled_resampled = scaler.fit_transform(X_train_resampled)\n",
    "X_test_scaled_resampled = scaler.fit_transform(X_test_resampled)\n",
    "\n",
    "print(scaler.mean_)\n",
    "print('----------')\n",
    "print(scaler.scale_)"
   ]
  },
  {
   "cell_type": "markdown",
   "id": "b2c89d12-b279-4e58-87f0-033c921a2007",
   "metadata": {},
   "source": [
    "<h3> KNN  </h3>"
   ]
  },
  {
   "cell_type": "code",
   "execution_count": 41,
   "id": "404fdb05-8f80-4876-adde-6037de0b00d6",
   "metadata": {},
   "outputs": [
    {
     "name": "stdout",
     "output_type": "stream",
     "text": [
      "Train_Score:  1.00\n",
      "Test_Score:  1.00\n",
      "19\n",
      "{'mean_fit_time': array([0.74861884, 0.73813925, 0.75200109, 0.78369932, 0.76857862,\n",
      "       0.77283893, 0.85592208, 0.78421326, 0.75148373, 0.78870893]), 'std_fit_time': array([0.01674919, 0.01031121, 0.02618462, 0.0591106 , 0.03425735,\n",
      "       0.06987119, 0.18351593, 0.03027535, 0.02612795, 0.03664297]), 'mean_score_time': array([ 2.1183898 ,  4.35988536,  6.12196927,  7.62522473,  8.86879888,\n",
      "       10.01851501, 11.37678604, 12.03221312, 13.04213123, 13.86702743]), 'std_score_time': array([0.04464944, 0.07764325, 0.0648154 , 0.05841147, 0.10059314,\n",
      "       0.05803253, 0.4824424 , 0.09783188, 0.27601674, 0.21747432]), 'param_knn__n_neighbors': masked_array(data=[1, 3, 5, 7, 9, 11, 13, 15, 17, 19],\n",
      "             mask=[False, False, False, False, False, False, False, False,\n",
      "                   False, False],\n",
      "       fill_value=999999), 'params': [{'knn__n_neighbors': 1}, {'knn__n_neighbors': 3}, {'knn__n_neighbors': 5}, {'knn__n_neighbors': 7}, {'knn__n_neighbors': 9}, {'knn__n_neighbors': 11}, {'knn__n_neighbors': 13}, {'knn__n_neighbors': 15}, {'knn__n_neighbors': 17}, {'knn__n_neighbors': 19}], 'split0_test_score': array([0.98140038, 0.99152741, 0.9945546 , 0.99606729, 0.99695068,\n",
      "       0.99759928, 0.99806974, 0.99832619, 0.99851145, 0.99866152]), 'split1_test_score': array([0.98088099, 0.99126391, 0.99406919, 0.99558905, 0.99648286,\n",
      "       0.99728419, 0.99768336, 0.99814979, 0.99835484, 0.99854266]), 'split2_test_score': array([0.98127654, 0.99165393, 0.99429466, 0.99606776, 0.99690067,\n",
      "       0.99751701, 0.99794946, 0.99832192, 0.998531  , 0.99873695]), 'split3_test_score': array([0.98204144, 0.9920165 , 0.99502437, 0.99631502, 0.99709842,\n",
      "       0.99764697, 0.99794266, 0.99817537, 0.99843435, 0.99862037]), 'split4_test_score': array([0.98104461, 0.99136331, 0.99413221, 0.99551927, 0.99649754,\n",
      "       0.99713535, 0.99754671, 0.99789119, 0.9981879 , 0.99842513]), 'mean_test_score': array([0.98132879, 0.99156501, 0.99441501, 0.99591168, 0.99678603,\n",
      "       0.99743656, 0.99783839, 0.99817289, 0.99840391, 0.99859733]), 'std_test_score': array([0.00039925, 0.00026249, 0.00034781, 0.00030638, 0.00025019,\n",
      "       0.00019554, 0.00019279, 0.0001585 , 0.00012467, 0.00010657]), 'rank_test_score': array([10,  9,  8,  7,  6,  5,  4,  3,  2,  1])}\n"
     ]
    }
   ],
   "source": [
    "# KNN with Grid Search\n",
    "knn_roc_grid = GridSearchCV(knn_pipe, param_grid={'knn__n_neighbors': range(1, 20, 2)}, scoring = 'roc_auc')\n",
    "knn_roc_grid.fit(X_train_scaled_resampled, y_train_resampled)\n",
    "knn_roc_grid_acc_test = knn_roc_grid.score(X_test_scaled_resampled,  y_test_resampled)\n",
    "knn_roc_grid_acc_training = knn_roc_grid.score(X_train_scaled_resampled, y_train_resampled)\n",
    "\n",
    "print(f'Train_Score: {knn_roc_grid_acc_training: .2f}\\nTest_Score: {knn_roc_grid_acc_test: .2f}')\n",
    "best_k = knn_roc_grid.best_params_['knn__n_neighbors']\n",
    "print(best_k)\n",
    "print(knn_roc_grid.cv_results_)"
   ]
  },
  {
   "cell_type": "code",
   "execution_count": 42,
   "id": "a028a73c-1aae-4ed5-989b-e132ccfc2d5f",
   "metadata": {},
   "outputs": [
    {
     "data": {
      "image/png": "[encoded data removed]",
      "text/plain": [
       "<Figure size 640x480 with 1 Axes>"
      ]
     },
     "metadata": {},
     "output_type": "display_data"
    }
   ],
   "source": [
    "fig, ax = plt.subplots()\n",
    "RocCurveDisplay.from_estimator(knn_roc_grid, X_test_scaled_resampled,  y_test_resampled, pos_label = 1, ax = ax, label = 'Grid Search: 7 Neighbors')\n",
    "#RocCurveDisplay.from_estimator(knn_pipe_neighbors, X_test_scaled_improved,  y_test_improved, pos_label = 1, ax = ax, label = '10 Neighbors')\n",
    "plt.grid()\n",
    "plt.plot(np.arange(0, 1.1, .1), np.arange(0, 1.1, .1), label = 'baseline');\n",
    "plt.title('Using RocCurveDisplay')\n",
    "plt.legend();\n",
    "plt.savefig('images/roc_curve.png')"
   ]
  },
  {
   "cell_type": "code",
   "execution_count": 43,
   "id": "ae72c75e-b68e-4248-a7aa-fd5726b841da",
   "metadata": {},
   "outputs": [
    {
     "name": "stdout",
     "output_type": "stream",
     "text": [
      "Classification Report:\n",
      "              precision    recall  f1-score   support\n",
      "\n",
      "           0       1.00      0.96      0.98     61084\n",
      "           1       0.96      1.00      0.98     60977\n",
      "\n",
      "    accuracy                           0.98    122061\n",
      "   macro avg       0.98      0.98      0.98    122061\n",
      "weighted avg       0.98      0.98      0.98    122061\n",
      "\n"
     ]
    }
   ],
   "source": [
    "# KNN Neighbor Perfomance Metrics:\n",
    "y_pred_resmapled = knn_roc_grid.predict(X_test_scaled_resampled)\n",
    "\n",
    "# evaluate the model\n",
    "report = classification_report(y_test_resampled, y_pred_resmapled)\n",
    "\n",
    "print(\"Classification Report:\")\n",
    "print(report)"
   ]
  },
  {
   "cell_type": "code",
   "execution_count": 44,
   "id": "d529d1e7-3b51-4694-bfd8-322e1075fe14",
   "metadata": {},
   "outputs": [
    {
     "name": "stdout",
     "output_type": "stream",
     "text": [
      "<class 'numpy.ndarray'>\n"
     ]
    },
    {
     "data": {
      "image/png": "[encoded data removed]",
      "text/plain": [
       "<Figure size 640x480 with 2 Axes>"
      ]
     },
     "metadata": {},
     "output_type": "display_data"
    }
   ],
   "source": [
    "#Confusion Matrix \n",
    "confusion_mat_knn = confusion_matrix(y_test_resampled, y_pred_resmapled, labels = [1, 0])\n",
    "dist = ConfusionMatrixDisplay(confusion_matrix=confusion_mat_knn, display_labels=['1', '0'])\n",
    "dist.plot()\n",
    "\n",
    "# Answer check\n",
    "print(type(confusion_mat))"
   ]
  },
  {
   "cell_type": "markdown",
   "id": "a0e6391e-aa72-48be-aa95-fce79ee14574",
   "metadata": {},
   "source": [
    "<h4> After the above analysis on using KNN with GridsearchCV and hyperparameters with multiple neighbors below are the obsrevations : \n",
    "\n",
    "    1.Using 7 neighbors (1,4,7,10,13,16,19) the accuracy is reduced by 1% then default KNN model. ( from 99% to 98% accuracy). However accuracy is not the only parameter.\n",
    "    2. So i have used the roc_auc score as a hyperparameter in GridsearchCV to understand the tradeoff between True positive rate vs False positive rate. This also did not give a good results and it is at a 100%.\n",
    "    3. For better visiblity i have used the confusion matrix that can give us an understanding on TP, TN , FP and FN\n",
    "    \n",
    "</h4>"
   ]
  },
  {
   "cell_type": "markdown",
   "id": "07079501-9bdf-4e33-b243-70acad3a0000",
   "metadata": {},
   "source": [
    "<h3> Logistic Regression  </h3>"
   ]
  },
  {
   "cell_type": "markdown",
   "id": "20cbc9e9-8258-4c8a-b76b-5c0694fcce4f",
   "metadata": {},
   "source": [
    "<h4> The hyperparamerets selected below is the LASSO Reguarlization(L1) as the penality term with small C parameter of 0.1 to strengthen the regularization. I have also used saga as it is faster for large datasets when compared to liblinear which is default for binary classifiers along with a iteration of 1000 </h4>"
   ]
  },
  {
   "cell_type": "code",
   "execution_count": 45,
   "id": "75be2c73-3dc5-4b5d-a017-e41d42ba5b85",
   "metadata": {},
   "outputs": [],
   "source": [
    "#X_train_scaled_resampled, y_train_resampled\n",
    "#X_test_scaled_resampled, y_test_resampled"
   ]
  },
  {
   "cell_type": "code",
   "execution_count": 46,
   "id": "785b19b6-f5f4-49f6-aa04-4a568aeb32cd",
   "metadata": {},
   "outputs": [
    {
     "name": "stdout",
     "output_type": "stream",
     "text": [
      "Train_Score:  1.00\n",
      "Test_Score:  1.00\n"
     ]
    }
   ],
   "source": [
    "#Logistic Regression with GridSearchCV and different hyperparameters\n",
    "lr_pipe_params = LogisticRegression(C = 0.1, penalty = 'l1', solver = 'saga', \n",
    "                                                                           max_iter = 1000, random_state = 42)\n",
    "lr_pipe_params.fit(X_train_scaled_resampled, y_train_resampled)\n",
    "lr_training_score = lr_pipe_params.score(X_train_scaled_resampled, y_train_resampled)\n",
    "lr_test_score = lr_pipe_params.score(X_test_scaled_resampled,  y_test_resampled)\n",
    "                    \n",
    "print(f'Train_Score: {lr_training_score: .2f}\\nTest_Score: {lr_test_score: .2f}')"
   ]
  },
  {
   "cell_type": "code",
   "execution_count": 47,
   "id": "2324d45a-6fc2-495e-8498-a8f93b41e168",
   "metadata": {},
   "outputs": [
    {
     "name": "stdout",
     "output_type": "stream",
     "text": [
      "Classification Report:\n",
      "              precision    recall  f1-score   support\n",
      "\n",
      "           0       1.00      1.00      1.00     61084\n",
      "           1       1.00      1.00      1.00     60977\n",
      "\n",
      "    accuracy                           1.00    122061\n",
      "   macro avg       1.00      1.00      1.00    122061\n",
      "weighted avg       1.00      1.00      1.00    122061\n",
      "\n"
     ]
    }
   ],
   "source": [
    "# Logistic Regression Perfomance Metrics:\n",
    "lr_predict_resampled = lr_pipe_params.predict(X_test_scaled_resampled)\n",
    "\n",
    "# evaluate the model\n",
    "report = classification_report(y_test_resampled, lr_predict_resampled)\n",
    "\n",
    "print(\"Classification Report:\")\n",
    "print(report)"
   ]
  },
  {
   "cell_type": "code",
   "execution_count": 48,
   "id": "b4cface3-db88-4639-bc9c-3dc385dedee1",
   "metadata": {},
   "outputs": [
    {
     "data": {
      "text/plain": [
       "(0, 0, 1.0)"
      ]
     },
     "execution_count": 48,
     "metadata": {},
     "output_type": "execute_result"
    },
    {
     "data": {
      "image/png": "[encoded data removed]",
      "text/plain": [
       "<Figure size 1200x1200 with 3 Axes>"
      ]
     },
     "metadata": {},
     "output_type": "display_data"
    }
   ],
   "source": [
    "# ROC Curve with Confusion matrix \n",
    "from sklearn.metrics import auc as skl_auc\n",
    "\n",
    "fig, ax = plt.subplots(1, 2)\n",
    "fig.set_size_inches(12, 12)\n",
    "\n",
    "# Confusion Matrix\n",
    "conf_matrix_lr = confusion_matrix( y_test_resampled, lr_predict_resampled)\n",
    "disp1 = ConfusionMatrixDisplay(conf_matrix_lr)\n",
    "disp1.plot(ax=ax[0])\n",
    "\n",
    "# ROC Curve\n",
    "y_score = lr_pipe_params.predict_proba(X_test_scaled_resampled)[:, 1]\n",
    "fpr, tpr, thresholds = roc_curve( y_test_resampled, y_score, pos_label=1)\n",
    "roc_auc_value = skl_auc(fpr, tpr)\n",
    "\n",
    "disp2 = RocCurveDisplay(fpr=fpr, tpr=tpr, roc_auc=roc_auc_value)\n",
    "disp2.plot(ax=ax[1])\n",
    "plt.savefig('images/roc_curve1.png')\n",
    "\n",
    "fp = conf_matrix_lr[0][1]\n",
    "fn = conf_matrix_lr[1][0]\n",
    "auc = round(roc_auc_value, 2)\n",
    "\n",
    "fp, fn, auc"
   ]
  },
  {
   "cell_type": "markdown",
   "id": "2d9ea4bb-0227-46fe-92b7-fa1b3d5e589d",
   "metadata": {},
   "source": [
    "<h4> After attempting to use GridSearchCV for Logistic Regression above and compare it with previous run of logistic regression with deafult values , there is no diffeience in the scores along with its precision, recall and f1-score.</h4>"
   ]
  },
  {
   "cell_type": "markdown",
   "id": "65ce64d1-0584-460c-8668-75afc650e3eb",
   "metadata": {},
   "source": [
    "<h3> Decision Tree  </h3>"
   ]
  },
  {
   "cell_type": "code",
   "execution_count": 49,
   "id": "2240ae3a-ee04-4861-ae1f-3b9480b981a6",
   "metadata": {},
   "outputs": [],
   "source": [
    "#X_train_scaled_resampled, y_train_resampled\n",
    "#X_test_scaled_resampled, y_test_resampled"
   ]
  },
  {
   "cell_type": "code",
   "execution_count": 50,
   "id": "e04da1d8-1289-43da-9666-13c6e1a9853b",
   "metadata": {},
   "outputs": [],
   "source": [
    "# Decision Tree with Hyperparametrs\n",
    "params = {'max_depth': [1,5,8,10],\n",
    "         'min_samples_split': [0.1, 3, 0.05],\n",
    "          'criterion': ['gini','entropy'],\n",
    "          'min_samples_leaf': [2,3,5,7],\n",
    "          'ccp_alpha' : [0.1, 0.4, 0.6]\n",
    "         }"
   ]
  },
  {
   "cell_type": "code",
   "execution_count": 51,
   "id": "1dcd724d-178c-4137-9001-5c1aa7857c73",
   "metadata": {},
   "outputs": [],
   "source": [
    "dtree = DecisionTreeClassifier()"
   ]
  },
  {
   "cell_type": "code",
   "execution_count": 52,
   "id": "7ca822c7-d0fa-4a8c-8852-9f26ca8eadda",
   "metadata": {},
   "outputs": [
    {
     "name": "stderr",
     "output_type": "stream",
     "text": [
      "C:\\Users\\pooja\\anaconda3\\envs\\DeepLearning\\Lib\\site-packages\\numpy\\ma\\core.py:2820: RuntimeWarning: invalid value encountered in cast\n",
      "  _data = np.array(data, dtype=dtype, copy=copy,\n"
     ]
    },
    {
     "name": "stdout",
     "output_type": "stream",
     "text": [
      "Best score: 1.0\n",
      "Best params: {'ccp_alpha': 0.1, 'criterion': 'gini', 'max_depth': 1, 'min_samples_leaf': 2, 'min_samples_split': 0.1}\n",
      "Training Score: 1.0\n",
      "Test Score: 1.0\n"
     ]
    }
   ],
   "source": [
    "results = GridSearchCV(dtree, param_grid=params).fit(X_train_scaled_resampled, y_train_resampled)\n",
    "best_score = results.best_score_\n",
    "best_params = results.best_params_\n",
    "grid_train_acc = results.score(X_train_scaled_resampled, y_train_resampled)\n",
    "grid_test_acc = results.score(X_test_scaled_resampled, y_test_resampled)\n",
    "print(f'Best score: {best_score}')\n",
    "print(f'Best params: {best_params}')\n",
    "print(f'Training Score: {grid_train_acc}')\n",
    "print(f'Test Score: {grid_test_acc}')"
   ]
  },
  {
   "cell_type": "code",
   "execution_count": 53,
   "id": "70af9df9-dc2e-4cf3-9f57-a3167490bfbf",
   "metadata": {},
   "outputs": [
    {
     "name": "stdout",
     "output_type": "stream",
     "text": [
      "Classification Report:\n",
      "              precision    recall  f1-score   support\n",
      "\n",
      "           0       1.00      1.00      1.00     61084\n",
      "           1       1.00      1.00      1.00     60977\n",
      "\n",
      "    accuracy                           1.00    122061\n",
      "   macro avg       1.00      1.00      1.00    122061\n",
      "weighted avg       1.00      1.00      1.00    122061\n",
      "\n"
     ]
    }
   ],
   "source": [
    "# Decision Tree Perfomance Metrics:\n",
    "dt_predict_resampled = results.predict(X_test_scaled_resampled)\n",
    "\n",
    "# evaluate the model\n",
    "report = classification_report(y_test_resampled, dt_predict_resampled)\n",
    "\n",
    "print(\"Classification Report:\")\n",
    "print(report)"
   ]
  },
  {
   "cell_type": "markdown",
   "id": "c97b62fb-ac4a-4163-b0f8-b5ca3cfde055",
   "metadata": {},
   "source": [
    "<h4> In the first round of Hyperparameters ran above i tried with different values for min_samples_leaf and min_samples_split however the results have no impact and accuracy score was at 100%. I tried to change the paramarters for min_samples_leaf and min_samples_split and added ccp_alpha for the next round of run still no impact on score and as observed above all the lowest values are considered as best score. \n",
    "    \n",
    "    So i want to try Random forest and XGBoost to see if the model gets trained better rather than over fitting.\n",
    "\n",
    "</h4>"
   ]
  },
  {
   "cell_type": "markdown",
   "id": "008d0ee5-a743-4c98-9a65-b597116b5c05",
   "metadata": {},
   "source": [
    "<h3> Random Forest </h3>"
   ]
  },
  {
   "cell_type": "markdown",
   "id": "e8ae5a8e-1e34-4dd7-88c0-433167e7fc84",
   "metadata": {},
   "source": [
    "<h4> My thought process to use Random Forest, becasue i have been using all the features for all the above models. Using Random forests, allows only a subset of features to be selected at random out of the total and the best split feature from the subset is used to split each node in a tree. This will help the model training faster rather than doing manual feature selection and analyzing the models.  </h4>"
   ]
  },
  {
   "cell_type": "code",
   "execution_count": 54,
   "id": "8f5f520b-2510-4c1c-8a94-796c0fbb8994",
   "metadata": {},
   "outputs": [],
   "source": [
    "#X_train_scaled_resampled, y_train_resampled\n",
    "#X_test_scaled_resampled, y_test_resampled"
   ]
  },
  {
   "cell_type": "code",
   "execution_count": 55,
   "id": "16bd47c2-4790-459b-8383-11df3a711b9c",
   "metadata": {},
   "outputs": [
    {
     "name": "stdout",
     "output_type": "stream",
     "text": [
      "Training Score: 1.0\n",
      "Test Score: 1.0\n"
     ]
    }
   ],
   "source": [
    "# Random Forest classifier\n",
    "#To simulate RF using bagging, initializing the DT as\n",
    "#dt = DecisionTreeClassifier(splitter='random')\n",
    "\n",
    "rf_clf = RandomForestClassifier(n_estimators=100, max_features='log2')\n",
    "rf_clf.fit(X_train_scaled_resampled, y_train_resampled)\n",
    "\n",
    "rf_train_acc = rf_clf.score(X_train_scaled_resampled, y_train_resampled)\n",
    "rf_test_acc = rf_clf.score(X_test_scaled_resampled, y_test_resampled)\n",
    "\n",
    "print(f'Training Score: {rf_train_acc}')\n",
    "print(f'Test Score: {rf_test_acc}')"
   ]
  },
  {
   "cell_type": "code",
   "execution_count": 56,
   "id": "6d166829-7317-4739-bb8c-ca6de29d3feb",
   "metadata": {},
   "outputs": [
    {
     "name": "stdout",
     "output_type": "stream",
     "text": [
      "Classification Report:\n",
      "              precision    recall  f1-score   support\n",
      "\n",
      "           0       1.00      1.00      1.00     61084\n",
      "           1       1.00      1.00      1.00     60977\n",
      "\n",
      "    accuracy                           1.00    122061\n",
      "   macro avg       1.00      1.00      1.00    122061\n",
      "weighted avg       1.00      1.00      1.00    122061\n",
      "\n"
     ]
    }
   ],
   "source": [
    "# Random Forest Perfomance Metrics:\n",
    "rf_predict_resampled = rf_clf.predict(X_test_scaled_resampled)\n",
    "\n",
    "# evaluate the model\n",
    "report_rf = classification_report(y_test_resampled, rf_predict_resampled)\n",
    "\n",
    "print(\"Classification Report:\")\n",
    "print(report)"
   ]
  },
  {
   "cell_type": "markdown",
   "id": "d2df42ac-6269-443f-8af3-ba6046f12d63",
   "metadata": {},
   "source": [
    "<h4> As you see above , i tried the first run with default values along with 100 estimators and in the next run just to compare changed the max_features to log2. No impact and the accuracy still stands at 100%. As we know that random forest is popular for reducing the variance in the dataset(overfitting) i also choose the bagging with random forest.</h4>"
   ]
  },
  {
   "cell_type": "markdown",
   "id": "070b7868-f9f5-468b-87aa-3e1345670825",
   "metadata": {},
   "source": [
    "<h4> As part of my analysis when working with random forest i came accross an article that showed different classes available to handle the imbalanced dataset by sklearn and imblearn as follows : \n",
    "    \n",
    "    1. Random Forest With Class Weighting - RandomForestClassifier(n_estimators=10, class_weight='balanced')\n",
    "    \n",
    "    2. Random Forest With Bootstrap Class Weighting - RandomForestClassifier(n_estimators=10, class_weight='balanced_subsample')\n",
    "    \n",
    "    3. Random Forest With Random Undersampling - BalancedRandomForestClassifier(n_estimators=10)\n",
    "    \n",
    "    4. Easy Ensemble - EasyEnsembleClassifier(n_estimators=10)\n",
    "\n",
    "I wanted to mention this here, becasue i would want to try these in future and see if it can resolve the overfitting of the model.\n",
    "\n",
    "</h4>"
   ]
  },
  {
   "cell_type": "markdown",
   "id": "8bc35ad0-9e89-4c54-92c3-e60c23902db4",
   "metadata": {},
   "source": [
    "<h3> AdaBoost </h3>"
   ]
  },
  {
   "cell_type": "code",
   "execution_count": 57,
   "id": "1c02ee9a-12c2-4ad8-a277-e6f2b744dc18",
   "metadata": {},
   "outputs": [],
   "source": [
    "#X_train_scaled_resampled, y_train_resampled\n",
    "#X_test_scaled_resampled, y_test_resampled"
   ]
  },
  {
   "cell_type": "code",
   "execution_count": 58,
   "id": "e5ca2bf4-ad43-43bd-8a0f-53f35c62d7ae",
   "metadata": {},
   "outputs": [
    {
     "name": "stdout",
     "output_type": "stream",
     "text": [
      "Training Score: 1.0\n",
      "Test Score: 1.0\n"
     ]
    }
   ],
   "source": [
    "#AdaBoost\n",
    "ada_clf = AdaBoostClassifier(\n",
    "    DecisionTreeClassifier(max_depth=1), n_estimators=200,\n",
    "    algorithm=\"SAMME.R\", learning_rate=0.5\n",
    ")\n",
    "ada_clf.fit(X_train_scaled_resampled, y_train_resampled)\n",
    "\n",
    "ada_train_acc = ada_clf.score(X_train_scaled_resampled, y_train_resampled)\n",
    "ada_test_acc = ada_clf.score(X_test_scaled_resampled, y_test_resampled)\n",
    "\n",
    "print(f'Training Score: {ada_train_acc}')\n",
    "print(f'Test Score: {ada_test_acc}')\n",
    "#print(\"AdaBoost Classifier Accuracy:\", ada_clf.score(X_train_scaled_resampled, y_train_resampled))"
   ]
  },
  {
   "cell_type": "code",
   "execution_count": 59,
   "id": "27fdd70f-7275-476e-9ddd-ad9307d7a23d",
   "metadata": {},
   "outputs": [
    {
     "name": "stdout",
     "output_type": "stream",
     "text": [
      "Classification Report:\n",
      "              precision    recall  f1-score   support\n",
      "\n",
      "           0       1.00      1.00      1.00     61084\n",
      "           1       1.00      1.00      1.00     60977\n",
      "\n",
      "    accuracy                           1.00    122061\n",
      "   macro avg       1.00      1.00      1.00    122061\n",
      "weighted avg       1.00      1.00      1.00    122061\n",
      "\n"
     ]
    }
   ],
   "source": [
    "# Adaboost Perfomance Metrics:\n",
    "ada_predict_resampled = ada_clf.predict(X_test_scaled_resampled)\n",
    "\n",
    "# evaluate the model\n",
    "report_ada = classification_report(y_test_resampled, ada_predict_resampled)\n",
    "\n",
    "print(\"Classification Report:\")\n",
    "print(report_ada)"
   ]
  },
  {
   "cell_type": "markdown",
   "id": "f757d5df-05ee-4469-b23e-0dc2f30888a0",
   "metadata": {},
   "source": [
    "<h4> Using AdaBoost for binary classification is very effective so , i wanted to check how the data will be trained with Ada Boost. Its good as it giving a 100% accuracy. Which is again a risk of overfitting. </h4>"
   ]
  },
  {
   "cell_type": "markdown",
   "id": "265d0ccf-7ab3-4cd0-a9c4-afa3efa6aba6",
   "metadata": {},
   "source": [
    "<h3> To make better decision no the model selection for the deployment i attempted to run the strongest classifers(Random Forest, AdaBoost and XGBoost) on non sampled data that is using the X_train_scaled , y_train , X_test_scaled, y_test data as below </h3>"
   ]
  },
  {
   "cell_type": "code",
   "execution_count": 60,
   "id": "3ea47581-e53f-4195-b98f-826340a8d364",
   "metadata": {},
   "outputs": [],
   "source": [
    "#X_test_scaled, y_test\n",
    "#X_train_scaled, y_train"
   ]
  },
  {
   "cell_type": "markdown",
   "id": "38d10c88-a644-4b7f-a7bf-f434ecf7dd1a",
   "metadata": {},
   "source": [
    "<h5> Random Forest for non sampled data</h5>"
   ]
  },
  {
   "cell_type": "code",
   "execution_count": 61,
   "id": "d01c6160-77a0-41c9-afc0-c0b3779ca8d1",
   "metadata": {},
   "outputs": [
    {
     "name": "stdout",
     "output_type": "stream",
     "text": [
      "Training Score: 1.0\n",
      "Test Score: 1.0\n"
     ]
    }
   ],
   "source": [
    "rf_clf_nonsample = RandomForestClassifier(n_estimators=200)\n",
    "rf_clf_nonsample.fit(X_train_scaled, y_train)\n",
    "\n",
    "rf_train_nonsample_acc = rf_clf_nonsample.score(X_train_scaled, y_train)\n",
    "rf_test_nonsample_acc = rf_clf_nonsample.score(X_test_scaled, y_test)\n",
    "\n",
    "print(f'Training Score: {rf_train_nonsample_acc}')\n",
    "print(f'Test Score: {rf_test_nonsample_acc}')"
   ]
  },
  {
   "cell_type": "markdown",
   "id": "1a9c470e-4420-4922-859f-0460797062a5",
   "metadata": {},
   "source": [
    "<h5> AdaBoost for non sampled data</h5>"
   ]
  },
  {
   "cell_type": "code",
   "execution_count": 63,
   "id": "d3b627b4-5112-4afe-be36-7d94e306b2d1",
   "metadata": {},
   "outputs": [
    {
     "name": "stdout",
     "output_type": "stream",
     "text": [
      "Training Score: 0.8634344786864819\n",
      "Test Score: 0.8639791005305765\n"
     ]
    }
   ],
   "source": [
    "#AdaBoost\n",
    "ada_clf_nonsample = AdaBoostClassifier(\n",
    "    DecisionTreeClassifier(max_depth=1), n_estimators=200,\n",
    "    algorithm=\"SAMME.R\", learning_rate=0.5\n",
    ")\n",
    "ada_clf_nonsample.fit(X_train_scaled, y_train)\n",
    "\n",
    "ada_train_acc_nonsample = ada_clf.score(X_train_scaled, y_train)\n",
    "ada_test_acc_nonsample = ada_clf.score(X_test_scaled, y_test)\n",
    "\n",
    "print(f'Training Score: {ada_train_acc_nonsample}')\n",
    "print(f'Test Score: {ada_test_acc_nonsample}')\n",
    "#print(\"AdaBoost Classifier Accuracy:\", ada_clf.score(X_train_scaled_resampled, y_train_resampled))"
   ]
  },
  {
   "cell_type": "code",
   "execution_count": 64,
   "id": "ca064347-2bc1-4388-b386-070ce74c6d3f",
   "metadata": {},
   "outputs": [],
   "source": [
    "#predictions\n",
    "ada_predict = ada_clf.predict(X_test_scaled)"
   ]
  },
  {
   "cell_type": "code",
   "execution_count": 65,
   "id": "5fc81616-6651-4426-bc21-fa9513b578f5",
   "metadata": {},
   "outputs": [
    {
     "name": "stdout",
     "output_type": "stream",
     "text": [
      "<class 'numpy.ndarray'>\n"
     ]
    },
    {
     "data": {
      "image/png": "[encoded data removed]",
      "text/plain": [
       "<Figure size 640x480 with 2 Axes>"
      ]
     },
     "metadata": {},
     "output_type": "display_data"
    }
   ],
   "source": [
    "# Confustion Matrix to observe the TP,TN,FP and FN\n",
    "confusion_mat_ada = confusion_matrix(y_test, ada_predict, labels = [1, 0])\n",
    "dist = ConfusionMatrixDisplay(confusion_matrix=confusion_mat_ada, display_labels=['1', '0'])\n",
    "dist.plot()\n",
    "\n",
    "# Answer check\n",
    "print(type(confusion_mat_ada))"
   ]
  },
  {
   "cell_type": "markdown",
   "id": "fa23a80d-020f-44d6-a2fc-3ba794677864",
   "metadata": {},
   "source": [
    "<h5> XGBoost for non sampled data</h5> "
   ]
  },
  {
   "cell_type": "markdown",
   "id": "8cc35d15-cd50-4290-877d-50522ae014ed",
   "metadata": {},
   "source": [
    "<h5> As XGBoost uses optimized distributed gradient boosting techinque, i wanted to check how efficient it can be in prediction this dataset. No doubt it is fast and accurate with a 100% accuracy  </h5>"
   ]
  },
  {
   "cell_type": "code",
   "execution_count": 66,
   "id": "a35c3e79-b853-4e22-95b1-bf3450962be8",
   "metadata": {},
   "outputs": [
    {
     "name": "stderr",
     "output_type": "stream",
     "text": [
      "C:\\Users\\pooja\\anaconda3\\envs\\DeepLearning\\Lib\\site-packages\\xgboost\\core.py:158: UserWarning: [22:49:48] WARNING: C:\\buildkite-agent\\builds\\buildkite-windows-cpu-autoscaling-group-i-0015a694724fa8361-1\\xgboost\\xgboost-ci-windows\\src\\learner.cc:740: \n",
      "Parameters: { \"use_label_encoder\" } are not used.\n",
      "\n",
      "  warnings.warn(smsg, UserWarning)\n"
     ]
    },
    {
     "name": "stdout",
     "output_type": "stream",
     "text": [
      "Training Score: 1.0\n",
      "Test Score: 1.0\n"
     ]
    }
   ],
   "source": [
    "# XGBoost classifier\n",
    "xgb_clf_nonsample = xgb.XGBClassifier(use_label_encoder=False, eval_metric='mlogloss')\n",
    "xgb_clf_nonsample.fit(X_train_scaled, y_train)\n",
    "\n",
    "xgb_clf_train_acc_nonsample = xgb_clf_nonsample.score(X_train_scaled, y_train)\n",
    "xgb_clf_test_acc_nonsample = xgb_clf_nonsample.score(X_test_scaled, y_test)\n",
    "\n",
    "print(f'Training Score: {xgb_clf_train_acc_nonsample}')\n",
    "print(f'Test Score: {xgb_clf_test_acc_nonsample}')"
   ]
  },
  {
   "cell_type": "markdown",
   "id": "73e6724b-41bd-4199-a376-44dd059ecf69",
   "metadata": {},
   "source": [
    "<h4> As you see above , the non sampled data also gave 100% accuracy except for Adaboost which is at a 86% accuracy . This will help me take decision on using Adaboost as my final model becasue it can handle the variation in the data and give better model predictions </h4> "
   ]
  },
  {
   "cell_type": "markdown",
   "id": "f752d0bc-ca83-4c5a-8323-b9a9b421681e",
   "metadata": {},
   "source": [
    "<h3> Simple Neural networks for Binary classification model </h3>"
   ]
  },
  {
   "cell_type": "markdown",
   "id": "9c77697c-70a5-4968-81e7-8a837da05794",
   "metadata": {},
   "source": [
    "<h4>  \n",
    "\n",
    "        I will be using nonsampled data for this test. \n",
    "\n",
    "</h4>"
   ]
  },
  {
   "cell_type": "code",
   "execution_count": 67,
   "id": "37507a73-3156-40d2-b66d-1880a476a3ae",
   "metadata": {},
   "outputs": [],
   "source": [
    "#X_test_scaled, y_test\n",
    "#X_train_scaled, y_train"
   ]
  },
  {
   "cell_type": "code",
   "execution_count": 19,
   "id": "a5e6b38c-271c-4460-84ef-6beb2346af28",
   "metadata": {
    "scrolled": true
   },
   "outputs": [
    {
     "name": "stdout",
     "output_type": "stream",
     "text": [
      "Epoch 1/20\n",
      "268859/268859 [==============================] - 1309s 5ms/step - loss: 0.0084 - accuracy: 0.0851\n",
      "Epoch 2/20\n",
      "268859/268859 [==============================] - 1355s 5ms/step - loss: 0.0013 - accuracy: 0.0851\n",
      "Epoch 3/20\n",
      "268859/268859 [==============================] - 1366s 5ms/step - loss: 3.1352e-04 - accuracy: 0.0851\n",
      "Epoch 4/20\n",
      "158598/268859 [================>.............] - ETA: 9:53 - loss: 1.6931e-04 - accuracy: 0.0850"
     ]
    },
    {
     "ename": "KeyboardInterrupt",
     "evalue": "",
     "output_type": "error",
     "traceback": [
      "\u001b[1;31m---------------------------------------------------------------------------\u001b[0m",
      "\u001b[1;31mKeyboardInterrupt\u001b[0m                         Traceback (most recent call last)",
      "Cell \u001b[1;32mIn[19], line 15\u001b[0m\n\u001b[0;32m     10\u001b[0m neural_model\u001b[38;5;241m.\u001b[39mcompile(optimizer\u001b[38;5;241m=\u001b[39m\u001b[38;5;124m\"\u001b[39m\u001b[38;5;124mrmsprop\u001b[39m\u001b[38;5;124m\"\u001b[39m,\n\u001b[0;32m     11\u001b[0m               loss\u001b[38;5;241m=\u001b[39m\u001b[38;5;124m\"\u001b[39m\u001b[38;5;124mbinary_crossentropy\u001b[39m\u001b[38;5;124m\"\u001b[39m,\n\u001b[0;32m     12\u001b[0m               metrics\u001b[38;5;241m=\u001b[39m[\u001b[38;5;124m\"\u001b[39m\u001b[38;5;124maccuracy\u001b[39m\u001b[38;5;124m\"\u001b[39m])\n\u001b[0;32m     14\u001b[0m np\u001b[38;5;241m.\u001b[39mrandom\u001b[38;5;241m.\u001b[39mseed(\u001b[38;5;241m20\u001b[39m)\n\u001b[1;32m---> 15\u001b[0m history \u001b[38;5;241m=\u001b[39m neural_model\u001b[38;5;241m.\u001b[39mfit(x \u001b[38;5;241m=\u001b[39m X_train_scaled,\n\u001b[0;32m     16\u001b[0m                     y \u001b[38;5;241m=\u001b[39m y_train,\n\u001b[0;32m     17\u001b[0m                     epochs\u001b[38;5;241m=\u001b[39m\u001b[38;5;241m20\u001b[39m,\n\u001b[0;32m     18\u001b[0m                     batch_size\u001b[38;5;241m=\u001b[39m\u001b[38;5;241m8\u001b[39m)\n",
      "File \u001b[1;32m~\\anaconda3\\envs\\DeepLearning\\Lib\\site-packages\\keras\\src\\utils\\traceback_utils.py:65\u001b[0m, in \u001b[0;36mfilter_traceback.<locals>.error_handler\u001b[1;34m(*args, **kwargs)\u001b[0m\n\u001b[0;32m     63\u001b[0m filtered_tb \u001b[38;5;241m=\u001b[39m \u001b[38;5;28;01mNone\u001b[39;00m\n\u001b[0;32m     64\u001b[0m \u001b[38;5;28;01mtry\u001b[39;00m:\n\u001b[1;32m---> 65\u001b[0m     \u001b[38;5;28;01mreturn\u001b[39;00m fn(\u001b[38;5;241m*\u001b[39margs, \u001b[38;5;241m*\u001b[39m\u001b[38;5;241m*\u001b[39mkwargs)\n\u001b[0;32m     66\u001b[0m \u001b[38;5;28;01mexcept\u001b[39;00m \u001b[38;5;167;01mException\u001b[39;00m \u001b[38;5;28;01mas\u001b[39;00m e:\n\u001b[0;32m     67\u001b[0m     filtered_tb \u001b[38;5;241m=\u001b[39m _process_traceback_frames(e\u001b[38;5;241m.\u001b[39m__traceback__)\n",
      "File \u001b[1;32m~\\anaconda3\\envs\\DeepLearning\\Lib\\site-packages\\keras\\src\\engine\\training.py:1774\u001b[0m, in \u001b[0;36mModel.fit\u001b[1;34m(self, x, y, batch_size, epochs, verbose, callbacks, validation_split, validation_data, shuffle, class_weight, sample_weight, initial_epoch, steps_per_epoch, validation_steps, validation_batch_size, validation_freq, max_queue_size, workers, use_multiprocessing)\u001b[0m\n\u001b[0;32m   1772\u001b[0m callbacks\u001b[38;5;241m.\u001b[39mon_epoch_begin(epoch)\n\u001b[0;32m   1773\u001b[0m \u001b[38;5;28;01mwith\u001b[39;00m data_handler\u001b[38;5;241m.\u001b[39mcatch_stop_iteration():\n\u001b[1;32m-> 1774\u001b[0m     \u001b[38;5;28;01mfor\u001b[39;00m step \u001b[38;5;129;01min\u001b[39;00m data_handler\u001b[38;5;241m.\u001b[39msteps():\n\u001b[0;32m   1775\u001b[0m         \u001b[38;5;28;01mwith\u001b[39;00m tf\u001b[38;5;241m.\u001b[39mprofiler\u001b[38;5;241m.\u001b[39mexperimental\u001b[38;5;241m.\u001b[39mTrace(\n\u001b[0;32m   1776\u001b[0m             \u001b[38;5;124m\"\u001b[39m\u001b[38;5;124mtrain\u001b[39m\u001b[38;5;124m\"\u001b[39m,\n\u001b[0;32m   1777\u001b[0m             epoch_num\u001b[38;5;241m=\u001b[39mepoch,\n\u001b[1;32m   (...)\u001b[0m\n\u001b[0;32m   1780\u001b[0m             _r\u001b[38;5;241m=\u001b[39m\u001b[38;5;241m1\u001b[39m,\n\u001b[0;32m   1781\u001b[0m         ):\n\u001b[0;32m   1782\u001b[0m             callbacks\u001b[38;5;241m.\u001b[39mon_train_batch_begin(step)\n",
      "File \u001b[1;32m~\\anaconda3\\envs\\DeepLearning\\Lib\\site-packages\\keras\\src\\engine\\data_adapter.py:1411\u001b[0m, in \u001b[0;36mDataHandler.steps\u001b[1;34m(self)\u001b[0m\n\u001b[0;32m   1409\u001b[0m \u001b[38;5;28;01mif\u001b[39;00m \u001b[38;5;28mself\u001b[39m\u001b[38;5;241m.\u001b[39m_insufficient_data:  \u001b[38;5;66;03m# Set by `catch_stop_iteration`.\u001b[39;00m\n\u001b[0;32m   1410\u001b[0m     \u001b[38;5;28;01mbreak\u001b[39;00m\n\u001b[1;32m-> 1411\u001b[0m original_spe \u001b[38;5;241m=\u001b[39m \u001b[38;5;28mself\u001b[39m\u001b[38;5;241m.\u001b[39m_steps_per_execution\u001b[38;5;241m.\u001b[39mnumpy()\u001b[38;5;241m.\u001b[39mitem()\n\u001b[0;32m   1412\u001b[0m can_run_full_execution \u001b[38;5;241m=\u001b[39m (\n\u001b[0;32m   1413\u001b[0m     original_spe \u001b[38;5;241m==\u001b[39m \u001b[38;5;241m1\u001b[39m\n\u001b[0;32m   1414\u001b[0m     \u001b[38;5;129;01mor\u001b[39;00m \u001b[38;5;28mself\u001b[39m\u001b[38;5;241m.\u001b[39m_inferred_steps \u001b[38;5;129;01mis\u001b[39;00m \u001b[38;5;28;01mNone\u001b[39;00m\n\u001b[0;32m   1415\u001b[0m     \u001b[38;5;129;01mor\u001b[39;00m \u001b[38;5;28mself\u001b[39m\u001b[38;5;241m.\u001b[39m_inferred_steps \u001b[38;5;241m-\u001b[39m \u001b[38;5;28mself\u001b[39m\u001b[38;5;241m.\u001b[39m_current_step \u001b[38;5;241m>\u001b[39m\u001b[38;5;241m=\u001b[39m original_spe\n\u001b[0;32m   1416\u001b[0m )\n\u001b[0;32m   1418\u001b[0m \u001b[38;5;28;01mif\u001b[39;00m can_run_full_execution:\n",
      "File \u001b[1;32m~\\anaconda3\\envs\\DeepLearning\\Lib\\site-packages\\tensorflow\\python\\ops\\resource_variable_ops.py:687\u001b[0m, in \u001b[0;36mBaseResourceVariable.numpy\u001b[1;34m(self)\u001b[0m\n\u001b[0;32m    685\u001b[0m \u001b[38;5;28;01mdef\u001b[39;00m \u001b[38;5;21mnumpy\u001b[39m(\u001b[38;5;28mself\u001b[39m):\n\u001b[0;32m    686\u001b[0m   \u001b[38;5;28;01mif\u001b[39;00m context\u001b[38;5;241m.\u001b[39mexecuting_eagerly():\n\u001b[1;32m--> 687\u001b[0m     \u001b[38;5;28;01mreturn\u001b[39;00m \u001b[38;5;28mself\u001b[39m\u001b[38;5;241m.\u001b[39mread_value()\u001b[38;5;241m.\u001b[39mnumpy()\n\u001b[0;32m    688\u001b[0m   \u001b[38;5;28;01mraise\u001b[39;00m \u001b[38;5;167;01mNotImplementedError\u001b[39;00m(\n\u001b[0;32m    689\u001b[0m       \u001b[38;5;124m\"\u001b[39m\u001b[38;5;124mnumpy() is only available when eager execution is enabled.\u001b[39m\u001b[38;5;124m\"\u001b[39m)\n",
      "File \u001b[1;32m~\\anaconda3\\envs\\DeepLearning\\Lib\\site-packages\\tensorflow\\python\\ops\\resource_variable_ops.py:814\u001b[0m, in \u001b[0;36mBaseResourceVariable.read_value\u001b[1;34m(self)\u001b[0m\n\u001b[0;32m    805\u001b[0m \u001b[38;5;250m\u001b[39m\u001b[38;5;124;03m\"\"\"Constructs an op which reads the value of this variable.\u001b[39;00m\n\u001b[0;32m    806\u001b[0m \n\u001b[0;32m    807\u001b[0m \u001b[38;5;124;03mShould be used when there are multiple reads, or when it is desirable to\u001b[39;00m\n\u001b[1;32m   (...)\u001b[0m\n\u001b[0;32m    811\u001b[0m \u001b[38;5;124;03m  The value of the variable.\u001b[39;00m\n\u001b[0;32m    812\u001b[0m \u001b[38;5;124;03m\"\"\"\u001b[39;00m\n\u001b[0;32m    813\u001b[0m \u001b[38;5;28;01mwith\u001b[39;00m ops\u001b[38;5;241m.\u001b[39mname_scope(\u001b[38;5;124m\"\u001b[39m\u001b[38;5;124mRead\u001b[39m\u001b[38;5;124m\"\u001b[39m):\n\u001b[1;32m--> 814\u001b[0m   value \u001b[38;5;241m=\u001b[39m \u001b[38;5;28mself\u001b[39m\u001b[38;5;241m.\u001b[39m_read_variable_op()\n\u001b[0;32m    815\u001b[0m \u001b[38;5;66;03m# Return an identity so it can get placed on whatever device the context\u001b[39;00m\n\u001b[0;32m    816\u001b[0m \u001b[38;5;66;03m# specifies instead of the device where the variable is.\u001b[39;00m\n\u001b[0;32m    817\u001b[0m \u001b[38;5;28;01mreturn\u001b[39;00m array_ops\u001b[38;5;241m.\u001b[39midentity(value)\n",
      "File \u001b[1;32m~\\anaconda3\\envs\\DeepLearning\\Lib\\site-packages\\tensorflow\\python\\ops\\resource_variable_ops.py:793\u001b[0m, in \u001b[0;36mBaseResourceVariable._read_variable_op\u001b[1;34m(self, no_copy)\u001b[0m\n\u001b[0;32m    791\u001b[0m       result \u001b[38;5;241m=\u001b[39m read_and_set_handle(no_copy)\n\u001b[0;32m    792\u001b[0m \u001b[38;5;28;01melse\u001b[39;00m:\n\u001b[1;32m--> 793\u001b[0m   result \u001b[38;5;241m=\u001b[39m read_and_set_handle(no_copy)\n\u001b[0;32m    795\u001b[0m \u001b[38;5;28;01mif\u001b[39;00m \u001b[38;5;129;01mnot\u001b[39;00m context\u001b[38;5;241m.\u001b[39mexecuting_eagerly():\n\u001b[0;32m    796\u001b[0m   \u001b[38;5;66;03m# Note that if a control flow context is active the input of the read op\u001b[39;00m\n\u001b[0;32m    797\u001b[0m   \u001b[38;5;66;03m# might not actually be the handle. This line bypasses it.\u001b[39;00m\n\u001b[0;32m    798\u001b[0m   record\u001b[38;5;241m.\u001b[39mrecord_operation(\n\u001b[0;32m    799\u001b[0m       \u001b[38;5;124m\"\u001b[39m\u001b[38;5;124mReadVariableOp\u001b[39m\u001b[38;5;124m\"\u001b[39m, [result], [\u001b[38;5;28mself\u001b[39m\u001b[38;5;241m.\u001b[39mhandle],\n\u001b[0;32m    800\u001b[0m       backward_function\u001b[38;5;241m=\u001b[39m\u001b[38;5;28;01mlambda\u001b[39;00m x: [x],\n\u001b[0;32m    801\u001b[0m       forward_function\u001b[38;5;241m=\u001b[39m\u001b[38;5;28;01mlambda\u001b[39;00m x: [x])\n",
      "File \u001b[1;32m~\\anaconda3\\envs\\DeepLearning\\Lib\\site-packages\\tensorflow\\python\\ops\\resource_variable_ops.py:783\u001b[0m, in \u001b[0;36mBaseResourceVariable._read_variable_op.<locals>.read_and_set_handle\u001b[1;34m(no_copy)\u001b[0m\n\u001b[0;32m    781\u001b[0m \u001b[38;5;28;01mif\u001b[39;00m no_copy \u001b[38;5;129;01mand\u001b[39;00m forward_compat\u001b[38;5;241m.\u001b[39mforward_compatible(\u001b[38;5;241m2022\u001b[39m, \u001b[38;5;241m5\u001b[39m, \u001b[38;5;241m3\u001b[39m):\n\u001b[0;32m    782\u001b[0m   gen_resource_variable_ops\u001b[38;5;241m.\u001b[39mdisable_copy_on_read(\u001b[38;5;28mself\u001b[39m\u001b[38;5;241m.\u001b[39mhandle)\n\u001b[1;32m--> 783\u001b[0m result \u001b[38;5;241m=\u001b[39m gen_resource_variable_ops\u001b[38;5;241m.\u001b[39mread_variable_op(\n\u001b[0;32m    784\u001b[0m     \u001b[38;5;28mself\u001b[39m\u001b[38;5;241m.\u001b[39mhandle, \u001b[38;5;28mself\u001b[39m\u001b[38;5;241m.\u001b[39m_dtype)\n\u001b[0;32m    785\u001b[0m _maybe_set_handle_data(\u001b[38;5;28mself\u001b[39m\u001b[38;5;241m.\u001b[39m_dtype, \u001b[38;5;28mself\u001b[39m\u001b[38;5;241m.\u001b[39mhandle, result)\n\u001b[0;32m    786\u001b[0m \u001b[38;5;28;01mreturn\u001b[39;00m result\n",
      "File \u001b[1;32m~\\anaconda3\\envs\\DeepLearning\\Lib\\site-packages\\tensorflow\\python\\ops\\gen_resource_variable_ops.py:589\u001b[0m, in \u001b[0;36mread_variable_op\u001b[1;34m(resource, dtype, name)\u001b[0m\n\u001b[0;32m    587\u001b[0m \u001b[38;5;28;01mif\u001b[39;00m tld\u001b[38;5;241m.\u001b[39mis_eager:\n\u001b[0;32m    588\u001b[0m   \u001b[38;5;28;01mtry\u001b[39;00m:\n\u001b[1;32m--> 589\u001b[0m     _result \u001b[38;5;241m=\u001b[39m pywrap_tfe\u001b[38;5;241m.\u001b[39mTFE_Py_FastPathExecute(\n\u001b[0;32m    590\u001b[0m       _ctx, \u001b[38;5;124m\"\u001b[39m\u001b[38;5;124mReadVariableOp\u001b[39m\u001b[38;5;124m\"\u001b[39m, name, resource, \u001b[38;5;124m\"\u001b[39m\u001b[38;5;124mdtype\u001b[39m\u001b[38;5;124m\"\u001b[39m, dtype)\n\u001b[0;32m    591\u001b[0m     \u001b[38;5;28;01mreturn\u001b[39;00m _result\n\u001b[0;32m    592\u001b[0m   \u001b[38;5;28;01mexcept\u001b[39;00m _core\u001b[38;5;241m.\u001b[39m_NotOkStatusException \u001b[38;5;28;01mas\u001b[39;00m e:\n",
      "\u001b[1;31mKeyboardInterrupt\u001b[0m: "
     ]
    }
   ],
   "source": [
    "tf.random.set_seed(42)\n",
    "neural_model = keras.Sequential([\n",
    "    layers.Dense(16, activation=\"relu\"),\n",
    "    layers.Dense(16, activation=\"relu\"),\n",
    "    layers.Dense(16, activation=\"relu\"),\n",
    "    layers.Dense(1, activation=\"softmax\")\n",
    "])\n",
    "\n",
    "tf.random.set_seed(42)\n",
    "neural_model.compile(optimizer=\"rmsprop\",\n",
    "              loss=\"binary_crossentropy\",\n",
    "              metrics=[\"accuracy\"])\n",
    "\n",
    "np.random.seed(20)\n",
    "history = neural_model.fit(x = X_train_scaled,\n",
    "                    y = y_train,\n",
    "                    epochs=20,\n",
    "                    batch_size=8)"
   ]
  },
  {
   "cell_type": "markdown",
   "id": "7b693942-3728-4736-83a1-145fb7bffdd6",
   "metadata": {},
   "source": [
    "<h3> The above error is becasue i interuppted the kernel while running. Since the run was going to take more than 5 hours with an estimation of 20 minutes per epoch. I have attempted another run with just 5 epochs for unndersampled data for fasters results as below </h3>"
   ]
  },
  {
   "cell_type": "markdown",
   "id": "24555758-48f0-46a7-acf3-2ee1b4b5093f",
   "metadata": {},
   "source": [
    "<h4>  \n",
    "\n",
    "        Another Neural Networks run where, I will be using undersampled data for this test. \n",
    "\n",
    "</h4>"
   ]
  },
  {
   "cell_type": "code",
   "execution_count": 68,
   "id": "797fcba9-4782-4800-bd33-b9ad2be9e897",
   "metadata": {},
   "outputs": [],
   "source": [
    "#X_train_scaled_resampled, y_train_resampled\n",
    "#X_test_scaled_resampled, y_test_resampled"
   ]
  },
  {
   "cell_type": "code",
   "execution_count": 27,
   "id": "4e7a9754-7efd-4cfa-a45f-4483208f70ad",
   "metadata": {},
   "outputs": [
    {
     "name": "stdout",
     "output_type": "stream",
     "text": [
      "Epoch 1/5\n",
      "45773/45773 [==============================] - 73s 2ms/step - loss: 0.0092 - accuracy: 0.5001\n",
      "Epoch 2/5\n",
      "45773/45773 [==============================] - 73s 2ms/step - loss: 4.0825e-04 - accuracy: 0.5001\n",
      "Epoch 3/5\n",
      "45773/45773 [==============================] - 73s 2ms/step - loss: 1.8070e-04 - accuracy: 0.5001\n",
      "Epoch 4/5\n",
      "45773/45773 [==============================] - 73s 2ms/step - loss: 1.0887e-04 - accuracy: 0.5001\n",
      "Epoch 5/5\n",
      "45773/45773 [==============================] - 73s 2ms/step - loss: 8.4051e-05 - accuracy: 0.5001\n"
     ]
    }
   ],
   "source": [
    "tf.random.set_seed(42)\n",
    "neural_model = keras.Sequential([\n",
    "    layers.Dense(16, activation=\"relu\"),\n",
    "    layers.Dense(16, activation=\"relu\"),\n",
    "    layers.Dense(16, activation=\"relu\"),\n",
    "    layers.Dense(1, activation=\"softmax\")\n",
    "])\n",
    "\n",
    "tf.random.set_seed(42)\n",
    "neural_model.compile(optimizer=\"rmsprop\",\n",
    "              loss=\"binary_crossentropy\",\n",
    "              metrics=[\"accuracy\"])\n",
    "\n",
    "np.random.seed(20)\n",
    "history = neural_model.fit(x = X_train_scaled_resampled,\n",
    "                    y = y_train_resampled,\n",
    "                    epochs=5,\n",
    "                    batch_size=8)"
   ]
  },
  {
   "cell_type": "code",
   "execution_count": 29,
   "id": "107d0add-aebd-42d5-b844-a290dd33d0ae",
   "metadata": {},
   "outputs": [
    {
     "name": "stdout",
     "output_type": "stream",
     "text": [
      "11444/11444 [==============================] - 15s 1ms/step - loss: 1.1454e-04 - accuracy: 0.5001\n",
      "Loss: 0.00011453902698121965\n",
      "Accuracy: 0.5001460909843445\n"
     ]
    }
   ],
   "source": [
    "# Model evaluation\n",
    "tf.random.set_seed(42)\n",
    "model_evaluation = neural_model.evaluate(X_train_scaled_resampled, y_train_resampled)\n",
    "model_loss = model_evaluation[0]\n",
    "model_acc = model_evaluation[1]\n",
    "\n",
    "print(f'Loss: {model_loss}')\n",
    "print(f'Accuracy: {model_acc}')"
   ]
  },
  {
   "cell_type": "markdown",
   "id": "44ebd295-8a44-4349-b277-909c1002ac9e",
   "metadata": {},
   "source": [
    "<h3> Using Neural networks on the undersampled data gave an accuracy of 50%. This is an eye opener how the neural networks is powerful. The research on how to impove this neural network to get a better accuracy will be my <b>future recommendation</b> for this project. </h3>"
   ]
  },
  {
   "cell_type": "markdown",
   "id": "22805948-ce91-49c9-bd88-fc0f9cdfb914",
   "metadata": {},
   "source": [
    "<h3> Feature Importance for AdaBoost </h3>"
   ]
  },
  {
   "cell_type": "code",
   "execution_count": 69,
   "id": "57c72541-20d4-4bb3-95bf-54838cb094d0",
   "metadata": {},
   "outputs": [
    {
     "data": {
      "text/plain": [
       "array([0.        , 0.        , 0.        , 0.        , 0.        ,\n",
       "       0.15568654, 0.        , 0.        , 0.        , 0.        ])"
      ]
     },
     "execution_count": 69,
     "metadata": {},
     "output_type": "execute_result"
    }
   ],
   "source": [
    "#feature importance evaluation :\n",
    "r1 = permutation_importance(ada_clf_nonsample, X_test_scaled, y_test, random_state = 42)\n",
    "r1.importances_mean"
   ]
  },
  {
   "cell_type": "code",
   "execution_count": 71,
   "id": "67624a2b-1eda-4b98-bd50-c52576b651a9",
   "metadata": {},
   "outputs": [
    {
     "name": "stdout",
     "output_type": "stream",
     "text": [
      "('Actual_Shipment_Time', 0.0)\n",
      "('Planned_Shipment_Time', 0.0)\n",
      "('Planned_Delivery_Time', 0.0)\n",
      "('Carrier_Num', 0.0)\n",
      "('Planned_TimeofTravel', 0.0)\n",
      "('Shipment_Delay', 0.155686541433505)\n",
      "('Distance', 0.0)\n",
      "('Carrier_Name_coder', 0.0)\n",
      "('Destination_coder', 0.0)\n",
      "('Source_coder', 0.0)\n"
     ]
    }
   ],
   "source": [
    "for i in zip(X.columns, r1.importances_mean):\n",
    "    print(i)"
   ]
  },
  {
   "cell_type": "code",
   "execution_count": null,
   "id": "e84b7a8e-5a60-4dfe-9ff5-9a42eee1d533",
   "metadata": {},
   "outputs": [],
   "source": []
  },
  {
   "cell_type": "markdown",
   "id": "8398b17f-8bda-480c-875b-26b18278297d",
   "metadata": {},
   "source": [
    "<h3> Future Recommendations </h3>"
   ]
  },
  {
   "cell_type": "markdown",
   "id": "71425775-3cf9-4102-95b2-2b260c806be8",
   "metadata": {},
   "source": [
    "| Feature | <center> Recommendation </center> | Coefficient Value | Impact | Interpretation \n",
    "| :- | -: | -: | -: | :-: |\n",
    "| Actual_Shipment_Time | <center> No specific recommendation needed based on this feature. </center>  | 0.0 | None | Does not contribe in predicting the delivery of package on time |\n",
    "| Planned_Shipment_Time | <center> No specific recommendation needed based on this feature. </center> | 0.0 | None | Does not contribe in predicting the delivery of package on time |\n",
    "| Planned_Delivery_Time | <center> No specific recommendation needed based on this feature. </center> | 0.0 | None | Does not contribe in predicting the delivery of package on time |\n",
    "| Carrier_Num | <center> No specific recommendation needed based on this feature. </center> | 0.0 | None | Does not contribe in predicting the delivery of package on time |\n",
    "| Planned_TimeofTravel | <center> No specific recommendation needed based on this feature. </center> | 0.0 | None | Does not contribe in predicting the delivery of package on time |\n",
    "| Shipment_Delay | <center>  Recommendation is reducing the shipment delaytime will impove the pacakge delivery </center> | 0.1556 | Significant Positive | This feature is important for a pacakge delivery becasue if a package is delayed chances are package will be lost or delayed. |\n",
    "| Distance | <center> No specific recommendation needed based on this feature. </center> | 0.0 | None | Does not contribe in predicting the delivery of package on time |\n",
    "| Carrier_Name_coder | <center> No specific recommendation needed based on this feature. </center>| 0.0 | None | Does not contribe in predicting the delivery of package on time|\n",
    "| Destination_coder | <center> No specific recommendation needed based on this feature. </center> | 0.0 | None | Does not contribe in predicting the delivery of package on time |\n",
    "| Source_coder | <center> No specific recommendation needed based on this feature. </center> | 0.0 | None | Does not contribe in predicting the delivery of package on time |"
   ]
  },
  {
   "cell_type": "markdown",
   "id": "acb9fa2f-8b7e-4e3e-a4df-b20941da755c",
   "metadata": {},
   "source": [
    "<h5>Shipment Delay feature is also the highly correlated feature as observed in the EDA </h5>"
   ]
  },
  {
   "cell_type": "markdown",
   "id": "46ad0c54-4df3-43cc-a968-b5466101e166",
   "metadata": {},
   "source": [
    "<h3> Concluding on the model for deployment </h3>"
   ]
  },
  {
   "cell_type": "markdown",
   "id": "6b70eb65-9f40-4f5b-8b96-88dfc9675d43",
   "metadata": {},
   "source": [
    "<h3> Based on the above results the best model i will be go forward for the deployment is Adaboost on the non-sampled data which has an accuracy of 86%. Next steps are to convert this notebook to a pickle file to save the model and used it to load in any other environment. </h3>"
   ]
  },
  {
   "cell_type": "markdown",
   "id": "5942b7ed-6894-47ef-9aaa-a1ea29cec36f",
   "metadata": {},
   "source": [
    "<h4> The deployment process involves several steps, from planning and model development to optimization, containerization, and continuous monitoring and maintenance. By focusing on important aspects like data storage, choosing appropriate frameworks, collecting feedback, and automating deployment and testing, teams can streamline the deployment process. <b> My next step will be to create an app via Streamlit for a UI effect and get the model predictions available for any user. </b> <h4>"
   ]
  },
  {
   "cell_type": "code",
   "execution_count": null,
   "id": "3b619335-4d48-4b8f-927c-88c4eebc639f",
   "metadata": {},
   "outputs": [],
   "source": []
  }
 ],
 "metadata": {
  "kernelspec": {
   "display_name": "Python 3 (ipykernel)",
   "language": "python",
   "name": "python3"
  },
  "language_info": {
   "codemirror_mode": {
    "name": "ipython",
    "version": 3
   },
   "file_extension": ".py",
   "mimetype": "text/x-python",
   "name": "python",
   "nbconvert_exporter": "python",
   "pygments_lexer": "ipython3",
   "version": "3.11.9"
  }
 },
 "nbformat": 4,
 "nbformat_minor": 5
}
